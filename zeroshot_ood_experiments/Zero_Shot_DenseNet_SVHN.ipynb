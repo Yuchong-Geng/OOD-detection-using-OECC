{
  "nbformat": 4,
  "nbformat_minor": 0,
  "metadata": {
    "kernelspec": {
      "display_name": "Python 2",
      "language": "python",
      "name": "python2"
    },
    "language_info": {
      "codemirror_mode": {
        "name": "ipython",
        "version": 2
      },
      "file_extension": ".py",
      "mimetype": "text/x-python",
      "name": "python",
      "nbconvert_exporter": "python",
      "pygments_lexer": "ipython2",
      "version": "2.7.13"
    },
    "colab": {
      "name": "Zero_Shot_DenseNet_SVHN.ipynb",
      "provenance": []
    }
  },
  "cells": [
    {
      "cell_type": "markdown",
      "metadata": {
        "id": "F_0LyH1NHxde",
        "colab_type": "text"
      },
      "source": [
        "<center><h1>DenseNet: SVHN</h1></center>"
      ]
    },
    {
      "cell_type": "markdown",
      "metadata": {
        "id": "CPrzMBM0Hxdg",
        "colab_type": "text"
      },
      "source": [
        "## Imports"
      ]
    },
    {
      "cell_type": "code",
      "metadata": {
        "ExecuteTime": {
          "end_time": "2019-11-25T01:01:22.929937Z",
          "start_time": "2019-11-25T01:01:22.908155Z"
        },
        "id": "WFWsWxRmHxdh",
        "colab_type": "code",
        "colab": {},
        "outputId": "3ab1bb87-dde8-4cb2-b78b-399994ab1836"
      },
      "source": [
        "from __future__ import division,print_function\n",
        "\n",
        "%matplotlib inline\n",
        "%load_ext autoreload\n",
        "%autoreload 2\n",
        "\n",
        "import sys\n",
        "from tqdm import tqdm_notebook as tqdm\n",
        "\n",
        "import random\n",
        "import matplotlib.pyplot as plt\n",
        "import math\n",
        "\n",
        "import numpy as np\n",
        "\n",
        "import torch\n",
        "import torch.nn as nn\n",
        "import torch.nn.functional as F\n",
        "import torch.optim as optim\n",
        "import torch.nn.init as init\n",
        "from torch.autograd import Variable, grad\n",
        "from torchvision import datasets, transforms\n",
        "from torch.nn.parameter import Parameter\n",
        "\n",
        "import zero_shot_calculate_log as callog\n",
        "\n",
        "import warnings\n",
        "warnings.filterwarnings('ignore')"
      ],
      "execution_count": 0,
      "outputs": [
        {
          "output_type": "stream",
          "text": [
            "The autoreload extension is already loaded. To reload it, use:\n",
            "  %reload_ext autoreload\n"
          ],
          "name": "stdout"
        }
      ]
    },
    {
      "cell_type": "code",
      "metadata": {
        "ExecuteTime": {
          "end_time": "2019-11-25T01:01:23.219835Z",
          "start_time": "2019-11-25T01:01:23.189329Z"
        },
        "id": "Qj1YVWKpHxdp",
        "colab_type": "code",
        "colab": {}
      },
      "source": [
        "torch.cuda.set_device(1) #Select the GPU"
      ],
      "execution_count": 0,
      "outputs": []
    },
    {
      "cell_type": "markdown",
      "metadata": {
        "id": "TnCaltlIHxdv",
        "colab_type": "text"
      },
      "source": [
        "## Model definition"
      ]
    },
    {
      "cell_type": "code",
      "metadata": {
        "ExecuteTime": {
          "end_time": "2019-11-25T01:02:36.360315Z",
          "start_time": "2019-11-25T01:02:31.733223Z"
        },
        "id": "oTFekqucHxdw",
        "colab_type": "code",
        "colab": {},
        "outputId": "4e99adea-9ef3-4cb3-ebb0-28b3449f63d0"
      },
      "source": [
        "def conv3x3(in_planes, out_planes, stride=1):\n",
        "    return nn.Conv2d(in_planes, out_planes, kernel_size=3, stride=stride, padding=1, bias=False)\n",
        "\n",
        "def G_p(ob, p):\n",
        "    temp = ob.detach()\n",
        "    \n",
        "    temp = temp**p\n",
        "    temp = temp.reshape(temp.shape[0],temp.shape[1],-1)\n",
        "    temp = ((torch.matmul(temp,temp.transpose(dim0=2,dim1=1)))).sum(dim=2)\n",
        "    temp = (temp.sign()*torch.abs(temp)**(1/p)).reshape(temp.shape[0],-1)\n",
        "    \n",
        "    return temp\n",
        "\n",
        "\n",
        "class BottleneckBlock(nn.Module):\n",
        "    def __init__(self, in_planes, out_planes, dropRate=0.0):\n",
        "        super(BottleneckBlock, self).__init__()\n",
        "        inter_planes = out_planes * 4\n",
        "        self.bn1 = nn.BatchNorm2d(in_planes)\n",
        "        self.relu = nn.ReLU(inplace=True)\n",
        "        self.conv1 = nn.Conv2d(in_planes, inter_planes, kernel_size=1, stride=1,\n",
        "                               padding=0, bias=False)\n",
        "        self.bn2 = nn.BatchNorm2d(inter_planes)\n",
        "        self.conv2 = nn.Conv2d(inter_planes, out_planes, kernel_size=3, stride=1,\n",
        "                               padding=1, bias=False)\n",
        "        self.droprate = dropRate\n",
        "    \n",
        "    def forward(self, x):\n",
        "        \n",
        "        out = self.conv1(self.relu(self.bn1(x)))\n",
        "        \n",
        "        torch_model.record(out)\n",
        "        \n",
        "        if self.droprate > 0:\n",
        "            out = F.dropout(out, p=self.droprate, inplace=False, training=self.training)\n",
        "        \n",
        "        out = self.conv2(self.relu(self.bn2(out)))\n",
        "        torch_model.record(out)\n",
        "        \n",
        "        if self.droprate > 0:\n",
        "            out = F.dropout(out, p=self.droprate, inplace=False, training=self.training)\n",
        "        return torch.cat([x, out], 1)\n",
        "\n",
        "class TransitionBlock(nn.Module):\n",
        "    def __init__(self, in_planes, out_planes, dropRate=0.0):\n",
        "        super(TransitionBlock, self).__init__()\n",
        "        self.bn1 = nn.BatchNorm2d(in_planes)\n",
        "        self.relu = nn.ReLU(inplace=True)\n",
        "        self.conv1 = nn.Conv2d(in_planes, out_planes, kernel_size=1, stride=1,\n",
        "                               padding=0, bias=False)\n",
        "        self.droprate = dropRate\n",
        "    \n",
        "    def forward(self, x):\n",
        "        t=self.relu(self.bn1(x))\n",
        "        out = self.conv1(t)\n",
        "        \n",
        "        torch_model.record(t)\n",
        "        torch_model.record(out)\n",
        "        \n",
        "        if self.droprate > 0:\n",
        "            out = F.dropout(out, p=self.droprate, inplace=False, training=self.training)\n",
        "        return F.avg_pool2d(out, 2)\n",
        "\n",
        "class DenseBlock(nn.Module):\n",
        "    def __init__(self, nb_layers, in_planes, growth_rate, block, dropRate=0.0):\n",
        "        super(DenseBlock, self).__init__()\n",
        "        self.layer = self._make_layer(block, in_planes, growth_rate, nb_layers, dropRate)\n",
        "    \n",
        "    def _make_layer(self, block, in_planes, growth_rate, nb_layers, dropRate):\n",
        "        layers = []\n",
        "        for i in range(int(nb_layers)):\n",
        "            layers.append(block(in_planes+i*growth_rate, growth_rate, dropRate))\n",
        "        return nn.Sequential(*layers)\n",
        "    \n",
        "    def forward(self, x):\n",
        "        t = self.layer(x)\n",
        "        torch_model.record(t)\n",
        "        return t\n",
        "\n",
        "\n",
        "class DenseNet3(nn.Module):\n",
        "    def __init__(self, depth, num_classes, growth_rate=12,\n",
        "                 reduction=0.5, bottleneck=True, dropRate=0.0):\n",
        "        super(DenseNet3, self).__init__()\n",
        "        \n",
        "        self.collecting = False\n",
        "        \n",
        "        \n",
        "        \n",
        "        in_planes = 2 * growth_rate\n",
        "        n = (depth - 4) / 3\n",
        "        if bottleneck == True:\n",
        "            n = n/2\n",
        "            block = BottleneckBlock\n",
        "        else:\n",
        "            block = BasicBlock\n",
        "        # 1st conv before any dense block\n",
        "        self.conv1 = nn.Conv2d(3, in_planes, kernel_size=3, stride=1,\n",
        "                               padding=1, bias=False)\n",
        "        # 1st block\n",
        "        self.block1 = DenseBlock(n, in_planes, growth_rate, block, dropRate)\n",
        "        in_planes = int(in_planes+n*growth_rate)\n",
        "        self.trans1 = TransitionBlock(in_planes, int(math.floor(in_planes*reduction)), dropRate=dropRate)\n",
        "        in_planes = int(math.floor(in_planes*reduction))\n",
        "        # 2nd block\n",
        "        self.block2 = DenseBlock(n, in_planes, growth_rate, block, dropRate)\n",
        "        in_planes = int(in_planes+n*growth_rate)\n",
        "        self.trans2 = TransitionBlock(in_planes, int(math.floor(in_planes*reduction)), dropRate=dropRate)\n",
        "        in_planes = int(math.floor(in_planes*reduction))\n",
        "        # 3rd block\n",
        "        self.block3 = DenseBlock(n, in_planes, growth_rate, block, dropRate)\n",
        "        in_planes = int(in_planes+n*growth_rate)\n",
        "        # global average pooling and classifier\n",
        "        self.bn1 = nn.BatchNorm2d(in_planes)\n",
        "        self.relu = nn.ReLU(inplace=True)\n",
        "        self.fc = nn.Linear(in_planes, num_classes)\n",
        "        self.in_planes = in_planes\n",
        "\n",
        "        for m in self.modules():\n",
        "            if isinstance(m, nn.Conv2d):\n",
        "                n = m.kernel_size[0] * m.kernel_size[1] * m.out_channels\n",
        "                m.weight.data.normal_(0, math.sqrt(2. / n))\n",
        "            elif isinstance(m, nn.BatchNorm2d):\n",
        "                m.weight.data.fill_(1)\n",
        "                m.bias.data.zero_()\n",
        "            elif isinstance(m, nn.Linear):\n",
        "                m.bias.data.zero_()\n",
        "                    \n",
        "    def forward(self, x):\n",
        "        out = self.conv1(x)\n",
        "        self.record(out)\n",
        "        out = self.trans1(self.block1(out))\n",
        "        out = self.trans2(self.block2(out))\n",
        "        out = self.block3(out)\n",
        "        out = self.relu(self.bn1(out))\n",
        "        self.record(out)\n",
        "        out = F.avg_pool2d(out, 8)\n",
        "        out = out.view(-1, self.in_planes)\n",
        "        return self.fc(out)\n",
        "    \n",
        "    def load(self, path=\"densenet_svhn.pth\"):\n",
        "        tm = torch.load(path,map_location=\"cpu\")\n",
        "        self.load_state_dict(tm,strict=False)\n",
        "    \n",
        "    def record(self, t):\n",
        "        if self.collecting:\n",
        "            self.gram_feats.append(t)\n",
        "    \n",
        "    def gram_feature_list(self,x):\n",
        "        self.collecting = True\n",
        "        self.gram_feats = []\n",
        "        self.forward(x)\n",
        "        self.collecting = False\n",
        "        temp = self.gram_feats\n",
        "        self.gram_feats = []\n",
        "        return temp\n",
        "    \n",
        "    def get_min_max(self, data, power):\n",
        "        mins = []\n",
        "        maxs = []\n",
        "        \n",
        "        for i in range(0,len(data),128):\n",
        "            batch = data[i:i+128].cuda()\n",
        "            feat_list = self.gram_feature_list(batch)\n",
        "            for L,feat_L in enumerate(feat_list):\n",
        "                if L==len(mins):\n",
        "                    mins.append([None]*len(power))\n",
        "                    maxs.append([None]*len(power))\n",
        "                \n",
        "                for p,P in enumerate(power):\n",
        "                    g_p = G_p(feat_L,P)\n",
        "                    \n",
        "                    current_min = g_p.min(dim=0,keepdim=True)[0]\n",
        "                    current_max = g_p.max(dim=0,keepdim=True)[0]\n",
        "                    \n",
        "                    if mins[L][p] is None:\n",
        "                        mins[L][p] = current_min\n",
        "                        maxs[L][p] = current_max\n",
        "                    else:\n",
        "                        mins[L][p] = torch.min(current_min,mins[L][p])\n",
        "                        maxs[L][p] = torch.max(current_max,maxs[L][p])\n",
        "        \n",
        "        return mins,maxs\n",
        "    \n",
        "    def get_deviations(self,data,power,mins,maxs):\n",
        "        deviations = []\n",
        "        \n",
        "        for i in range(0,len(data),128):            \n",
        "            batch = data[i:i+128].cuda()\n",
        "            feat_list = self.gram_feature_list(batch)\n",
        "            batch_deviations = []\n",
        "            for L,feat_L in enumerate(feat_list):\n",
        "                dev = 0\n",
        "                for p,P in enumerate(power):\n",
        "                    g_p = G_p(feat_L,P)\n",
        "                    \n",
        "                    dev +=  (F.relu(mins[L][p]-g_p)/torch.abs(mins[L][p]+10**-6)).sum(dim=1,keepdim=True)\n",
        "                    dev +=  (F.relu(g_p-maxs[L][p])/torch.abs(maxs[L][p]+10**-6)).sum(dim=1,keepdim=True)\n",
        "                batch_deviations.append(dev.cpu().detach().numpy())\n",
        "            batch_deviations = np.concatenate(batch_deviations,axis=1)\n",
        "            deviations.append(batch_deviations)\n",
        "        deviations = np.concatenate(deviations,axis=0)\n",
        "        \n",
        "        return deviations\n",
        "\n",
        "torch_model = DenseNet3(100, num_classes=10)\n",
        "torch_model.load('./results/Zero_Shot/Zero_Shot_svhn_densenet_OECC_tune_epoch_4.pth')\n",
        "torch_model.cuda()\n",
        "torch_model.params = list(torch_model.parameters())\n",
        "torch_model.eval()\n",
        "print(\"Done\")  "
      ],
      "execution_count": 0,
      "outputs": [
        {
          "output_type": "stream",
          "text": [
            "Done\n"
          ],
          "name": "stdout"
        }
      ]
    },
    {
      "cell_type": "markdown",
      "metadata": {
        "id": "eVtU3hHIHxd1",
        "colab_type": "text"
      },
      "source": [
        "## Datasets"
      ]
    },
    {
      "cell_type": "markdown",
      "metadata": {
        "id": "eP1RFwWNHxd2",
        "colab_type": "text"
      },
      "source": [
        "<b>In-distribution Datasets</b>"
      ]
    },
    {
      "cell_type": "code",
      "metadata": {
        "ExecuteTime": {
          "end_time": "2019-11-25T01:06:26.425296Z",
          "start_time": "2019-11-25T01:06:21.919512Z"
        },
        "id": "Vl2Q2a8THxd2",
        "colab_type": "code",
        "colab": {},
        "outputId": "809eec28-a641-4c5e-c64d-060ccf60cd9d"
      },
      "source": [
        "batch_size = 128\n",
        "mean = np.array([[125.3/255, 123.0/255, 113.9/255]]).T\n",
        "\n",
        "std = np.array([[63.0/255, 62.1/255.0, 66.7/255.0]]).T\n",
        "normalize = transforms.Normalize((125.3/255, 123.0/255, 113.9/255), (63.0/255, 62.1/255.0, 66.7/255.0))\n",
        "\n",
        "transform_train = transforms.Compose([\n",
        "        transforms.RandomCrop(32, padding=4),\n",
        "        transforms.RandomHorizontalFlip(),\n",
        "        transforms.ToTensor(),\n",
        "        normalize\n",
        "        \n",
        "    ])\n",
        "transform_test = transforms.Compose([\n",
        "    transforms.CenterCrop(size=(32, 32)),\n",
        "        transforms.ToTensor(),\n",
        "        normalize\n",
        "    ])\n",
        "\n",
        "train_loader = torch.utils.data.DataLoader(\n",
        "    datasets.SVHN('data/svhn-data', split=\"train\", download=True,\n",
        "                   transform=transform_train),\n",
        "    batch_size=batch_size, shuffle=True)\n",
        "test_loader = torch.utils.data.DataLoader(\n",
        "    datasets.SVHN('data/svhn-data', split=\"test\", transform=transform_test),\n",
        "    batch_size=batch_size)\n"
      ],
      "execution_count": 0,
      "outputs": [
        {
          "output_type": "stream",
          "text": [
            "Using downloaded and verified file: data/svhn-data/train_32x32.mat\n"
          ],
          "name": "stdout"
        }
      ]
    },
    {
      "cell_type": "code",
      "metadata": {
        "ExecuteTime": {
          "end_time": "2019-11-25T01:06:54.535884Z",
          "start_time": "2019-11-25T01:06:32.061595Z"
        },
        "scrolled": true,
        "id": "4xjkSNByHxd8",
        "colab_type": "code",
        "colab": {},
        "outputId": "8c9d6c23-1aaf-4b61-bebf-c77779d51eeb"
      },
      "source": [
        "data_train = list(list(torch.utils.data.DataLoader(\n",
        "    datasets.SVHN('data/svhn-data', split=\"train\", download=True,\n",
        "                   transform=transform_test),\n",
        "    batch_size=1, shuffle=True)))"
      ],
      "execution_count": 0,
      "outputs": [
        {
          "output_type": "stream",
          "text": [
            "Using downloaded and verified file: data/svhn-data/train_32x32.mat\n"
          ],
          "name": "stdout"
        }
      ]
    },
    {
      "cell_type": "code",
      "metadata": {
        "ExecuteTime": {
          "end_time": "2019-11-25T01:07:02.806499Z",
          "start_time": "2019-11-25T01:06:54.539973Z"
        },
        "id": "KfyWX3kMHxeC",
        "colab_type": "code",
        "colab": {},
        "outputId": "7821ce7b-8dab-4535-a6f9-7b4bab2a30d3"
      },
      "source": [
        "data = list(list(torch.utils.data.DataLoader(\n",
        "    datasets.SVHN('data/svhn-data', split=\"test\", download=True,\n",
        "                   transform=transform_test),\n",
        "    batch_size=1, shuffle=False)))"
      ],
      "execution_count": 0,
      "outputs": [
        {
          "output_type": "stream",
          "text": [
            "Using downloaded and verified file: data/svhn-data/test_32x32.mat\n"
          ],
          "name": "stdout"
        }
      ]
    },
    {
      "cell_type": "code",
      "metadata": {
        "id": "jIwm-OIvHxeH",
        "colab_type": "code",
        "colab": {},
        "outputId": "0ef9ce7e-e54b-4f3f-c516-f04c16226072"
      },
      "source": [
        "torch_model.eval()\n",
        "correct = 0\n",
        "total = 0\n",
        "for x,y in test_loader:\n",
        "    x = x.cuda()\n",
        "    y = y.numpy()\n",
        "    correct += (y==np.argmax(torch_model(x).detach().cpu().numpy(),axis=1)).sum()\n",
        "    total += y.shape[0]\n",
        "print(\"Accuracy: \",correct/total)\n"
      ],
      "execution_count": 0,
      "outputs": [
        {
          "output_type": "stream",
          "text": [
            "Accuracy:  0.9637753534111863\n"
          ],
          "name": "stdout"
        }
      ]
    },
    {
      "cell_type": "markdown",
      "metadata": {
        "id": "VffKYxBCHxeQ",
        "colab_type": "text"
      },
      "source": [
        "<b>Out-of-distribution Datasets</b>"
      ]
    },
    {
      "cell_type": "code",
      "metadata": {
        "ExecuteTime": {
          "end_time": "2019-11-25T01:08:41.107580Z",
          "start_time": "2019-11-25T01:08:35.598856Z"
        },
        "id": "8-mY8oLwHxeR",
        "colab_type": "code",
        "colab": {},
        "outputId": "d40b1132-05ae-4c56-da67-80f0432dddca"
      },
      "source": [
        "CIFAR10 = list(torch.utils.data.DataLoader(\n",
        "    datasets.CIFAR10('data/cifar10-data', train=False, download=True,\n",
        "                   transform=transform_test),\n",
        "    batch_size=1, shuffle=False))"
      ],
      "execution_count": 0,
      "outputs": [
        {
          "output_type": "stream",
          "text": [
            "Files already downloaded and verified\n"
          ],
          "name": "stdout"
        }
      ]
    },
    {
      "cell_type": "code",
      "metadata": {
        "id": "QzcA3CwcHxeW",
        "colab_type": "code",
        "colab": {}
      },
      "source": [
        "# isun = list(torch.utils.data.DataLoader(\n",
        "#     datasets.ImageFolder(\"iSUN/\",transform=transform_test),batch_size=1,shuffle=False))"
      ],
      "execution_count": 0,
      "outputs": []
    },
    {
      "cell_type": "code",
      "metadata": {
        "ExecuteTime": {
          "end_time": "2019-11-25T01:08:45.530479Z",
          "start_time": "2019-11-25T01:08:41.111562Z"
        },
        "id": "iLIzYDvaHxea",
        "colab_type": "code",
        "colab": {}
      },
      "source": [
        "lsun = list(torch.utils.data.DataLoader(\n",
        "    datasets.ImageFolder(\"data/LSUN_resize/\",transform=transform_test),batch_size=1,shuffle=True))"
      ],
      "execution_count": 0,
      "outputs": []
    },
    {
      "cell_type": "code",
      "metadata": {
        "ExecuteTime": {
          "end_time": "2019-11-25T01:08:49.918563Z",
          "start_time": "2019-11-25T01:08:45.534322Z"
        },
        "id": "uqYlnTRaHxei",
        "colab_type": "code",
        "colab": {}
      },
      "source": [
        "tinyimagenet = list(torch.utils.data.DataLoader(\n",
        "    datasets.ImageFolder(\"data/Imagenet_resize/\",transform=transform_test),batch_size=1,shuffle=True))"
      ],
      "execution_count": 0,
      "outputs": []
    },
    {
      "cell_type": "markdown",
      "metadata": {
        "id": "eMO9WJ1YHxen",
        "colab_type": "text"
      },
      "source": [
        "## Code for Detecting OODs"
      ]
    },
    {
      "cell_type": "markdown",
      "metadata": {
        "id": "8Sl_s6KwHxeo",
        "colab_type": "text"
      },
      "source": [
        "<b> Extract predictions for train and test data </b>"
      ]
    },
    {
      "cell_type": "code",
      "metadata": {
        "ExecuteTime": {
          "end_time": "2019-11-25T01:10:10.405016Z",
          "start_time": "2019-11-25T01:08:49.922798Z"
        },
        "id": "413K_7xaHxep",
        "colab_type": "code",
        "colab": {},
        "outputId": "27ee9e52-e972-49c8-d6eb-f650218919d1"
      },
      "source": [
        "train_preds = []\n",
        "train_confs = []\n",
        "train_logits = []\n",
        "for idx in range(0,len(data_train),128):\n",
        "    batch = torch.squeeze(torch.stack([x[0] for x in data_train[idx:idx+128]]),dim=1).cuda()\n",
        "    \n",
        "    logits = torch_model(batch)\n",
        "    confs = F.softmax(logits,dim=1).cpu().detach().numpy()\n",
        "    preds = np.argmax(confs,axis=1)\n",
        "    logits = (logits.cpu().detach().numpy())#**2)#.sum(axis=1)\n",
        "\n",
        "    train_confs.extend(np.max(confs,axis=1))    \n",
        "    train_preds.extend(preds)\n",
        "    train_logits.extend(logits)\n",
        "print(\"Done\")\n",
        "\n",
        "test_preds = []\n",
        "test_confs = []\n",
        "test_logits = []\n",
        "\n",
        "for idx in range(0,len(data),128):\n",
        "    batch = torch.squeeze(torch.stack([x[0] for x in data[idx:idx+128]]),dim=1).cuda()\n",
        "    \n",
        "    logits = torch_model(batch)\n",
        "    confs = F.softmax(logits,dim=1).cpu().detach().numpy()\n",
        "    preds = np.argmax(confs,axis=1)\n",
        "    logits = (logits.cpu().detach().numpy())#**2)#.sum(axis=1)\n",
        "\n",
        "    test_confs.extend(np.max(confs,axis=1))    \n",
        "    test_preds.extend(preds)\n",
        "    test_logits.extend(logits)\n",
        "print(\"Done\")"
      ],
      "execution_count": 0,
      "outputs": [
        {
          "output_type": "stream",
          "text": [
            "Done\n",
            "Done\n"
          ],
          "name": "stdout"
        }
      ]
    },
    {
      "cell_type": "markdown",
      "metadata": {
        "id": "IgTdc3JZHxev",
        "colab_type": "text"
      },
      "source": [
        "<b> Code for detecting OODs by identifying anomalies in correlations </b>"
      ]
    },
    {
      "cell_type": "code",
      "metadata": {
        "ExecuteTime": {
          "end_time": "2019-11-25T01:36:42.435527Z",
          "start_time": "2019-11-25T01:36:42.325151Z"
        },
        "id": "FM-ZdWgpHxew",
        "colab_type": "code",
        "colab": {}
      },
      "source": [
        "import zero_shot_calculate_log as callog\n",
        "def detect(all_test_deviations,all_ood_deviations, verbose=True):\n",
        "    average_results = {}\n",
        "    for i in range(1,11):\n",
        "        random.seed(i)\n",
        "        \n",
        "        validation_indices = random.sample(range(len(all_test_deviations)),int(0.1*len(all_test_deviations)))\n",
        "        test_indices = sorted(list(set(range(len(all_test_deviations)))-set(validation_indices)))\n",
        "\n",
        "        validation = all_test_deviations[validation_indices]\n",
        "        test_deviations = all_test_deviations[test_indices]\n",
        "\n",
        "        t95 = validation.mean(axis=0)+10**-7\n",
        "\n",
        "        test_deviations = (test_deviations/t95[np.newaxis,:]).sum(axis=1)\n",
        "        ood_deviations = (all_ood_deviations/t95[np.newaxis,:]).sum(axis=1)\n",
        "        \n",
        "        results = callog.compute_metric(ood_deviations,test_deviations)\n",
        "        for m in results:\n",
        "            average_results[m] = average_results.get(m,0)+results[m]\n",
        "    \n",
        "    for m in average_results:\n",
        "        average_results[m] /= i\n",
        "    if verbose:\n",
        "        callog.print_results(average_results)\n",
        "    return average_results\n",
        "\n",
        "def Analyse(dataset,POWERS=[10]):\n",
        "    ood_preds = []\n",
        "    ood_confs = []\n",
        "    ood_logits = []\n",
        "    ood = dataset\n",
        "    \n",
        "    for idx in range(0,len(ood),128):\n",
        "        batch = torch.squeeze(torch.stack([x[0] for x in ood[idx:idx+128]]),dim=1).cuda()\n",
        "        logits = torch_model(batch)\n",
        "        confs = F.softmax(logits,dim=1).cpu().detach().numpy()\n",
        "        preds = np.argmax(confs,axis=1)\n",
        "        logits = (logits.cpu().detach().numpy())#**2).sum(axis=1)\n",
        "\n",
        "        ood_confs.extend(np.max(confs,axis=1))\n",
        "        ood_preds.extend(preds)   \n",
        "        ood_logits.extend(logits)\n",
        "    print(\"Done\")\n",
        "    \n",
        "    def compute_deviation(PRED):\n",
        "        train_indices = np.where(np.array(train_preds)==PRED)[0]\n",
        "        test_indices = np.where(np.array(test_preds)==PRED)[0]\n",
        "        ood_indices = np.where(np.array(ood_preds)==PRED)[0]\n",
        "\n",
        "        train_PRED = torch.squeeze(torch.stack([data_train[i][0] for i in train_indices]),dim=1)\n",
        "        test_PRED = torch.squeeze(torch.stack([data[i][0] for i in test_indices]),dim=1)\n",
        "        if len(ood_indices)!=0:\n",
        "            ood_PRED = torch.squeeze(torch.stack([ood[i][0] for i in ood_indices]),dim=1)\n",
        "\n",
        "        test_confs_PRED = np.array([test_confs[i] for i in test_indices])\n",
        "        if len(ood_indices)!=0:\n",
        "            ood_confs_PRED =  np.array([ood_confs[i] for i in ood_indices])\n",
        "\n",
        "        mins,maxs = torch_model.get_min_max(train_PRED,power=POWERS)\n",
        "\n",
        "        test_deviations = torch_model.get_deviations(test_PRED,power=POWERS,mins=mins,maxs=maxs)/test_confs_PRED[:,np.newaxis]\n",
        "\n",
        "        if len(ood_indices)!=0:\n",
        "            ood_deviations = torch_model.get_deviations(ood_PRED,power=POWERS,mins=mins,maxs=maxs)/ood_confs_PRED[:,np.newaxis]\n",
        "        else:\n",
        "            ood_deviations = None\n",
        "\n",
        "        return test_deviations,ood_deviations\n",
        "    \n",
        "    CLASSES = range(10)\n",
        "    \n",
        "    all_test_deviations = None\n",
        "    all_ood_deviations = None\n",
        "\n",
        "    for PRED in tqdm(CLASSES):\n",
        "        test_deviations,ood_deviations = compute_deviation(PRED)\n",
        "        \n",
        "        if all_test_deviations is not None:\n",
        "            all_test_deviations = np.concatenate([all_test_deviations,test_deviations],axis=0) \n",
        "        else:\n",
        "            all_test_deviations = test_deviations\n",
        "        if ood_deviations is not None:\n",
        "            if all_ood_deviations is not None:\n",
        "                all_ood_deviations = np.concatenate([all_ood_deviations,ood_deviations],axis=0)\n",
        "            else:\n",
        "                all_ood_deviations = ood_deviations\n",
        "    \n",
        "    \n",
        "    average_results = detect(all_test_deviations,all_ood_deviations)\n",
        "    return average_results, all_test_deviations, all_ood_deviations\n"
      ],
      "execution_count": 0,
      "outputs": []
    },
    {
      "cell_type": "markdown",
      "metadata": {
        "id": "qpvyLfblHxe0",
        "colab_type": "text"
      },
      "source": [
        "<center><h1> Results </h1></center>"
      ]
    },
    {
      "cell_type": "code",
      "metadata": {
        "ExecuteTime": {
          "end_time": "2019-11-25T02:13:50.869690Z",
          "start_time": "2019-11-25T01:36:45.394971Z"
        },
        "id": "HK7x1nr9Hxe1",
        "colab_type": "code",
        "colab": {
          "referenced_widgets": [
            "206d952c2ed7433e9f5fc001f52499d1",
            "c730697db4ec4701bfb0ca8359cefd7a",
            "1ff9641a4ff2413faa05ce79f574933e"
          ]
        },
        "outputId": "d873ba49-8fbc-404c-9847-e803f20178e1"
      },
      "source": [
        "print(\"LSUN_R\")\n",
        "lsun_results=Analyse(lsun,POWERS=range(1,11))\n",
        "\n",
        "print(\"TinyImageNet_R\")\n",
        "tinyimagenet_results=Analyse(tinyimagenet,POWERS=range(1,11))\n",
        "\n",
        "print(\"CIFAR10\")\n",
        "cifar10_results=Analyse(CIFAR10,POWERS=range(1,11))"
      ],
      "execution_count": 0,
      "outputs": [
        {
          "output_type": "stream",
          "text": [
            "LSUN_R\n",
            "Done\n"
          ],
          "name": "stdout"
        },
        {
          "output_type": "display_data",
          "data": {
            "application/vnd.jupyter.widget-view+json": {
              "model_id": "206d952c2ed7433e9f5fc001f52499d1",
              "version_major": 2,
              "version_minor": 0
            },
            "text/plain": [
              "HBox(children=(IntProgress(value=0, max=10), HTML(value=u'')))"
            ]
          },
          "metadata": {
            "tags": []
          }
        },
        {
          "output_type": "stream",
          "text": [
            "\n",
            " TNR    AUROC  DTACC  AUIN   AUOUT \n",
            " 99.974 99.987 99.883 99.925 99.993\n",
            "TinyImageNet_R\n",
            "Done\n"
          ],
          "name": "stdout"
        },
        {
          "output_type": "display_data",
          "data": {
            "application/vnd.jupyter.widget-view+json": {
              "model_id": "c730697db4ec4701bfb0ca8359cefd7a",
              "version_major": 2,
              "version_minor": 0
            },
            "text/plain": [
              "HBox(children=(IntProgress(value=0, max=10), HTML(value=u'')))"
            ]
          },
          "metadata": {
            "tags": []
          }
        },
        {
          "output_type": "stream",
          "text": [
            "\n",
            " TNR    AUROC  DTACC  AUIN   AUOUT \n",
            " 99.945 99.979 99.703 99.899 99.990\n",
            "CIFAR10\n",
            "Done\n"
          ],
          "name": "stdout"
        },
        {
          "output_type": "display_data",
          "data": {
            "application/vnd.jupyter.widget-view+json": {
              "model_id": "1ff9641a4ff2413faa05ce79f574933e",
              "version_major": 2,
              "version_minor": 0
            },
            "text/plain": [
              "HBox(children=(IntProgress(value=0, max=10), HTML(value=u'')))"
            ]
          },
          "metadata": {
            "tags": []
          }
        },
        {
          "output_type": "stream",
          "text": [
            "\n",
            " TNR    AUROC  DTACC  AUIN   AUOUT \n",
            " 98.482 99.562 97.434 98.607 99.825\n"
          ],
          "name": "stdout"
        }
      ]
    }
  ]
}