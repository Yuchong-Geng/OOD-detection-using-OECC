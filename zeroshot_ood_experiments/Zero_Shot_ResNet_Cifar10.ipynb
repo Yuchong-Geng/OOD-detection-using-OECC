{
  "nbformat": 4,
  "nbformat_minor": 0,
  "metadata": {
    "kernelspec": {
      "display_name": "Python 2",
      "language": "python",
      "name": "python2"
    },
    "language_info": {
      "codemirror_mode": {
        "name": "ipython",
        "version": 2
      },
      "file_extension": ".py",
      "mimetype": "text/x-python",
      "name": "python",
      "nbconvert_exporter": "python",
      "pygments_lexer": "ipython2",
      "version": "2.7.13"
    },
    "colab": {
      "name": "Zero_Shot_ResNet_Cifar10.ipynb",
      "provenance": []
    }
  },
  "cells": [
    {
      "cell_type": "markdown",
      "metadata": {
        "id": "Vy0TFHAQIrEe",
        "colab_type": "text"
      },
      "source": [
        "<center><h1>ResNet: Cifar10</h1></center>"
      ]
    },
    {
      "cell_type": "markdown",
      "metadata": {
        "id": "Nt_oE6lSIrEg",
        "colab_type": "text"
      },
      "source": [
        "## Imports"
      ]
    },
    {
      "cell_type": "code",
      "metadata": {
        "ExecuteTime": {
          "end_time": "2019-11-21T07:04:39.720801Z",
          "start_time": "2019-11-21T07:04:39.696541Z"
        },
        "id": "GFtOuVP-IrEh",
        "colab_type": "code",
        "colab": {},
        "outputId": "b2b838af-e88a-4247-b668-1eda46e1dc8b"
      },
      "source": [
        "from __future__ import division,print_function\n",
        "\n",
        "%matplotlib inline\n",
        "%load_ext autoreload\n",
        "%autoreload 2\n",
        "\n",
        "import sys\n",
        "from tqdm import tqdm_notebook as tqdm\n",
        "\n",
        "import random\n",
        "import matplotlib.pyplot as plt\n",
        "import math\n",
        "\n",
        "import numpy as np\n",
        "\n",
        "import torch\n",
        "import torch.nn as nn\n",
        "import torch.nn.functional as F\n",
        "import torch.optim as optim\n",
        "import torch.nn.init as init\n",
        "from torch.autograd import Variable, grad\n",
        "from torchvision import datasets, transforms\n",
        "from torch.nn.parameter import Parameter\n",
        "\n",
        "import zero_shot_calculate_log as callog\n",
        "\n",
        "import warnings\n",
        "warnings.filterwarnings('ignore')"
      ],
      "execution_count": 0,
      "outputs": [
        {
          "output_type": "stream",
          "text": [
            "The autoreload extension is already loaded. To reload it, use:\n",
            "  %reload_ext autoreload\n"
          ],
          "name": "stdout"
        }
      ]
    },
    {
      "cell_type": "code",
      "metadata": {
        "ExecuteTime": {
          "end_time": "2019-11-21T07:04:40.052799Z",
          "start_time": "2019-11-21T07:04:40.037307Z"
        },
        "id": "CJTJ9kmOIrEn",
        "colab_type": "code",
        "colab": {}
      },
      "source": [
        "torch.cuda.set_device(0) #Select the GPU"
      ],
      "execution_count": 0,
      "outputs": []
    },
    {
      "cell_type": "markdown",
      "metadata": {
        "id": "5Bxf1RRaIrEs",
        "colab_type": "text"
      },
      "source": [
        "## Model definition"
      ]
    },
    {
      "cell_type": "code",
      "metadata": {
        "ExecuteTime": {
          "end_time": "2019-11-21T07:04:51.524667Z",
          "start_time": "2019-11-21T07:04:45.900799Z"
        },
        "id": "Z7ly84A8IrEt",
        "colab_type": "code",
        "colab": {},
        "outputId": "976c77e5-3e2e-40c1-b2f1-e2c2bc5c081a"
      },
      "source": [
        "def conv3x3(in_planes, out_planes, stride=1):\n",
        "    return nn.Conv2d(in_planes, out_planes, kernel_size=3, stride=stride, padding=1, bias=False)\n",
        "\n",
        "def G_p(ob, p):\n",
        "    temp = ob.detach()\n",
        "\n",
        "    temp = temp**p\n",
        "    temp = temp.reshape(temp.shape[0],temp.shape[1],-1)\n",
        "    temp = ((torch.matmul(temp,temp.transpose(dim0=2,dim1=1)))).sum(dim=2)\n",
        "    temp = (temp.sign()*torch.abs(temp)**(1/p)).reshape(temp.shape[0],-1)\n",
        "\n",
        "    return temp\n",
        "\n",
        "class BasicBlock(nn.Module):\n",
        "    expansion = 1\n",
        "\n",
        "    def __init__(self, in_planes, planes, stride=1):\n",
        "        super(BasicBlock, self).__init__()\n",
        "        self.conv1 = conv3x3(in_planes, planes, stride)\n",
        "        self.bn1 = nn.BatchNorm2d(planes)\n",
        "        self.conv2 = conv3x3(planes, planes)\n",
        "        self.bn2 = nn.BatchNorm2d(planes)\n",
        "\n",
        "        self.shortcut = nn.Sequential()\n",
        "        if stride != 1 or in_planes != self.expansion*planes:\n",
        "            self.shortcut = nn.Sequential(\n",
        "                nn.Conv2d(in_planes, self.expansion*planes, kernel_size=1, stride=stride, bias=False),\n",
        "                nn.BatchNorm2d(self.expansion*planes)\n",
        "            )\n",
        "    \n",
        "    def forward(self, x):\n",
        "        t = self.conv1(x)\n",
        "        out = F.relu(self.bn1(t))\n",
        "        torch_model.record(t)\n",
        "        torch_model.record(out)\n",
        "        t = self.conv2(out)\n",
        "        out = self.bn2(self.conv2(out))\n",
        "        torch_model.record(t)\n",
        "        torch_model.record(out)\n",
        "        t = self.shortcut(x)\n",
        "        out += t\n",
        "        torch_model.record(t)\n",
        "        out = F.relu(out)\n",
        "        torch_model.record(out)\n",
        "        \n",
        "        return out\n",
        "\n",
        "class ResNet(nn.Module):\n",
        "    def __init__(self, block, num_blocks, num_classes=10):\n",
        "        super(ResNet, self).__init__()\n",
        "        self.in_planes = 64\n",
        "\n",
        "        self.conv1 = conv3x3(3,64)\n",
        "        self.bn1 = nn.BatchNorm2d(64)\n",
        "        self.layer1 = self._make_layer(block, 64, num_blocks[0], stride=1)\n",
        "        self.layer2 = self._make_layer(block, 128, num_blocks[1], stride=2)\n",
        "        self.layer3 = self._make_layer(block, 256, num_blocks[2], stride=2)\n",
        "        self.layer4 = self._make_layer(block, 512, num_blocks[3], stride=2)\n",
        "        self.linear = nn.Linear(512*block.expansion, num_classes)\n",
        "        \n",
        "        self.collecting = False\n",
        "    \n",
        "    def _make_layer(self, block, planes, num_blocks, stride):\n",
        "        strides = [stride] + [1]*(num_blocks-1)\n",
        "        layers = []\n",
        "        for stride in strides:\n",
        "            layers.append(block(self.in_planes, planes, stride))\n",
        "            self.in_planes = planes * block.expansion\n",
        "        return nn.Sequential(*layers)\n",
        "    \n",
        "    def forward(self, x):\n",
        "        torch_model.record(x)\n",
        "        out = F.relu(self.bn1(self.conv1(x)))\n",
        "        out = self.layer1(out)\n",
        "        out = self.layer2(out)\n",
        "        out = self.layer3(out)\n",
        "        out = self.layer4(out)\n",
        "        out = F.avg_pool2d(out, 4)\n",
        "        out = out.view(out.size(0), -1)\n",
        "        y = self.linear(out)\n",
        "        return y\n",
        "    \n",
        "    def record(self, t):\n",
        "        if self.collecting:\n",
        "            self.gram_feats.append(t)\n",
        "    \n",
        "    def gram_feature_list(self,x):\n",
        "        self.collecting = True\n",
        "        self.gram_feats = []\n",
        "        self.forward(x)\n",
        "        self.collecting = False\n",
        "        temp = self.gram_feats\n",
        "        self.gram_feats = []\n",
        "        return temp\n",
        "    \n",
        "    def load(self, path=\"./results/Zero_Shot/BEST_Zero_Shot_cifar10_ResNet34_OECC_tune_epoch_29.pth\"):\n",
        "        tm = torch.load(path,map_location=\"cpu\")        \n",
        "        self.load_state_dict(tm)\n",
        "    \n",
        "    def get_min_max(self, data, power):\n",
        "        mins = []\n",
        "        maxs = []\n",
        "        \n",
        "        for i in range(0,len(data),128):\n",
        "            batch = data[i:i+128].cuda()\n",
        "            feat_list = self.gram_feature_list(batch)\n",
        "            for L,feat_L in enumerate(feat_list):\n",
        "                if L==len(mins):\n",
        "                    mins.append([None]*len(power))\n",
        "                    maxs.append([None]*len(power))\n",
        "                \n",
        "                for p,P in enumerate(power):\n",
        "                    g_p = G_p(feat_L,P)\n",
        "                    \n",
        "                    current_min = g_p.min(dim=0,keepdim=True)[0]\n",
        "                    current_max = g_p.max(dim=0,keepdim=True)[0]\n",
        "                    \n",
        "                    if mins[L][p] is None:\n",
        "                        mins[L][p] = current_min\n",
        "                        maxs[L][p] = current_max\n",
        "                    else:\n",
        "                        mins[L][p] = torch.min(current_min,mins[L][p])\n",
        "                        maxs[L][p] = torch.max(current_max,maxs[L][p])\n",
        "        \n",
        "        return mins,maxs\n",
        "    \n",
        "    def get_deviations(self,data,power,mins,maxs):\n",
        "        deviations = []\n",
        "        \n",
        "        for i in range(0,len(data),128):            \n",
        "            batch = data[i:i+128].cuda()\n",
        "            feat_list = self.gram_feature_list(batch)\n",
        "            batch_deviations = []\n",
        "            for L,feat_L in enumerate(feat_list):\n",
        "                dev = 0\n",
        "                for p,P in enumerate(power):\n",
        "                    g_p = G_p(feat_L,P)\n",
        "                    \n",
        "                    dev +=  (F.relu(mins[L][p]-g_p)/torch.abs(mins[L][p]+10**-6)).sum(dim=1,keepdim=True)\n",
        "                    dev +=  (F.relu(g_p-maxs[L][p])/torch.abs(maxs[L][p]+10**-6)).sum(dim=1,keepdim=True)\n",
        "                batch_deviations.append(dev.cpu().detach().numpy())\n",
        "            batch_deviations = np.concatenate(batch_deviations,axis=1)\n",
        "            deviations.append(batch_deviations)\n",
        "        deviations = np.concatenate(deviations,axis=0)\n",
        "        \n",
        "        return deviations\n",
        "\n",
        "torch_model = ResNet(BasicBlock, [3,4,6,3], num_classes=10)\n",
        "torch_model.load()\n",
        "torch_model.cuda()\n",
        "torch_model.params = list(torch_model.parameters())\n",
        "torch_model.eval()\n",
        "print(\"Done\")    "
      ],
      "execution_count": 0,
      "outputs": [
        {
          "output_type": "stream",
          "text": [
            "Done\n"
          ],
          "name": "stdout"
        }
      ]
    },
    {
      "cell_type": "markdown",
      "metadata": {
        "id": "6f1gUkCmIrEx",
        "colab_type": "text"
      },
      "source": [
        "## Datasets"
      ]
    },
    {
      "cell_type": "markdown",
      "metadata": {
        "id": "dZv5o9BPIrEy",
        "colab_type": "text"
      },
      "source": [
        "<b>In-distribution Datasets</b>"
      ]
    },
    {
      "cell_type": "code",
      "metadata": {
        "ExecuteTime": {
          "end_time": "2019-11-18T21:00:23.320016Z",
          "start_time": "2019-11-18T21:00:21.910191Z"
        },
        "id": "U_5SoQZ5IrEz",
        "colab_type": "code",
        "colab": {},
        "outputId": "3b7ba5e4-4698-4ac3-b3d5-c6d1ebe8433a"
      },
      "source": [
        "batch_size = 128\n",
        "mean = np.array([[0.4914, 0.4822, 0.4465]]).T\n",
        "\n",
        "std = np.array([[0.2023, 0.1994, 0.2010]]).T\n",
        "normalize = transforms.Normalize((0.4914, 0.4822, 0.4465), (0.2023, 0.1994, 0.2010))\n",
        "\n",
        "transform_train = transforms.Compose([\n",
        "        transforms.RandomCrop(32, padding=4),\n",
        "        transforms.RandomHorizontalFlip(),\n",
        "        transforms.ToTensor(),\n",
        "        normalize\n",
        "        \n",
        "    ])\n",
        "transform_test = transforms.Compose([\n",
        "        transforms.CenterCrop(size=(32, 32)),\n",
        "        transforms.ToTensor(),\n",
        "        normalize\n",
        "    ])\n",
        "\n",
        "train_loader = torch.utils.data.DataLoader(\n",
        "    datasets.CIFAR10('data/cifar10-data', train=True, download=True,\n",
        "                   transform=transform_train),\n",
        "    batch_size=batch_size, shuffle=True)\n",
        "test_loader = torch.utils.data.DataLoader(\n",
        "    datasets.CIFAR10('data/cifar10-data', train=False, transform=transform_test),\n",
        "    batch_size=batch_size)\n"
      ],
      "execution_count": 0,
      "outputs": [
        {
          "output_type": "stream",
          "text": [
            "Files already downloaded and verified\n"
          ],
          "name": "stdout"
        }
      ]
    },
    {
      "cell_type": "code",
      "metadata": {
        "ExecuteTime": {
          "end_time": "2019-11-18T21:00:38.405535Z",
          "start_time": "2019-11-18T21:00:24.886963Z"
        },
        "scrolled": true,
        "id": "40sbuNgKIrE5",
        "colab_type": "code",
        "colab": {},
        "outputId": "08b3156f-2bf9-48ee-af19-56d0617e5366"
      },
      "source": [
        "data_train = list(torch.utils.data.DataLoader(\n",
        "        datasets.CIFAR10('data/cifar10-data', train=True, download=True,\n",
        "                       transform=transform_test),\n",
        "        batch_size=1, shuffle=False))"
      ],
      "execution_count": 0,
      "outputs": [
        {
          "output_type": "stream",
          "text": [
            "Files already downloaded and verified\n"
          ],
          "name": "stdout"
        }
      ]
    },
    {
      "cell_type": "code",
      "metadata": {
        "ExecuteTime": {
          "end_time": "2019-11-18T21:00:41.728695Z",
          "start_time": "2019-11-18T21:00:38.409555Z"
        },
        "id": "zg3Ye6McIrE-",
        "colab_type": "code",
        "colab": {},
        "outputId": "dd9b10ef-e89e-45c6-a738-2cfc5a8c2bbd"
      },
      "source": [
        "data = list(torch.utils.data.DataLoader(\n",
        "    datasets.CIFAR10('data/cifar10-data', train=False, download=True,\n",
        "                   transform=transform_test),\n",
        "    batch_size=1, shuffle=False))"
      ],
      "execution_count": 0,
      "outputs": [
        {
          "output_type": "stream",
          "text": [
            "Files already downloaded and verified\n"
          ],
          "name": "stdout"
        }
      ]
    },
    {
      "cell_type": "code",
      "metadata": {
        "ExecuteTime": {
          "end_time": "2019-11-18T21:00:54.041947Z",
          "start_time": "2019-11-18T21:00:46.578672Z"
        },
        "id": "2sNgntyGIrFD",
        "colab_type": "code",
        "colab": {},
        "outputId": "18d4deb7-f99a-47f4-ffb0-c404f41478db"
      },
      "source": [
        "torch_model.eval()\n",
        "correct = 0\n",
        "total = 0\n",
        "for x,y in test_loader:\n",
        "    x = x.cuda()\n",
        "    y = y.numpy()\n",
        "    correct += (y==np.argmax(torch_model(x).detach().cpu().numpy(),axis=1)).sum()\n",
        "    total += y.shape[0]\n",
        "print(\"Accuracy: \",correct/total)"
      ],
      "execution_count": 0,
      "outputs": [
        {
          "output_type": "stream",
          "text": [
            "Accuracy:  0.9459\n"
          ],
          "name": "stdout"
        }
      ]
    },
    {
      "cell_type": "markdown",
      "metadata": {
        "id": "DwBM5ebOIrFL",
        "colab_type": "text"
      },
      "source": [
        "<b>Out-of-distribution Datasets</b>"
      ]
    },
    {
      "cell_type": "code",
      "metadata": {
        "ExecuteTime": {
          "end_time": "2019-11-18T21:01:09.007641Z",
          "start_time": "2019-11-18T21:01:01.179363Z"
        },
        "id": "wZsMxuRGIrFL",
        "colab_type": "code",
        "colab": {},
        "outputId": "8165814c-da35-4ec9-c8b1-c575a03e1a2e"
      },
      "source": [
        "svhn = list(torch.utils.data.DataLoader(\n",
        "    datasets.SVHN('data/svhn-data', split=\"test\", download=True,\n",
        "                   transform=transform_test),\n",
        "    batch_size=1, shuffle=True))"
      ],
      "execution_count": 0,
      "outputs": [
        {
          "output_type": "stream",
          "text": [
            "Using downloaded and verified file: data/svhn-data/test_32x32.mat\n"
          ],
          "name": "stdout"
        }
      ]
    },
    {
      "cell_type": "code",
      "metadata": {
        "ExecuteTime": {
          "end_time": "2019-11-18T21:01:12.282259Z",
          "start_time": "2019-11-18T21:01:12.268166Z"
        },
        "id": "qAHP_Hv4IrFP",
        "colab_type": "code",
        "colab": {}
      },
      "source": [
        "#isun = list(torch.utils.data.DataLoader(\n",
        "    #datasets.ImageFolder(\"iSUN/\",transform=transform_test),batch_size=1,shuffle=True))"
      ],
      "execution_count": 0,
      "outputs": []
    },
    {
      "cell_type": "code",
      "metadata": {
        "ExecuteTime": {
          "end_time": "2019-11-18T21:01:18.647416Z",
          "start_time": "2019-11-18T21:01:14.340354Z"
        },
        "id": "F-yuwmPjIrFU",
        "colab_type": "code",
        "colab": {}
      },
      "source": [
        "lsun = list(torch.utils.data.DataLoader(\n",
        "    datasets.ImageFolder(\"data/LSUN_resize/\",transform=transform_test),batch_size=1,shuffle=True))"
      ],
      "execution_count": 0,
      "outputs": []
    },
    {
      "cell_type": "code",
      "metadata": {
        "ExecuteTime": {
          "end_time": "2019-11-18T21:01:28.756306Z",
          "start_time": "2019-11-18T21:01:24.533622Z"
        },
        "id": "T_dc1RZvIrFY",
        "colab_type": "code",
        "colab": {}
      },
      "source": [
        "tinyimagenet = list(torch.utils.data.DataLoader(\n",
        "    datasets.ImageFolder(\"data/Imagenet_resize/\",transform=transform_test),batch_size=1,shuffle=True))"
      ],
      "execution_count": 0,
      "outputs": []
    },
    {
      "cell_type": "markdown",
      "metadata": {
        "id": "XaGBxb3ZIrFc",
        "colab_type": "text"
      },
      "source": [
        "## Code for Detecting OODs"
      ]
    },
    {
      "cell_type": "markdown",
      "metadata": {
        "id": "WTDhIYCiIrFd",
        "colab_type": "text"
      },
      "source": [
        "<b> Extract predictions for train and test data </b>"
      ]
    },
    {
      "cell_type": "code",
      "metadata": {
        "ExecuteTime": {
          "end_time": "2019-11-18T21:02:07.462811Z",
          "start_time": "2019-11-18T21:01:31.071685Z"
        },
        "id": "Mo4Hp5JZIrFd",
        "colab_type": "code",
        "colab": {},
        "outputId": "5cd65b8c-c8a9-4b1c-ebc4-b198f970ac6f"
      },
      "source": [
        "train_preds = []\n",
        "train_confs = []\n",
        "train_logits = []\n",
        "for idx in range(0,len(data_train),128):\n",
        "    batch = torch.squeeze(torch.stack([x[0] for x in data_train[idx:idx+128]]),dim=1).cuda()\n",
        "    \n",
        "    logits = torch_model(batch)\n",
        "    confs = F.softmax(logits,dim=1).cpu().detach().numpy()\n",
        "    preds = np.argmax(confs,axis=1)\n",
        "    logits = (logits.cpu().detach().numpy())#**2)#.sum(axis=1)\n",
        "\n",
        "    train_confs.extend(np.max(confs,axis=1))    \n",
        "    train_preds.extend(preds)\n",
        "    train_logits.extend(logits)\n",
        "print(\"Done\")\n",
        "\n",
        "test_preds = []\n",
        "test_confs = []\n",
        "test_logits = []\n",
        "\n",
        "for idx in range(0,len(data),128):\n",
        "    batch = torch.squeeze(torch.stack([x[0] for x in data[idx:idx+128]]),dim=1).cuda()\n",
        "    \n",
        "    logits = torch_model(batch)\n",
        "    confs = F.softmax(logits,dim=1).cpu().detach().numpy()\n",
        "    preds = np.argmax(confs,axis=1)\n",
        "    logits = (logits.cpu().detach().numpy())#**2)#.sum(axis=1)\n",
        "\n",
        "    test_confs.extend(np.max(confs,axis=1))    \n",
        "    test_preds.extend(preds)\n",
        "    test_logits.extend(logits)\n",
        "print(\"Done\")"
      ],
      "execution_count": 0,
      "outputs": [
        {
          "output_type": "stream",
          "text": [
            "Done\n",
            "Done\n"
          ],
          "name": "stdout"
        }
      ]
    },
    {
      "cell_type": "markdown",
      "metadata": {
        "id": "2wgqS1G6IrFh",
        "colab_type": "text"
      },
      "source": [
        "<b> Code for detecting OODs by identifying anomalies in correlations </b>"
      ]
    },
    {
      "cell_type": "code",
      "metadata": {
        "ExecuteTime": {
          "end_time": "2019-11-18T21:02:14.398920Z",
          "start_time": "2019-11-18T21:02:14.285373Z"
        },
        "id": "KG_prD-UIrFi",
        "colab_type": "code",
        "colab": {}
      },
      "source": [
        "import zero_shot_calculate_log as callog\n",
        "def detect(all_test_deviations,all_ood_deviations, verbose=True):\n",
        "    average_results = {}\n",
        "    for i in range(1,11):\n",
        "        random.seed(i)\n",
        "        \n",
        "        validation_indices = random.sample(range(len(all_test_deviations)),int(0.1*len(all_test_deviations)))\n",
        "        test_indices = sorted(list(set(range(len(all_test_deviations)))-set(validation_indices)))\n",
        "\n",
        "        validation = all_test_deviations[validation_indices]\n",
        "        test_deviations = all_test_deviations[test_indices]\n",
        "\n",
        "        t95 = validation.mean(axis=0)+10**-7\n",
        "\n",
        "        test_deviations = (test_deviations/t95[np.newaxis,:]).sum(axis=1)\n",
        "        ood_deviations = (all_ood_deviations/t95[np.newaxis,:]).sum(axis=1)\n",
        "        \n",
        "        results = callog.compute_metric(-test_deviations,-ood_deviations)\n",
        "        for m in results:\n",
        "            average_results[m] = average_results.get(m,0)+results[m]\n",
        "    \n",
        "    for m in average_results:\n",
        "        average_results[m] /= i\n",
        "    if verbose:\n",
        "        callog.print_results(average_results)\n",
        "    return average_results\n",
        "\n",
        "def Analyse(dataset,POWERS=[10]):\n",
        "    ood_preds = []\n",
        "    ood_confs = []\n",
        "    ood = dataset\n",
        "    \n",
        "    for idx in range(0,len(ood),128):\n",
        "        batch = torch.squeeze(torch.stack([x[0] for x in ood[idx:idx+128]]),dim=1).cuda()\n",
        "        logits = torch_model(batch)\n",
        "        confs = F.softmax(logits,dim=1).cpu().detach().numpy()\n",
        "        preds = np.argmax(confs,axis=1)\n",
        "\n",
        "        ood_confs.extend(np.max(confs,axis=1))\n",
        "        ood_preds.extend(preds)   \n",
        "    print(\"Done\")\n",
        "    \n",
        "    def compute_deviation(PRED):\n",
        "        train_indices = np.where(np.array(train_preds)==PRED)[0]\n",
        "        test_indices = np.where(np.array(test_preds)==PRED)[0]\n",
        "        ood_indices = np.where(np.array(ood_preds)==PRED)[0]\n",
        "\n",
        "        train_PRED = torch.squeeze(torch.stack([data_train[i][0] for i in train_indices]),dim=1)\n",
        "        test_PRED = torch.squeeze(torch.stack([data[i][0] for i in test_indices]),dim=1)\n",
        "        if len(ood_indices)!=0:\n",
        "            ood_PRED = torch.squeeze(torch.stack([ood[i][0] for i in ood_indices]),dim=1)\n",
        "\n",
        "        test_confs_PRED = np.array([test_confs[i] for i in test_indices])\n",
        "        if len(ood_indices)!=0:\n",
        "            ood_confs_PRED =  np.array([ood_confs[i] for i in ood_indices])\n",
        "\n",
        "        mins,maxs = torch_model.get_min_max(train_PRED,power=POWERS)\n",
        "\n",
        "        test_deviations = torch_model.get_deviations(test_PRED,power=POWERS,mins=mins,maxs=maxs)/test_confs_PRED[:,np.newaxis]\n",
        "\n",
        "        if len(ood_indices)!=0:\n",
        "            ood_deviations = torch_model.get_deviations(ood_PRED,power=POWERS,mins=mins,maxs=maxs)/ood_confs_PRED[:,np.newaxis]\n",
        "        else:\n",
        "            ood_deviations = None\n",
        "\n",
        "        return test_deviations,ood_deviations\n",
        "    \n",
        "    CLASSES = range(10)\n",
        "    \n",
        "    all_test_deviations = None\n",
        "    all_ood_deviations = None\n",
        "\n",
        "    \n",
        "    for PRED in tqdm(CLASSES):\n",
        "        test_deviations,ood_deviations = compute_deviation(PRED)\n",
        "        \n",
        "        if all_test_deviations is not None:\n",
        "            all_test_deviations = np.concatenate([all_test_deviations,test_deviations],axis=0) \n",
        "        else:\n",
        "            all_test_deviations = test_deviations\n",
        "        if ood_deviations is not None:\n",
        "            if all_ood_deviations is not None:\n",
        "                all_ood_deviations = np.concatenate([all_ood_deviations,ood_deviations],axis=0)\n",
        "            else:\n",
        "                all_ood_deviations = ood_deviations\n",
        "    \n",
        "    \n",
        "    average_results = detect(all_test_deviations,all_ood_deviations)\n",
        "    return average_results, all_test_deviations, all_ood_deviations\n"
      ],
      "execution_count": 0,
      "outputs": []
    },
    {
      "cell_type": "markdown",
      "metadata": {
        "id": "UBtfOkFzIrFl",
        "colab_type": "text"
      },
      "source": [
        "<center><h1> Results </h1></center>"
      ]
    },
    {
      "cell_type": "markdown",
      "metadata": {
        "id": "-cTAyKR3IrFm",
        "colab_type": "text"
      },
      "source": [
        "## Combination of Pre- and Post-Training Methods"
      ]
    },
    {
      "cell_type": "code",
      "metadata": {
        "ExecuteTime": {
          "end_time": "2019-11-18T21:34:36.982071Z",
          "start_time": "2019-11-18T21:02:23.126904Z"
        },
        "id": "X87RZ3kyIrFn",
        "colab_type": "code",
        "colab": {
          "referenced_widgets": [
            "fb5e666b423141cd91b74646ce5b2522",
            "f76a1cfd1b9248c7a1b638daf07651f2",
            "2d70b763f2304cc38404d807184374b2"
          ]
        },
        "outputId": "410a5d8e-bed9-4ffe-c28f-2cf65f382536"
      },
      "source": [
        "print(\"LSUN_R\")\n",
        "lsun_results=Analyse(lsun,POWERS=range(1,11))\n",
        "\n",
        "#print(\"iSUN_R\")\n",
        "#isun_results=Analyse(isun,POWERS=range(1,11))\n",
        "\n",
        "print(\"TinyImageNet_R\")\n",
        "tinyimagenet_results=Analyse(tinyimagenet,POWERS=range(1,11))\n",
        "\n",
        "print(\"SVHN\")\n",
        "svhn_results=Analyse(svhn,POWERS=range(1,11))"
      ],
      "execution_count": 0,
      "outputs": [
        {
          "output_type": "stream",
          "text": [
            "LSUN_R\n",
            "Done\n"
          ],
          "name": "stdout"
        },
        {
          "output_type": "display_data",
          "data": {
            "application/vnd.jupyter.widget-view+json": {
              "model_id": "fb5e666b423141cd91b74646ce5b2522",
              "version_major": 2,
              "version_minor": 0
            },
            "text/plain": [
              "HBox(children=(IntProgress(value=0, max=10), HTML(value=u'')))"
            ]
          },
          "metadata": {
            "tags": []
          }
        },
        {
          "output_type": "stream",
          "text": [
            "\n",
            " TNR    AUROC  DTACC  AUIN   AUOUT \n",
            " 99.912 99.908 98.999 99.918 99.771\n",
            "TinyImageNet_R\n",
            "Done\n"
          ],
          "name": "stdout"
        },
        {
          "output_type": "display_data",
          "data": {
            "application/vnd.jupyter.widget-view+json": {
              "model_id": "f76a1cfd1b9248c7a1b638daf07651f2",
              "version_major": 2,
              "version_minor": 0
            },
            "text/plain": [
              "HBox(children=(IntProgress(value=0, max=10), HTML(value=u'')))"
            ]
          },
          "metadata": {
            "tags": []
          }
        },
        {
          "output_type": "stream",
          "text": [
            "\n",
            " TNR    AUROC  DTACC  AUIN   AUOUT \n",
            " 99.583 99.814 98.346 99.807 99.707\n",
            "SVHN\n",
            "Done\n"
          ],
          "name": "stdout"
        },
        {
          "output_type": "display_data",
          "data": {
            "application/vnd.jupyter.widget-view+json": {
              "model_id": "2d70b763f2304cc38404d807184374b2",
              "version_major": 2,
              "version_minor": 0
            },
            "text/plain": [
              "HBox(children=(IntProgress(value=0, max=10), HTML(value=u'')))"
            ]
          },
          "metadata": {
            "tags": []
          }
        },
        {
          "output_type": "stream",
          "text": [
            "\n",
            " TNR    AUROC  DTACC  AUIN   AUOUT \n",
            " 99.231 99.749 97.992 99.342 99.888\n"
          ],
          "name": "stdout"
        }
      ]
    }
  ]
}