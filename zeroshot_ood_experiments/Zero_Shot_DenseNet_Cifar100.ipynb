{
  "nbformat": 4,
  "nbformat_minor": 0,
  "metadata": {
    "kernelspec": {
      "display_name": "Python 2",
      "language": "python",
      "name": "python2"
    },
    "language_info": {
      "codemirror_mode": {
        "name": "ipython",
        "version": 2
      },
      "file_extension": ".py",
      "mimetype": "text/x-python",
      "name": "python",
      "nbconvert_exporter": "python",
      "pygments_lexer": "ipython2",
      "version": "2.7.13"
    },
    "colab": {
      "name": "Zero_Shot_DenseNet_Cifar100.ipynb",
      "provenance": []
    }
  },
  "cells": [
    {
      "cell_type": "markdown",
      "metadata": {
        "id": "dGPd2yoAHKVk",
        "colab_type": "text"
      },
      "source": [
        "<center><h1>DenseNet: Cifar100</h1></center>"
      ]
    },
    {
      "cell_type": "markdown",
      "metadata": {
        "id": "IFIZwa5rHKVm",
        "colab_type": "text"
      },
      "source": [
        "## Imports"
      ]
    },
    {
      "cell_type": "code",
      "metadata": {
        "ExecuteTime": {
          "end_time": "2019-11-28T17:33:14.405322Z",
          "start_time": "2019-11-28T17:33:13.833987Z"
        },
        "id": "ZzEw8vEgHKVn",
        "colab_type": "code",
        "colab": {}
      },
      "source": [
        "from __future__ import division,print_function\n",
        "\n",
        "%matplotlib inline\n",
        "%load_ext autoreload\n",
        "%autoreload 2\n",
        "\n",
        "import sys\n",
        "from tqdm import tqdm_notebook as tqdm\n",
        "\n",
        "import random\n",
        "import matplotlib.pyplot as plt\n",
        "import math\n",
        "\n",
        "import numpy as np\n",
        "\n",
        "import torch\n",
        "import torch.nn as nn\n",
        "import torch.nn.functional as F\n",
        "import torch.optim as optim\n",
        "import torch.nn.init as init\n",
        "from torch.autograd import Variable, grad\n",
        "from torchvision import datasets, transforms\n",
        "from torch.nn.parameter import Parameter\n",
        "\n",
        "import zero_shot_calculate_log as callog\n",
        "\n",
        "import warnings\n",
        "warnings.filterwarnings('ignore')"
      ],
      "execution_count": 0,
      "outputs": []
    },
    {
      "cell_type": "code",
      "metadata": {
        "ExecuteTime": {
          "end_time": "2019-11-28T17:33:14.734444Z",
          "start_time": "2019-11-28T17:33:14.701239Z"
        },
        "id": "SEVmdwF7HKVt",
        "colab_type": "code",
        "colab": {}
      },
      "source": [
        "torch.cuda.set_device(1) #Select the GPU"
      ],
      "execution_count": 0,
      "outputs": []
    },
    {
      "cell_type": "markdown",
      "metadata": {
        "id": "oyIHZki5HKV2",
        "colab_type": "text"
      },
      "source": [
        "## Model definition"
      ]
    },
    {
      "cell_type": "code",
      "metadata": {
        "ExecuteTime": {
          "end_time": "2019-11-28T17:33:29.659349Z",
          "start_time": "2019-11-28T17:33:20.617076Z"
        },
        "id": "f5kyYM8dHKV3",
        "colab_type": "code",
        "colab": {},
        "outputId": "db3cdbfa-d32f-4b0e-8670-271dbc4fbe33"
      },
      "source": [
        "def conv3x3(in_planes, out_planes, stride=1):\n",
        "    return nn.Conv2d(in_planes, out_planes, kernel_size=3, stride=stride, padding=1, bias=False)\n",
        "\n",
        "def G_p(ob, p):\n",
        "    temp = ob.detach()\n",
        "\n",
        "    temp = temp**p\n",
        "    temp = temp.reshape(temp.shape[0],temp.shape[1],-1)\n",
        "    temp = ((torch.matmul(temp,temp.transpose(dim0=2,dim1=1)))).sum(dim=2)\n",
        "    temp = (temp.sign()*torch.abs(temp)**(1/p)).reshape(temp.shape[0],-1)\n",
        "\n",
        "    return temp\n",
        "\n",
        "\n",
        "class BottleneckBlock(nn.Module):\n",
        "    def __init__(self, in_planes, out_planes, dropRate=0.0):\n",
        "        super(BottleneckBlock, self).__init__()\n",
        "        inter_planes = out_planes * 4\n",
        "        self.bn1 = nn.BatchNorm2d(in_planes)\n",
        "        self.relu = nn.ReLU(inplace=True)\n",
        "        self.conv1 = nn.Conv2d(in_planes, inter_planes, kernel_size=1, stride=1,\n",
        "                               padding=0, bias=False)\n",
        "        self.bn2 = nn.BatchNorm2d(inter_planes)\n",
        "        self.conv2 = nn.Conv2d(inter_planes, out_planes, kernel_size=3, stride=1,\n",
        "                               padding=1, bias=False)\n",
        "        self.droprate = dropRate\n",
        "    \n",
        "    def forward(self, x):\n",
        "        \n",
        "        out = self.conv1(self.relu(self.bn1(x)))\n",
        "        \n",
        "        torch_model.record(out)\n",
        "        \n",
        "        if self.droprate > 0:\n",
        "            out = F.dropout(out, p=self.droprate, inplace=False, training=self.training)\n",
        "        \n",
        "        out = self.conv2(self.relu(self.bn2(out)))\n",
        "        torch_model.record(out)\n",
        "        \n",
        "        if self.droprate > 0:\n",
        "            out = F.dropout(out, p=self.droprate, inplace=False, training=self.training)\n",
        "        return torch.cat([x, out], 1)\n",
        "\n",
        "class TransitionBlock(nn.Module):\n",
        "    def __init__(self, in_planes, out_planes, dropRate=0.0):\n",
        "        super(TransitionBlock, self).__init__()\n",
        "        self.bn1 = nn.BatchNorm2d(in_planes)\n",
        "        self.relu = nn.ReLU(inplace=True)\n",
        "        self.conv1 = nn.Conv2d(in_planes, out_planes, kernel_size=1, stride=1,\n",
        "                               padding=0, bias=False)\n",
        "        self.droprate = dropRate\n",
        "    \n",
        "    def forward(self, x):\n",
        "        out = self.conv1(self.relu(self.bn1(x)))\n",
        "        torch_model.record(out)\n",
        "        \n",
        "        if self.droprate > 0:\n",
        "            out = F.dropout(out, p=self.droprate, inplace=False, training=self.training)\n",
        "        return F.avg_pool2d(out, 2)\n",
        "\n",
        "class DenseBlock(nn.Module):\n",
        "    def __init__(self, nb_layers, in_planes, growth_rate, block, dropRate=0.0):\n",
        "        super(DenseBlock, self).__init__()\n",
        "        self.layer = self._make_layer(block, in_planes, growth_rate, nb_layers, dropRate)\n",
        "    \n",
        "    def _make_layer(self, block, in_planes, growth_rate, nb_layers, dropRate):\n",
        "        layers = []\n",
        "        for i in range(int(nb_layers)):\n",
        "            layers.append(block(in_planes+i*growth_rate, growth_rate, dropRate))\n",
        "        return nn.Sequential(*layers)\n",
        "    \n",
        "    def forward(self, x):\n",
        "        t = self.layer(x)\n",
        "        torch_model.record(t)\n",
        "        return t\n",
        "\n",
        "\n",
        "class DenseNet3(nn.Module):\n",
        "    def __init__(self, depth, num_classes, growth_rate=12,\n",
        "                 reduction=0.5, bottleneck=True, dropRate=0.0):\n",
        "        super(DenseNet3, self).__init__()\n",
        "        \n",
        "        self.collecting = False\n",
        "        \n",
        "        \n",
        "        \n",
        "        in_planes = 2 * growth_rate\n",
        "        n = (depth - 4) / 3\n",
        "        if bottleneck == True:\n",
        "            n = n/2\n",
        "            block = BottleneckBlock\n",
        "        else:\n",
        "            block = BasicBlock\n",
        "        # 1st conv before any dense block\n",
        "        self.conv1 = nn.Conv2d(3, in_planes, kernel_size=3, stride=1,\n",
        "                               padding=1, bias=False)\n",
        "        # 1st block\n",
        "        self.block1 = DenseBlock(n, in_planes, growth_rate, block, dropRate)\n",
        "        in_planes = int(in_planes+n*growth_rate)\n",
        "        self.trans1 = TransitionBlock(in_planes, int(math.floor(in_planes*reduction)), dropRate=dropRate)\n",
        "        in_planes = int(math.floor(in_planes*reduction))\n",
        "        # 2nd block\n",
        "        self.block2 = DenseBlock(n, in_planes, growth_rate, block, dropRate)\n",
        "        in_planes = int(in_planes+n*growth_rate)\n",
        "        self.trans2 = TransitionBlock(in_planes, int(math.floor(in_planes*reduction)), dropRate=dropRate)\n",
        "        in_planes = int(math.floor(in_planes*reduction))\n",
        "        # 3rd block\n",
        "        self.block3 = DenseBlock(n, in_planes, growth_rate, block, dropRate)\n",
        "        in_planes = int(in_planes+n*growth_rate)\n",
        "        # global average pooling and classifier\n",
        "        self.bn1 = nn.BatchNorm2d(in_planes)\n",
        "        self.relu = nn.ReLU(inplace=True)\n",
        "        self.fc = nn.Linear(in_planes, num_classes)\n",
        "        self.in_planes = in_planes\n",
        "\n",
        "        for m in self.modules():\n",
        "            if isinstance(m, nn.Conv2d):\n",
        "                n = m.kernel_size[0] * m.kernel_size[1] * m.out_channels\n",
        "                m.weight.data.normal_(0, math.sqrt(2. / n))\n",
        "            elif isinstance(m, nn.BatchNorm2d):\n",
        "                m.weight.data.fill_(1)\n",
        "                m.bias.data.zero_()\n",
        "            elif isinstance(m, nn.Linear):\n",
        "                m.bias.data.zero_()\n",
        "                    \n",
        "    def forward(self, x):\n",
        "        out = self.conv1(x)\n",
        "        out = self.trans1(self.block1(out))\n",
        "        out = self.trans2(self.block2(out))\n",
        "        out = self.block3(out)\n",
        "        out = self.relu(self.bn1(out))\n",
        "        out = F.avg_pool2d(out, 8)\n",
        "        out = out.view(-1, self.in_planes)\n",
        "        return self.fc(out)\n",
        "    \n",
        "    def load(self, path=\"./pre_trained/densenet_cifar100.pth\"):\n",
        "        tm = torch.load(path,map_location=\"cpu\")\n",
        "        self.load_state_dict(tm.state_dict(),strict=False)\n",
        "    \n",
        "    def record(self, t):\n",
        "        if self.collecting:\n",
        "            self.gram_feats.append(t)\n",
        "    \n",
        "    def gram_feature_list(self,x):\n",
        "        self.collecting = True\n",
        "        self.gram_feats = []\n",
        "        self.forward(x)\n",
        "        self.collecting = False\n",
        "        temp = self.gram_feats\n",
        "        self.gram_feats = []\n",
        "        return temp\n",
        "    \n",
        "    def get_min_max(self, data, power):\n",
        "        mins = []\n",
        "        maxs = []\n",
        "        \n",
        "        for i in range(0,len(data),128):\n",
        "            batch = data[i:i+128].cuda()\n",
        "            feat_list = self.gram_feature_list(batch)\n",
        "            for L,feat_L in enumerate(feat_list):\n",
        "                if L==len(mins):\n",
        "                    mins.append([None]*len(power))\n",
        "                    maxs.append([None]*len(power))\n",
        "                \n",
        "                for p,P in enumerate(power):\n",
        "                    g_p = G_p(feat_L,P)\n",
        "                    \n",
        "                    current_min = g_p.min(dim=0,keepdim=True)[0]\n",
        "                    current_max = g_p.max(dim=0,keepdim=True)[0]\n",
        "                    \n",
        "                    if mins[L][p] is None:\n",
        "                        mins[L][p] = current_min\n",
        "                        maxs[L][p] = current_max\n",
        "                    else:\n",
        "                        mins[L][p] = torch.min(current_min,mins[L][p])\n",
        "                        maxs[L][p] = torch.max(current_max,maxs[L][p])\n",
        "        \n",
        "        return mins,maxs\n",
        "    \n",
        "    def get_deviations(self,data,power,mins,maxs):\n",
        "        deviations = []\n",
        "        \n",
        "        for i in range(0,len(data),128):            \n",
        "            batch = data[i:i+128].cuda()\n",
        "            feat_list = self.gram_feature_list(batch)\n",
        "            batch_deviations = []\n",
        "            for L,feat_L in enumerate(feat_list):\n",
        "                dev = 0\n",
        "                for p,P in enumerate(power):\n",
        "                    g_p = G_p(feat_L,P)\n",
        "                    \n",
        "                    dev +=  (F.relu(mins[L][p]-g_p)/torch.abs(mins[L][p]+10**-6)).sum(dim=1,keepdim=True)\n",
        "                    dev +=  (F.relu(g_p-maxs[L][p])/torch.abs(maxs[L][p]+10**-6)).sum(dim=1,keepdim=True)\n",
        "                batch_deviations.append(dev.cpu().detach().numpy())\n",
        "            batch_deviations = np.concatenate(batch_deviations,axis=1)\n",
        "            deviations.append(batch_deviations)\n",
        "        deviations = np.concatenate(deviations,axis=0)\n",
        "        \n",
        "        return deviations\n",
        "\n",
        "torch_model = DenseNet3(100, num_classes=100)\n",
        "# torch_model = torch.nn.DataParallel(torch_model).cuda()\n",
        "model = torch.load('./results/Zero_Shot/Zero_Shot_cifar100_densenet_OECC_tune_epoch_9.pth')\n",
        "torch_model.load_state_dict(model) #strict=False) \n",
        "torch_model.cuda()\n",
        "torch_model.params = list(torch_model.parameters())\n",
        "torch_model.eval()\n",
        "print(\"Done\")  "
      ],
      "execution_count": 0,
      "outputs": [
        {
          "output_type": "stream",
          "text": [
            "Done\n"
          ],
          "name": "stdout"
        }
      ]
    },
    {
      "cell_type": "markdown",
      "metadata": {
        "id": "vWSIxMrmHKV-",
        "colab_type": "text"
      },
      "source": [
        "## Datasets"
      ]
    },
    {
      "cell_type": "markdown",
      "metadata": {
        "id": "pfif-xpHHKWC",
        "colab_type": "text"
      },
      "source": [
        "<b>In-distribution Datasets</b>"
      ]
    },
    {
      "cell_type": "code",
      "metadata": {
        "ExecuteTime": {
          "end_time": "2019-11-28T17:33:49.652146Z",
          "start_time": "2019-11-28T17:33:29.662856Z"
        },
        "id": "rW13SckdHKWD",
        "colab_type": "code",
        "colab": {},
        "outputId": "95d7eaf9-cf39-4986-c95b-565b7f331a71"
      },
      "source": [
        "batch_size = 128\n",
        "mean = np.array([[125.3/255, 123.0/255, 113.9/255]]).T\n",
        "\n",
        "std = np.array([[63.0/255, 62.1/255.0, 66.7/255.0]]).T\n",
        "normalize = transforms.Normalize((125.3/255, 123.0/255, 113.9/255), (63.0/255, 62.1/255.0, 66.7/255.0))\n",
        "\n",
        "transform_train = transforms.Compose([\n",
        "        transforms.RandomCrop(32, padding=4),\n",
        "        transforms.RandomHorizontalFlip(),\n",
        "        transforms.ToTensor(),\n",
        "        normalize\n",
        "        \n",
        "    ])\n",
        "transform_test = transforms.Compose([\n",
        "    transforms.CenterCrop(size=(32, 32)),\n",
        "        transforms.ToTensor(),\n",
        "        normalize\n",
        "    ])\n",
        "\n",
        "train_loader = torch.utils.data.DataLoader(\n",
        "    datasets.CIFAR100('data/cifar100-data', train=True, download=True,\n",
        "                   transform=transform_train),\n",
        "    batch_size=batch_size, shuffle=True)\n",
        "test_loader = torch.utils.data.DataLoader(\n",
        "    datasets.CIFAR100('data/cifar100-data', train=False, transform=transform_test),\n",
        "    batch_size=batch_size)\n",
        "\n",
        "data_train = list(torch.utils.data.DataLoader(\n",
        "        datasets.CIFAR100('data/cifar100-data', train=True, download=True,\n",
        "                       transform=transform_test),\n",
        "        batch_size=1, shuffle=False))\n",
        "\n",
        "data = list(torch.utils.data.DataLoader(\n",
        "    datasets.CIFAR100('data/cifar100-data', train=False, download=True,\n",
        "                   transform=transform_test),\n",
        "    batch_size=1, shuffle=False))"
      ],
      "execution_count": 0,
      "outputs": [
        {
          "output_type": "stream",
          "text": [
            "Files already downloaded and verified\n",
            "Files already downloaded and verified\n",
            "Files already downloaded and verified\n"
          ],
          "name": "stdout"
        }
      ]
    },
    {
      "cell_type": "code",
      "metadata": {
        "ExecuteTime": {
          "end_time": "2019-11-28T03:29:13.914431Z",
          "start_time": "2019-11-28T03:29:04.095371Z"
        },
        "id": "CT5T35hFHKWI",
        "colab_type": "code",
        "colab": {},
        "outputId": "2b3b194a-2c5b-4ba4-a415-c3a22c01afc4"
      },
      "source": [
        "torch_model.eval()\n",
        "correct = 0\n",
        "total = 0\n",
        "for x,y in test_loader:\n",
        "    x = x.cuda()\n",
        "    y = y.numpy()\n",
        "    correct += (y==np.argmax(torch_model(x).detach().cpu().numpy(),axis=1)).sum()\n",
        "    total += y.shape[0]\n",
        "print(\"Test accuracy: \",correct/total)"
      ],
      "execution_count": 0,
      "outputs": [
        {
          "output_type": "stream",
          "text": [
            "Test accuracy:  0.7529\n"
          ],
          "name": "stdout"
        }
      ]
    },
    {
      "cell_type": "markdown",
      "metadata": {
        "id": "ierlwIb7HKWN",
        "colab_type": "text"
      },
      "source": [
        "<b>Out-of-distribution Datasets</b>"
      ]
    },
    {
      "cell_type": "code",
      "metadata": {
        "ExecuteTime": {
          "end_time": "2019-11-28T17:34:07.333008Z",
          "start_time": "2019-11-28T17:33:49.655183Z"
        },
        "id": "02E7myyQHKWO",
        "colab_type": "code",
        "colab": {},
        "outputId": "e0b4f69d-1a9f-4b1b-ff3f-25c374d7e18c"
      },
      "source": [
        "svhn = list(torch.utils.data.DataLoader(\n",
        "    datasets.SVHN('data/svhn-data', split=\"test\", download=True,\n",
        "                   transform=transform_test),\n",
        "    batch_size=1, shuffle=True))\n",
        "\n",
        "lsun = list(torch.utils.data.DataLoader(\n",
        "    datasets.ImageFolder(\"data/LSUN_resize/\",transform=transform_test),batch_size=1,shuffle=True))\n",
        "\n",
        "tinyimagenet = list(torch.utils.data.DataLoader(\n",
        "    datasets.ImageFolder(\"data/Imagenet_resize/\",transform=transform_test),batch_size=1,shuffle=True))"
      ],
      "execution_count": 0,
      "outputs": [
        {
          "output_type": "stream",
          "text": [
            "Using downloaded and verified file: data/svhn-data/test_32x32.mat\n"
          ],
          "name": "stdout"
        }
      ]
    },
    {
      "cell_type": "markdown",
      "metadata": {
        "id": "RidGKSl5HKWX",
        "colab_type": "text"
      },
      "source": [
        "<b>Validation -> Out-of-distribution Datasets</b>"
      ]
    },
    {
      "cell_type": "code",
      "metadata": {
        "id": "IYcRmSUHHKWY",
        "colab_type": "code",
        "colab": {}
      },
      "source": [
        "# /////////////// Uniform Noise ///////////////\n",
        "ood_num_examples = len(data)//5\n",
        "\n",
        "dummy_targets = torch.ones(ood_num_examples)\n",
        "ood_data = torch.from_numpy(\n",
        "    np.random.uniform(size=(ood_num_examples, 3, 32, 32),\n",
        "                      low=-1.0, high=1.0).astype(np.float32))\n",
        "ood_data = torch.utils.data.TensorDataset(ood_data, dummy_targets)\n",
        "uniform_loader = list(torch.utils.data.DataLoader(ood_data, batch_size=1, shuffle=True))"
      ],
      "execution_count": 0,
      "outputs": []
    },
    {
      "cell_type": "code",
      "metadata": {
        "id": "Ht84DY65HKWd",
        "colab_type": "code",
        "colab": {}
      },
      "source": [
        "# /////////////// Arithmetic Mean of Images ///////////////\n",
        "\n",
        "ood_data = datasets.CIFAR10('data/cifar100-data', download=True,train=False, transform=transform_test)\n",
        "\n",
        "\n",
        "class AvgOfPair(torch.utils.data.Dataset):\n",
        "    def __init__(self, dataset):\n",
        "        self.dataset = dataset\n",
        "        self.shuffle_indices = np.arange(len(dataset))\n",
        "        np.random.shuffle(self.shuffle_indices)\n",
        "\n",
        "    def __getitem__(self, i):\n",
        "        random_idx = np.random.choice(len(self.dataset))\n",
        "        while random_idx == i:\n",
        "            random_idx = np.random.choice(len(self.dataset))\n",
        "\n",
        "        return self.dataset[i][0] / 2. + self.dataset[random_idx][0] / 2., 0\n",
        "\n",
        "    def __len__(self):\n",
        "        return len(self.dataset)\n",
        "\n",
        "\n",
        "ami_loader = list(torch.utils.data.DataLoader(AvgOfPair(ood_data),\n",
        "                                         batch_size=batch_size, shuffle=True,pin_memory=True))"
      ],
      "execution_count": 0,
      "outputs": []
    },
    {
      "cell_type": "code",
      "metadata": {
        "id": "UZmP5SkAHKWh",
        "colab_type": "code",
        "colab": {}
      },
      "source": [
        "# /////////////// Geometric Mean of Images ///////////////\n",
        "ood_data = datasets.CIFAR10('data/cifar100-data', download=True,train=False, transform=transform_test)\n",
        "\n",
        "class GeomMeanOfPair(torch.utils.data.Dataset):\n",
        "    def __init__(self, dataset):\n",
        "        self.dataset = dataset\n",
        "        self.shuffle_indices = np.arange(len(dataset))\n",
        "        np.random.shuffle(self.shuffle_indices)\n",
        "\n",
        "    def __getitem__(self, i):\n",
        "        random_idx = np.random.choice(len(self.dataset))\n",
        "        while random_idx == i:\n",
        "            random_idx = np.random.choice(len(self.dataset))\n",
        "\n",
        "        return normalize(torch.sqrt(self.dataset[i][0] * self.dataset[random_idx][0])), 0\n",
        "\n",
        "    def __len__(self):\n",
        "        return len(self.dataset)\n",
        "\n",
        "\n",
        "gmi_loader = list(torch.utils.data.DataLoader(\n",
        "    GeomMeanOfPair(ood_data), batch_size=batch_size, shuffle=True,pin_memory=True))"
      ],
      "execution_count": 0,
      "outputs": []
    },
    {
      "cell_type": "code",
      "metadata": {
        "id": "wL1ARb5ZHKWo",
        "colab_type": "code",
        "colab": {}
      },
      "source": [
        "# /////////////// Jigsaw Images ///////////////\n",
        "\n",
        "ood_loader = torch.utils.data.DataLoader(ood_data, batch_size=batch_size, shuffle=True,\n",
        "                                         num_workers=4, pin_memory=True)\n",
        "\n",
        "jigsaw = lambda x: torch.cat((\n",
        "    torch.cat((torch.cat((x[:, 8:16, :16], x[:, :8, :16]), 1),\n",
        "               x[:, 16:, :16]), 2),\n",
        "    torch.cat((x[:, 16:, 16:],\n",
        "               torch.cat((x[:, :16, 24:], x[:, :16, 16:24]), 2)), 2),\n",
        "), 1)\n",
        "\n",
        "ood_loader.dataset.transform = transforms.Compose([transforms.ToTensor(), jigsaw, normalize])\n",
        "jigsaw_loader = list(ood_loader)"
      ],
      "execution_count": 0,
      "outputs": []
    },
    {
      "cell_type": "code",
      "metadata": {
        "id": "cUsySqCjHKWt",
        "colab_type": "code",
        "colab": {}
      },
      "source": [
        "# /////////////// Speckled Images ///////////////\n",
        "ood_loader = torch.utils.data.DataLoader(ood_data, batch_size=batch_size, shuffle=True,\n",
        "                                         num_workers=4, pin_memory=True)\n",
        "speckle = lambda x: torch.clamp(x + x * torch.randn_like(x), 0, 1)\n",
        "ood_loader.dataset.transform = transforms.Compose([transforms.ToTensor(), speckle, normalize])\n",
        "speckle_loader = list(ood_loader)"
      ],
      "execution_count": 0,
      "outputs": []
    },
    {
      "cell_type": "code",
      "metadata": {
        "id": "JwsaQUOjHKWx",
        "colab_type": "code",
        "colab": {}
      },
      "source": [
        "# /////////////// Pixelated Images ///////////////\n",
        "ood_loader = torch.utils.data.DataLoader(ood_data, batch_size=batch_size, shuffle=True,\n",
        "                                         num_workers=4, pin_memory=True)\n",
        "pixelate = lambda x: x.resize((int(32 * 0.2), int(32 * 0.2)), PILImage.BOX).resize((32, 32), PILImage.BOX)\n",
        "ood_loader.dataset.transform = transforms.Compose([pixelate, transforms.ToTensor(), normalize])\n",
        "pixelate_loader = list(ood_loader)"
      ],
      "execution_count": 0,
      "outputs": []
    },
    {
      "cell_type": "code",
      "metadata": {
        "id": "Dywdsep4HKW1",
        "colab_type": "code",
        "colab": {}
      },
      "source": [
        "# /////////////// RGB Ghosted/Shifted Images ///////////////\n",
        "ood_loader = torch.utils.data.DataLoader(ood_data, batch_size=batch_size, shuffle=True,\n",
        "                                         num_workers=4, pin_memory=True)\n",
        "rgb_shift = lambda x: torch.cat((x[1:2].index_select(2, torch.LongTensor([i for i in range(32 - 1, -1, -1)])),\n",
        "                                 x[2:, :, :], x[0:1, :, :]), 0)\n",
        "ood_loader.dataset.transform = transforms.Compose([transforms.ToTensor(), rgb_shift, normalize])\n",
        "rgb_shift_loader = list(ood_loader)"
      ],
      "execution_count": 0,
      "outputs": []
    },
    {
      "cell_type": "code",
      "metadata": {
        "id": "4PQKKsFPHKW5",
        "colab_type": "code",
        "colab": {}
      },
      "source": [
        "# /////////////// Inverted Images ///////////////\n",
        "ood_loader = torch.utils.data.DataLoader(ood_data, batch_size=batch_size, shuffle=True,\n",
        "                                         num_workers=4, pin_memory=True)\n",
        "# not done on all channels to make image ood with higher probability\n",
        "invert = lambda x: torch.cat((x[0:1, :, :], 1 - x[1:2, :, ], 1 - x[2:, :, :],), 0)\n",
        "ood_loader.dataset.transform = transforms.Compose([transforms.ToTensor(), invert, normalize])\n",
        "invert_loader = list(ood_loader)"
      ],
      "execution_count": 0,
      "outputs": []
    },
    {
      "cell_type": "markdown",
      "metadata": {
        "id": "ZF57K27RHKW9",
        "colab_type": "text"
      },
      "source": [
        "## Code for Detecting OODs"
      ]
    },
    {
      "cell_type": "markdown",
      "metadata": {
        "id": "0Fjlt7XbHKW9",
        "colab_type": "text"
      },
      "source": [
        "<b> Extract predictions for train and test data </b>"
      ]
    },
    {
      "cell_type": "code",
      "metadata": {
        "ExecuteTime": {
          "end_time": "2019-11-28T17:35:21.905988Z",
          "start_time": "2019-11-28T17:34:34.453940Z"
        },
        "id": "dUjlGneOHKW-",
        "colab_type": "code",
        "colab": {},
        "outputId": "c48a6f16-1286-4301-d7be-42fbbc731058"
      },
      "source": [
        "train_preds = []\n",
        "train_confs = []\n",
        "train_logits = []\n",
        "for idx in range(0,len(data_train),128):\n",
        "    batch = torch.squeeze(torch.stack([x[0] for x in data_train[idx:idx+128]]),dim=1).cuda()\n",
        "    \n",
        "    logits = torch_model(batch)\n",
        "    confs = F.softmax(logits,dim=1).cpu().detach().numpy()\n",
        "    preds = np.argmax(confs,axis=1)\n",
        "    logits = (logits.cpu().detach().numpy())#**2)#.sum(axis=1)\n",
        "\n",
        "    train_confs.extend(np.max(confs,axis=1))    \n",
        "    train_preds.extend(preds)\n",
        "    train_logits.extend(logits)\n",
        "print(\"Done\")\n",
        "\n",
        "test_preds = []\n",
        "test_confs = []\n",
        "test_logits = []\n",
        "\n",
        "for idx in range(0,len(data),128):\n",
        "    batch = torch.squeeze(torch.stack([x[0] for x in data[idx:idx+128]]),dim=1).cuda()\n",
        "    \n",
        "    logits = torch_model(batch)\n",
        "    confs = F.softmax(logits,dim=1).cpu().detach().numpy()\n",
        "    preds = np.argmax(confs,axis=1)\n",
        "    logits = (logits.cpu().detach().numpy())#**2)#.sum(axis=1)\n",
        "\n",
        "    test_confs.extend(np.max(confs,axis=1))    \n",
        "    test_preds.extend(preds)\n",
        "    test_logits.extend(logits)\n",
        "print(\"Done\")"
      ],
      "execution_count": 0,
      "outputs": [
        {
          "output_type": "stream",
          "text": [
            "Done\n",
            "Done\n"
          ],
          "name": "stdout"
        }
      ]
    },
    {
      "cell_type": "markdown",
      "metadata": {
        "id": "GGi5wyvFHKXC",
        "colab_type": "text"
      },
      "source": [
        "<b> Code for detecting OODs by identifying anomalies in correlations </b>"
      ]
    },
    {
      "cell_type": "code",
      "metadata": {
        "ExecuteTime": {
          "end_time": "2019-11-28T17:35:22.028146Z",
          "start_time": "2019-11-28T17:35:21.910438Z"
        },
        "id": "83AHmTZ9HKXE",
        "colab_type": "code",
        "colab": {}
      },
      "source": [
        "import zero_shot_calculate_log as callog\n",
        "def detect(all_test_deviations,all_ood_deviations, verbose=True):\n",
        "    average_results = {}\n",
        "    for i in range(1,11):\n",
        "        random.seed(i)\n",
        "        \n",
        "        validation_indices = random.sample(range(len(all_test_deviations)),int(0.1*len(all_test_deviations)))\n",
        "        test_indices = sorted(list(set(range(len(all_test_deviations)))-set(validation_indices)))\n",
        "\n",
        "        validation = all_test_deviations[validation_indices]\n",
        "        test_deviations = all_test_deviations[test_indices]\n",
        "\n",
        "        t95 = validation.mean(axis=0)+10**-7\n",
        "\n",
        "        test_deviations = (test_deviations/t95[np.newaxis,:]).sum(axis=1)\n",
        "        ood_deviations = (all_ood_deviations/t95[np.newaxis,:]).sum(axis=1)\n",
        "        \n",
        "        results = callog.compute_metric(-test_deviations,-ood_deviations)\n",
        "        for m in results:\n",
        "            average_results[m] = average_results.get(m,0)+results[m]\n",
        "    \n",
        "    for m in average_results:\n",
        "        average_results[m] /= i\n",
        "    if verbose:\n",
        "        callog.print_results(average_results)\n",
        "    return average_results\n",
        "\n",
        "def Analyse(dataset,POWERS=[10]):\n",
        "    ood_preds = []\n",
        "    ood_confs = []\n",
        "    ood_logits = []\n",
        "    ood = dataset\n",
        "    \n",
        "    for idx in range(0,len(ood),128):\n",
        "        batch = torch.squeeze(torch.stack([x[0] for x in ood[idx:idx+128]]),dim=1).cuda()\n",
        "        logits = torch_model(batch)\n",
        "        confs = F.softmax(logits,dim=1).cpu().detach().numpy()\n",
        "        preds = np.argmax(confs,axis=1)\n",
        "        logits = (logits.cpu().detach().numpy())#**2).sum(axis=1)\n",
        "\n",
        "        ood_confs.extend(np.max(confs,axis=1))\n",
        "        ood_preds.extend(preds)   \n",
        "        ood_logits.extend(logits)\n",
        "    print(\"Done\")\n",
        "    \n",
        "    def compute_deviation(PRED):\n",
        "        train_indices = np.where(np.array(train_preds)==PRED)[0]\n",
        "        test_indices = np.where(np.array(test_preds)==PRED)[0]\n",
        "        ood_indices = np.where(np.array(ood_preds)==PRED)[0]\n",
        "\n",
        "        train_PRED = torch.squeeze(torch.stack([data_train[i][0] for i in train_indices]),dim=1)\n",
        "        test_PRED = torch.squeeze(torch.stack([data[i][0] for i in test_indices]),dim=1)\n",
        "        if len(ood_indices)!=0:\n",
        "            ood_PRED = torch.squeeze(torch.stack([ood[i][0] for i in ood_indices]),dim=1)\n",
        "\n",
        "        test_confs_PRED = np.array([test_confs[i] for i in test_indices])\n",
        "        if len(ood_indices)!=0:\n",
        "            ood_confs_PRED =  np.array([ood_confs[i] for i in ood_indices])\n",
        "\n",
        "        mins,maxs = torch_model.get_min_max(train_PRED,power=POWERS)\n",
        "\n",
        "        test_deviations = torch_model.get_deviations(test_PRED,power=POWERS,mins=mins,maxs=maxs)/test_confs_PRED[:,np.newaxis]\n",
        "\n",
        "        if len(ood_indices)!=0:\n",
        "            ood_deviations = torch_model.get_deviations(ood_PRED,power=POWERS,mins=mins,maxs=maxs)/ood_confs_PRED[:,np.newaxis]\n",
        "        else:\n",
        "            ood_deviations = None\n",
        "\n",
        "        return test_deviations,ood_deviations\n",
        "    \n",
        "    CLASSES = range(100)\n",
        "    \n",
        "    all_test_deviations = None\n",
        "    all_ood_deviations = None\n",
        "\n",
        "    \n",
        "    for PRED in tqdm(CLASSES):\n",
        "        test_deviations,ood_deviations = compute_deviation(PRED)\n",
        "        \n",
        "        if all_test_deviations is not None:\n",
        "            all_test_deviations = np.concatenate([all_test_deviations,test_deviations],axis=0) \n",
        "        else:\n",
        "            all_test_deviations = test_deviations\n",
        "        if ood_deviations is not None:\n",
        "            if all_ood_deviations is not None:\n",
        "                all_ood_deviations = np.concatenate([all_ood_deviations,ood_deviations],axis=0)\n",
        "            else:\n",
        "                all_ood_deviations = ood_deviations\n",
        "    \n",
        "    \n",
        "    average_results = detect(all_test_deviations,all_ood_deviations)\n",
        "    return average_results, all_test_deviations, all_ood_deviations\n"
      ],
      "execution_count": 0,
      "outputs": []
    },
    {
      "cell_type": "markdown",
      "metadata": {
        "id": "rlp1M2miHKXJ",
        "colab_type": "text"
      },
      "source": [
        "<center><h1> Results </h1></center>"
      ]
    },
    {
      "cell_type": "markdown",
      "metadata": {
        "id": "-KgCPlZkHKXK",
        "colab_type": "text"
      },
      "source": [
        "### Validation"
      ]
    },
    {
      "cell_type": "code",
      "metadata": {
        "id": "jcE4lDikHKXK",
        "colab_type": "code",
        "colab": {}
      },
      "source": [
        "print(\"Uniform Noise\")\n",
        "uniform_results=Analyse(uniform_loader,POWERS=range(1,11))\n",
        "print()\n",
        "print(\"Arithmetic Mean of Images\")\n",
        "ami_results =Analyse(ami_loader,POWERS=range(1,11))\n",
        "print()\n",
        "print(\"Geometric Mean of Images\")\n",
        "gmi_results =Analyse(gmi_loader,POWERS=range(1,11))\n",
        "print()\n",
        "print(\"Jigsaw Images\")\n",
        "jigsaw_results =Analyse(jigsaw_loader,POWERS=range(1,11))\n",
        "print()\n",
        "print(\"Speckle Images\")\n",
        "speckle_results =Analyse(speckle_loader,POWERS=range(1,11))\n",
        "print()\n",
        "print(\"Pixelated Images\")\n",
        "pixelate_results =Analyse(pixelate_loader,POWERS=range(1,11))\n",
        "print()\n",
        "print(\"RGB Ghosted/Shifted Images\")\n",
        "rgb_shift_results =Analyse(rgb_shift_loader,POWERS=range(1,11))\n",
        "print()\n",
        "print(\"Inverted Images\\n\")\n",
        "inverted_results =Analyse(invert_loader,POWERS=range(1,11))"
      ],
      "execution_count": 0,
      "outputs": []
    },
    {
      "cell_type": "markdown",
      "metadata": {
        "id": "74YDNKttHKXO",
        "colab_type": "text"
      },
      "source": [
        "### Testing"
      ]
    },
    {
      "cell_type": "code",
      "metadata": {
        "ExecuteTime": {
          "end_time": "2019-11-28T17:45:39.450454Z",
          "start_time": "2019-11-28T17:35:41.575964Z"
        },
        "id": "MDbJO0JdHKXP",
        "colab_type": "code",
        "colab": {}
      },
      "source": [
        "print(\"SVHN\")\n",
        "svhn_results=Analyse(svhn,POWERS=range(1,11)) \n",
        "print()\n",
        "print(\"LSUN_R\")\n",
        "lsun_results=Analyse(lsun,POWERS=range(1,11))\n",
        "print()\n",
        "print(\"TinyImageNet_R\")\n",
        "tinyimagenet_results=Analyse(tinyimagenet,POWERS=range(1,11))\n",
        "print()"
      ],
      "execution_count": 0,
      "outputs": []
    }
  ]
}