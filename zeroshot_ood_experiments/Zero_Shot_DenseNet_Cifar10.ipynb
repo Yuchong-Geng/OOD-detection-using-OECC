{
  "nbformat": 4,
  "nbformat_minor": 0,
  "metadata": {
    "kernelspec": {
      "display_name": "Python 2",
      "language": "python",
      "name": "python2"
    },
    "language_info": {
      "codemirror_mode": {
        "name": "ipython",
        "version": 2
      },
      "file_extension": ".py",
      "mimetype": "text/x-python",
      "name": "python",
      "nbconvert_exporter": "python",
      "pygments_lexer": "ipython2",
      "version": "2.7.13"
    },
    "colab": {
      "name": "Zero_Shot_DenseNet_Cifar10.ipynb",
      "provenance": []
    }
  },
  "cells": [
    {
      "cell_type": "markdown",
      "metadata": {
        "id": "BpSvaUnOCtCv",
        "colab_type": "text"
      },
      "source": [
        "<center><h1>DenseNet: Cifar10</h1></center>"
      ]
    },
    {
      "cell_type": "markdown",
      "metadata": {
        "id": "oWWjWlF_CtCx",
        "colab_type": "text"
      },
      "source": [
        "## Imports"
      ]
    },
    {
      "cell_type": "code",
      "metadata": {
        "ExecuteTime": {
          "end_time": "2019-11-23T17:54:47.854055Z",
          "start_time": "2019-11-23T17:54:47.232818Z"
        },
        "id": "9_pwZegPCtCy",
        "colab_type": "code",
        "colab": {}
      },
      "source": [
        "from __future__ import division,print_function\n",
        "\n",
        "%matplotlib inline\n",
        "%reload_ext autoreload\n",
        "%autoreload 2\n",
        "\n",
        "import sys\n",
        "from tqdm import tqdm_notebook as tqdm\n",
        "\n",
        "import random\n",
        "import matplotlib.pyplot as plt\n",
        "import math\n",
        "\n",
        "import numpy as np\n",
        "\n",
        "import torch\n",
        "import torch.nn as nn\n",
        "import torch.nn.functional as F\n",
        "import torch.optim as optim\n",
        "import torch.nn.init as init\n",
        "from models import densenet, new_densenet\n",
        "from torch.autograd import Variable, grad\n",
        "from torchvision import datasets, transforms\n",
        "from torch.nn.parameter import Parameter\n",
        "from PIL import Image as PILImage\n",
        "import zero_shot_calculate_log as callog\n",
        "\n",
        "import warnings\n",
        "warnings.filterwarnings('ignore')"
      ],
      "execution_count": 0,
      "outputs": []
    },
    {
      "cell_type": "code",
      "metadata": {
        "ExecuteTime": {
          "end_time": "2019-11-23T17:54:47.885372Z",
          "start_time": "2019-11-23T17:54:47.858538Z"
        },
        "id": "VFugEw1vCtC3",
        "colab_type": "code",
        "colab": {}
      },
      "source": [
        "torch.cuda.set_device(1) #Select the GPU"
      ],
      "execution_count": 0,
      "outputs": []
    },
    {
      "cell_type": "markdown",
      "metadata": {
        "id": "v8jjeCENCtC8",
        "colab_type": "text"
      },
      "source": [
        "## Model definition"
      ]
    },
    {
      "cell_type": "code",
      "metadata": {
        "ExecuteTime": {
          "end_time": "2019-11-22T06:28:41.031771Z",
          "start_time": "2019-11-22T06:28:36.493662Z"
        },
        "id": "EaeAYIaACtC9",
        "colab_type": "code",
        "colab": {},
        "outputId": "a619c939-7d72-4a66-dbac-e8b9f70c6a1d"
      },
      "source": [
        "def conv3x3(in_planes, out_planes, stride=1):\n",
        "    return nn.Conv2d(in_planes, out_planes, kernel_size=3, stride=stride, padding=1, bias=False)\n",
        "\n",
        "def G_p(ob, p):\n",
        "    temp = ob.detach()\n",
        "\n",
        "    temp = temp**p\n",
        "    temp = temp.reshape(temp.shape[0],temp.shape[1],-1)\n",
        "    temp = ((torch.matmul(temp,temp.transpose(dim0=2,dim1=1)))).sum(dim=2)\n",
        "    temp = (temp.sign()*torch.abs(temp)**(1/p)).reshape(temp.shape[0],-1)\n",
        "\n",
        "    return temp\n",
        "\n",
        "\n",
        "class BottleneckBlock(nn.Module):\n",
        "    def __init__(self, in_planes, out_planes, dropRate=0.0):\n",
        "        super(BottleneckBlock, self).__init__()\n",
        "        inter_planes = out_planes * 4\n",
        "        self.bn1 = nn.BatchNorm2d(in_planes)\n",
        "        self.relu = nn.ReLU(inplace=True)\n",
        "        self.conv1 = nn.Conv2d(in_planes, inter_planes, kernel_size=1, stride=1,\n",
        "                               padding=0, bias=False)\n",
        "        self.bn2 = nn.BatchNorm2d(inter_planes)\n",
        "        self.conv2 = nn.Conv2d(inter_planes, out_planes, kernel_size=3, stride=1,\n",
        "                               padding=1, bias=False)\n",
        "        self.droprate = dropRate\n",
        "    \n",
        "    def forward(self, x):\n",
        "        \n",
        "        out = self.conv1(self.relu(self.bn1(x)))\n",
        "        \n",
        "        torch_model.record(out)\n",
        "        \n",
        "        if self.droprate > 0:\n",
        "            out = F.dropout(out, p=self.droprate, inplace=False, training=self.training)\n",
        "        \n",
        "        out = self.conv2(self.relu(self.bn2(out)))\n",
        "        torch_model.record(out)\n",
        "        \n",
        "        if self.droprate > 0:\n",
        "            out = F.dropout(out, p=self.droprate, inplace=False, training=self.training)\n",
        "        return torch.cat([x, out], 1)\n",
        "\n",
        "class TransitionBlock(nn.Module):\n",
        "    def __init__(self, in_planes, out_planes, dropRate=0.0):\n",
        "        super(TransitionBlock, self).__init__()\n",
        "        self.bn1 = nn.BatchNorm2d(in_planes)\n",
        "        self.relu = nn.ReLU(inplace=True)\n",
        "        self.conv1 = nn.Conv2d(in_planes, out_planes, kernel_size=1, stride=1,\n",
        "                               padding=0, bias=False)\n",
        "        self.droprate = dropRate\n",
        "    \n",
        "    def forward(self, x):\n",
        "        out = self.conv1(self.relu(self.bn1(x)))\n",
        "        torch_model.record(out)\n",
        "        \n",
        "        if self.droprate > 0:\n",
        "            out = F.dropout(out, p=self.droprate, inplace=False, training=self.training)\n",
        "        return F.avg_pool2d(out, 2)\n",
        "\n",
        "class DenseBlock(nn.Module):\n",
        "    def __init__(self, nb_layers, in_planes, growth_rate, block, dropRate=0.0):\n",
        "        super(DenseBlock, self).__init__()\n",
        "        self.layer = self._make_layer(block, in_planes, growth_rate, nb_layers, dropRate)\n",
        "    \n",
        "    def _make_layer(self, block, in_planes, growth_rate, nb_layers, dropRate):\n",
        "        layers = []\n",
        "        for i in range(int(nb_layers)):\n",
        "            layers.append(block(in_planes+i*growth_rate, growth_rate, dropRate))\n",
        "        return nn.Sequential(*layers)\n",
        "    \n",
        "    def forward(self, x):\n",
        "        t = self.layer(x)\n",
        "        torch_model.record(t)\n",
        "        return t\n",
        "\n",
        "\n",
        "class DenseNet3(nn.Module):\n",
        "    def __init__(self, depth, num_classes, growth_rate=12,\n",
        "                 reduction=0.5, bottleneck=True, dropRate=0.0):\n",
        "        super(DenseNet3, self).__init__()\n",
        "        \n",
        "        self.collecting = False\n",
        "        \n",
        "        in_planes = 2 * growth_rate\n",
        "        n = (depth - 4) / 3\n",
        "        if bottleneck == True:\n",
        "            n = n/2\n",
        "            block = BottleneckBlock\n",
        "        else:\n",
        "            block = BasicBlock\n",
        "        # 1st conv before any dense block\n",
        "        self.conv1 = nn.Conv2d(3, in_planes, kernel_size=3, stride=1,\n",
        "                               padding=1, bias=False)\n",
        "        # 1st block\n",
        "        self.block1 = DenseBlock(n, in_planes, growth_rate, block, dropRate)\n",
        "        in_planes = int(in_planes+n*growth_rate)\n",
        "        self.trans1 = TransitionBlock(in_planes, int(math.floor(in_planes*reduction)), dropRate=dropRate)\n",
        "        in_planes = int(math.floor(in_planes*reduction))\n",
        "        # 2nd block\n",
        "        self.block2 = DenseBlock(n, in_planes, growth_rate, block, dropRate)\n",
        "        in_planes = int(in_planes+n*growth_rate)\n",
        "        self.trans2 = TransitionBlock(in_planes, int(math.floor(in_planes*reduction)), dropRate=dropRate)\n",
        "        in_planes = int(math.floor(in_planes*reduction))\n",
        "        # 3rd block\n",
        "        self.block3 = DenseBlock(n, in_planes, growth_rate, block, dropRate)\n",
        "        in_planes = int(in_planes+n*growth_rate)\n",
        "        # global average pooling and classifier\n",
        "        self.bn1 = nn.BatchNorm2d(in_planes)\n",
        "        self.relu = nn.ReLU(inplace=True)\n",
        "        self.fc = nn.Linear(in_planes, num_classes)\n",
        "        self.in_planes = in_planes\n",
        "\n",
        "        for m in self.modules():\n",
        "            if isinstance(m, nn.Conv2d):\n",
        "                n = m.kernel_size[0] * m.kernel_size[1] * m.out_channels\n",
        "                m.weight.data.normal_(0, math.sqrt(2. / n))\n",
        "            elif isinstance(m, nn.BatchNorm2d):\n",
        "                m.weight.data.fill_(1)\n",
        "                m.bias.data.zero_()\n",
        "            elif isinstance(m, nn.Linear):\n",
        "                m.bias.data.zero_()\n",
        "                    \n",
        "    def forward(self, x):\n",
        "        out = self.conv1(x)\n",
        "        out = self.trans1(self.block1(out))\n",
        "        out = self.trans2(self.block2(out))\n",
        "        out = self.block3(out)\n",
        "        out = self.relu(self.bn1(out))\n",
        "        out = F.avg_pool2d(out, 8)\n",
        "        out = out.view(-1, self.in_planes)\n",
        "        return self.fc(out)\n",
        "    \n",
        "    def load(self, path=\"./pre_trained/densenet_cifar10.pth\"):\n",
        "        tm = torch.load(path, map_location=\"cpu\")\n",
        "#         self.load_state_dict(tm.state_dict(),strict=False)\n",
        "        self.load_state_dict(tm)\n",
        "    \n",
        "    def record(self, t):\n",
        "        if self.collecting:\n",
        "            self.gram_feats.append(t)\n",
        "    \n",
        "    def gram_feature_list(self,x):\n",
        "        self.collecting = True\n",
        "        self.gram_feats = []\n",
        "        self.forward(x)\n",
        "        self.collecting = False\n",
        "        temp = self.gram_feats\n",
        "        self.gram_feats = []\n",
        "        return temp\n",
        "    \n",
        "    def get_min_max(self, data, power):\n",
        "        mins = []\n",
        "        maxs = []\n",
        "        \n",
        "        for i in range(0,len(data),64):\n",
        "            batch = data[i:i+64].cuda()\n",
        "            feat_list = self.gram_feature_list(batch)\n",
        "            for L,feat_L in enumerate(feat_list):\n",
        "                if L==len(mins):\n",
        "                    mins.append([None]*len(power))\n",
        "                    maxs.append([None]*len(power))\n",
        "                \n",
        "                for p,P in enumerate(power):\n",
        "                    g_p = G_p(feat_L,P)\n",
        "                    \n",
        "                    current_min = g_p.min(dim=0,keepdim=True)[0]\n",
        "                    current_max = g_p.max(dim=0,keepdim=True)[0]\n",
        "                    \n",
        "                    if mins[L][p] is None:\n",
        "                        mins[L][p] = current_min\n",
        "                        maxs[L][p] = current_max\n",
        "                    else:\n",
        "                        mins[L][p] = torch.min(current_min,mins[L][p])\n",
        "                        maxs[L][p] = torch.max(current_max,maxs[L][p])\n",
        "        \n",
        "        return mins,maxs\n",
        "    \n",
        "    def get_deviations(self,data,power,mins,maxs):\n",
        "        deviations = []\n",
        "        \n",
        "        for i in range(0,len(data),64):            \n",
        "            batch = data[i:i+64].cuda()\n",
        "            feat_list = self.gram_feature_list(batch)\n",
        "            batch_deviations = []\n",
        "            for L,feat_L in enumerate(feat_list):\n",
        "                dev = 0\n",
        "                for p,P in enumerate(power):\n",
        "                    g_p = G_p(feat_L,P)\n",
        "                    \n",
        "                    dev +=  (F.relu(mins[L][p]-g_p)/torch.abs(mins[L][p]+10**-6)).sum(dim=1,keepdim=True)\n",
        "                    dev +=  (F.relu(g_p-maxs[L][p])/torch.abs(maxs[L][p]+10**-6)).sum(dim=1,keepdim=True)\n",
        "                batch_deviations.append(dev.cpu().detach().numpy())\n",
        "            batch_deviations = np.concatenate(batch_deviations,axis=1)\n",
        "            deviations.append(batch_deviations)\n",
        "        deviations = np.concatenate(deviations,axis=0)\n",
        "        \n",
        "        return deviations\n",
        "\n",
        "torch_model = DenseNet3(100, num_classes=10)\n",
        "# torch_model = torch.nn.DataParallel(torch_model).cuda()\n",
        "model = torch.load('./results/Zero_Shot/Zero_Shot_cifar10_densenet_oe_tune_epoch_14.pth')\n",
        "torch_model.load_state_dict(model), #strict=False) \n",
        "# torch_model= torch_model.module\n",
        "# torch_model.load()\n",
        "torch_model.cuda()\n",
        "torch_model.params = list(torch_model.parameters())\n",
        "torch_model.eval()\n",
        "print(\"Done\")  "
      ],
      "execution_count": 0,
      "outputs": [
        {
          "output_type": "stream",
          "text": [
            "Done\n"
          ],
          "name": "stdout"
        }
      ]
    },
    {
      "cell_type": "markdown",
      "metadata": {
        "id": "wG0AMABACtDC",
        "colab_type": "text"
      },
      "source": [
        "## Datasets"
      ]
    },
    {
      "cell_type": "markdown",
      "metadata": {
        "id": "3dNM0OqBCtDD",
        "colab_type": "text"
      },
      "source": [
        "<b>In-distribution Datasets</b>"
      ]
    },
    {
      "cell_type": "code",
      "metadata": {
        "ExecuteTime": {
          "end_time": "2019-11-22T06:29:02.980632Z",
          "start_time": "2019-11-22T06:28:45.358417Z"
        },
        "id": "uFv1UV8ACtDE",
        "colab_type": "code",
        "colab": {},
        "outputId": "43e1afe8-d1cc-4995-9a36-b4319745d2e8"
      },
      "source": [
        "batch_size = 128\n",
        "mean = np.array([[125.3/255, 123.0/255, 113.9/255]]).T\n",
        "\n",
        "std = np.array([[63.0/255, 62.1/255.0, 66.7/255.0]]).T\n",
        "normalize = transforms.Normalize((125.3/255, 123.0/255, 113.9/255), (63.0/255, 62.1/255.0, 66.7/255.0))\n",
        "\n",
        "transform_train = transforms.Compose([\n",
        "#         transforms.RandomCrop(32, padding=4),\n",
        "#         transforms.RandomHorizontalFlip(),\n",
        "        transforms.ToTensor(),\n",
        "        normalize\n",
        "        \n",
        "    ])\n",
        "transform_test = transforms.Compose([\n",
        "#     transforms.CenterCrop(size=(32, 32)),\n",
        "        transforms.ToTensor(),\n",
        "        normalize\n",
        "    ])\n",
        "\n",
        "train_loader = torch.utils.data.DataLoader(\n",
        "    datasets.CIFAR10('data/cifar10-data', train=True, download=True,\n",
        "                   transform=transform_train),\n",
        "    batch_size=batch_size, shuffle=True)\n",
        "\n",
        "test_loader = torch.utils.data.DataLoader(\n",
        "    datasets.CIFAR10('data/cifar10-data', train=False, transform=transform_test),\n",
        "    batch_size=batch_size)\n",
        "\n",
        "data_train = list(torch.utils.data.DataLoader(\n",
        "        datasets.CIFAR10('data/cifar10-data', train=True, download=True,\n",
        "                       transform=transform_test),\n",
        "        batch_size=1, shuffle=False))\n",
        "\n",
        "data = list(torch.utils.data.DataLoader(\n",
        "    datasets.CIFAR10('data/cifar10-data', train=False, download=True,\n",
        "                   transform=transform_test),\n",
        "    batch_size=1, shuffle=False))"
      ],
      "execution_count": 0,
      "outputs": [
        {
          "output_type": "stream",
          "text": [
            "Files already downloaded and verified\n",
            "Files already downloaded and verified\n",
            "Files already downloaded and verified\n"
          ],
          "name": "stdout"
        }
      ]
    },
    {
      "cell_type": "code",
      "metadata": {
        "id": "TaLJfMtrCtDI",
        "colab_type": "code",
        "colab": {},
        "outputId": "614c69d0-de18-416f-87e4-3a1deda17af6"
      },
      "source": [
        "torch_model.eval()\n",
        "correct = 0\n",
        "total = 0\n",
        "for x,y in test_loader:\n",
        "    x = x.cuda()\n",
        "    y = y.numpy()\n",
        "    correct += (y==np.argmax(torch_model(x).detach().cpu().numpy(),axis=1)).sum()\n",
        "    total += y.shape[0]\n",
        "print(\"Accuracy: \",correct/total)\n"
      ],
      "execution_count": 0,
      "outputs": [
        {
          "output_type": "stream",
          "text": [
            "Accuracy:  0.9519\n"
          ],
          "name": "stdout"
        }
      ]
    },
    {
      "cell_type": "markdown",
      "metadata": {
        "id": "OefAeIQBCtDO",
        "colab_type": "text"
      },
      "source": [
        "<b>Out-of-distribution Datasets</b>"
      ]
    },
    {
      "cell_type": "code",
      "metadata": {
        "ExecuteTime": {
          "end_time": "2019-11-22T06:29:06.653963Z",
          "start_time": "2019-11-22T06:29:06.628830Z"
        },
        "id": "VFcIWEMGCtDP",
        "colab_type": "code",
        "colab": {}
      },
      "source": [
        "batch_size = 1"
      ],
      "execution_count": 0,
      "outputs": []
    },
    {
      "cell_type": "code",
      "metadata": {
        "ExecuteTime": {
          "end_time": "2019-11-22T06:29:14.686676Z",
          "start_time": "2019-11-22T06:29:07.298447Z"
        },
        "id": "98YF9P5uCtDT",
        "colab_type": "code",
        "colab": {},
        "outputId": "dca75556-a137-4449-c242-a4efab675837"
      },
      "source": [
        "svhn = list(torch.utils.data.DataLoader(\n",
        "    datasets.SVHN('data/svhn-data', split=\"test\", download=True,\n",
        "                   transform=transform_test),\n",
        "    batch_size=batch_size, shuffle=True))"
      ],
      "execution_count": 0,
      "outputs": [
        {
          "output_type": "stream",
          "text": [
            "Using downloaded and verified file: data/svhn-data/test_32x32.mat\n"
          ],
          "name": "stdout"
        }
      ]
    },
    {
      "cell_type": "code",
      "metadata": {
        "id": "UOCuqOfsCtDY",
        "colab_type": "code",
        "colab": {}
      },
      "source": [
        "#isun = list(torch.utils.data.DataLoader(\n",
        "    #datasets.ImageFolder(\"iSUN/\",transform=transform_test),batch_size=1,shuffle=True))"
      ],
      "execution_count": 0,
      "outputs": []
    },
    {
      "cell_type": "code",
      "metadata": {
        "ExecuteTime": {
          "end_time": "2019-11-22T06:29:18.860981Z",
          "start_time": "2019-11-22T06:29:14.691033Z"
        },
        "id": "yv9mc_LvCtDe",
        "colab_type": "code",
        "colab": {}
      },
      "source": [
        "lsun = list(torch.utils.data.DataLoader(\n",
        "    datasets.ImageFolder(\"data/LSUN_resize/\",transform=transform_test),batch_size=batch_size,shuffle=True))"
      ],
      "execution_count": 0,
      "outputs": []
    },
    {
      "cell_type": "code",
      "metadata": {
        "ExecuteTime": {
          "end_time": "2019-11-22T06:29:23.161568Z",
          "start_time": "2019-11-22T06:29:18.865506Z"
        },
        "id": "WIaT6FfcCtDi",
        "colab_type": "code",
        "colab": {}
      },
      "source": [
        "tinyimagenet = list(torch.utils.data.DataLoader(\n",
        "    datasets.ImageFolder(\"data/Imagenet_resize/\",transform=transform_test),batch_size=batch_size,shuffle=True))"
      ],
      "execution_count": 0,
      "outputs": []
    },
    {
      "cell_type": "markdown",
      "metadata": {
        "id": "VIhuWVBwCtDm",
        "colab_type": "text"
      },
      "source": [
        "<b>Validation -> Out-of-distribution Datasets</b>"
      ]
    },
    {
      "cell_type": "code",
      "metadata": {
        "ExecuteTime": {
          "end_time": "2019-11-22T06:29:26.864139Z",
          "start_time": "2019-11-22T06:29:26.636548Z"
        },
        "id": "4KwC6tgYCtDm",
        "colab_type": "code",
        "colab": {}
      },
      "source": [
        "# /////////////// Uniform Noise ///////////////\n",
        "ood_num_examples = len(data)//5\n",
        "\n",
        "dummy_targets = torch.ones(ood_num_examples)\n",
        "ood_data = torch.from_numpy(\n",
        "    np.random.uniform(size=(ood_num_examples, 3, 32, 32),\n",
        "                      low=-1.0, high=1.0).astype(np.float32))\n",
        "ood_data = torch.utils.data.TensorDataset(ood_data, dummy_targets)\n",
        "uniform_loader = list(torch.utils.data.DataLoader(ood_data, batch_size=1, shuffle=True))"
      ],
      "execution_count": 0,
      "outputs": []
    },
    {
      "cell_type": "code",
      "metadata": {
        "ExecuteTime": {
          "end_time": "2019-11-22T06:29:34.233751Z",
          "start_time": "2019-11-22T06:29:27.082529Z"
        },
        "id": "fYe3xRIjCtDq",
        "colab_type": "code",
        "colab": {},
        "outputId": "dc019a59-ce38-4167-af09-41b9c203a10c"
      },
      "source": [
        "# /////////////// Arithmetic Mean of Images ///////////////\n",
        "\n",
        "ood_data = datasets.CIFAR10('data/cifar10-data', download=True,train=False, transform=transform_test)\n",
        "\n",
        "\n",
        "class AvgOfPair(torch.utils.data.Dataset):\n",
        "    def __init__(self, dataset):\n",
        "        self.dataset = dataset\n",
        "        self.shuffle_indices = np.arange(len(dataset))\n",
        "        np.random.shuffle(self.shuffle_indices)\n",
        "\n",
        "    def __getitem__(self, i):\n",
        "        random_idx = np.random.choice(len(self.dataset))\n",
        "        while random_idx == i:\n",
        "            random_idx = np.random.choice(len(self.dataset))\n",
        "\n",
        "        return self.dataset[i][0] / 2. + self.dataset[random_idx][0] / 2., 0\n",
        "\n",
        "    def __len__(self):\n",
        "        return len(self.dataset)\n",
        "\n",
        "\n",
        "ami_loader = list(torch.utils.data.DataLoader(AvgOfPair(ood_data),\n",
        "                                         batch_size=batch_size, shuffle=True,pin_memory=True))"
      ],
      "execution_count": 0,
      "outputs": [
        {
          "output_type": "stream",
          "text": [
            "Files already downloaded and verified\n"
          ],
          "name": "stdout"
        }
      ]
    },
    {
      "cell_type": "code",
      "metadata": {
        "ExecuteTime": {
          "end_time": "2019-11-22T06:29:41.869420Z",
          "start_time": "2019-11-22T06:29:34.237239Z"
        },
        "id": "rOfIeNTWCtDu",
        "colab_type": "code",
        "colab": {},
        "outputId": "1a4af12f-78b1-42d8-966b-bb21bc080621"
      },
      "source": [
        "# /////////////// Geometric Mean of Images ///////////////\n",
        "ood_data = datasets.CIFAR10('data/cifar10-data', download=True,train=False, transform=transform_test)\n",
        "\n",
        "class GeomMeanOfPair(torch.utils.data.Dataset):\n",
        "    def __init__(self, dataset):\n",
        "        self.dataset = dataset\n",
        "        self.shuffle_indices = np.arange(len(dataset))\n",
        "        np.random.shuffle(self.shuffle_indices)\n",
        "\n",
        "    def __getitem__(self, i):\n",
        "        random_idx = np.random.choice(len(self.dataset))\n",
        "        while random_idx == i:\n",
        "            random_idx = np.random.choice(len(self.dataset))\n",
        "\n",
        "        return normalize(torch.sqrt(self.dataset[i][0] * self.dataset[random_idx][0])), 0\n",
        "\n",
        "    def __len__(self):\n",
        "        return len(self.dataset)\n",
        "\n",
        "\n",
        "gmi_loader = list(torch.utils.data.DataLoader(\n",
        "    GeomMeanOfPair(ood_data), batch_size=batch_size, shuffle=True,pin_memory=True))"
      ],
      "execution_count": 0,
      "outputs": [
        {
          "output_type": "stream",
          "text": [
            "Files already downloaded and verified\n"
          ],
          "name": "stdout"
        }
      ]
    },
    {
      "cell_type": "code",
      "metadata": {
        "ExecuteTime": {
          "end_time": "2019-11-22T06:30:07.191866Z",
          "start_time": "2019-11-22T06:29:50.203801Z"
        },
        "id": "rbl3qDsJCtDx",
        "colab_type": "code",
        "colab": {}
      },
      "source": [
        "# /////////////// Jigsaw Images ///////////////\n",
        "\n",
        "ood_loader = torch.utils.data.DataLoader(ood_data, batch_size=batch_size, shuffle=True,\n",
        "                                         num_workers=4, pin_memory=True)\n",
        "\n",
        "jigsaw = lambda x: torch.cat((\n",
        "    torch.cat((torch.cat((x[:, 8:16, :16], x[:, :8, :16]), 1),\n",
        "               x[:, 16:, :16]), 2),\n",
        "    torch.cat((x[:, 16:, 16:],\n",
        "               torch.cat((x[:, :16, 24:], x[:, :16, 16:24]), 2)), 2),\n",
        "), 1)\n",
        "\n",
        "ood_loader.dataset.transform = transforms.Compose([transforms.ToTensor(), jigsaw, normalize])\n",
        "jigsaw_loader = list(ood_loader)"
      ],
      "execution_count": 0,
      "outputs": []
    },
    {
      "cell_type": "code",
      "metadata": {
        "ExecuteTime": {
          "end_time": "2019-11-22T06:30:23.751574Z",
          "start_time": "2019-11-22T06:30:07.196968Z"
        },
        "id": "DH70ME8kCtD2",
        "colab_type": "code",
        "colab": {}
      },
      "source": [
        "# /////////////// Speckled Images ///////////////\n",
        "ood_loader = torch.utils.data.DataLoader(ood_data, batch_size=batch_size, shuffle=True,\n",
        "                                         num_workers=4, pin_memory=True)\n",
        "speckle = lambda x: torch.clamp(x + x * torch.randn_like(x), 0, 1)\n",
        "ood_loader.dataset.transform = transforms.Compose([transforms.ToTensor(), speckle, normalize])\n",
        "speckle_loader = list(ood_loader)"
      ],
      "execution_count": 0,
      "outputs": []
    },
    {
      "cell_type": "code",
      "metadata": {
        "ExecuteTime": {
          "end_time": "2019-11-22T06:30:43.251474Z",
          "start_time": "2019-11-22T06:30:26.994746Z"
        },
        "id": "fVxsTbW8CtD5",
        "colab_type": "code",
        "colab": {}
      },
      "source": [
        "# /////////////// Pixelated Images ///////////////\n",
        "ood_loader = torch.utils.data.DataLoader(ood_data, batch_size=batch_size, shuffle=True,\n",
        "                                         num_workers=4, pin_memory=True)\n",
        "pixelate = lambda x: x.resize((int(32 * 0.2), int(32 * 0.2)), PILImage.BOX).resize((32, 32), PILImage.BOX)\n",
        "ood_loader.dataset.transform = transforms.Compose([pixelate, transforms.ToTensor(), normalize])\n",
        "pixelate_loader = list(ood_loader)"
      ],
      "execution_count": 0,
      "outputs": []
    },
    {
      "cell_type": "code",
      "metadata": {
        "ExecuteTime": {
          "end_time": "2019-11-22T06:30:59.968122Z",
          "start_time": "2019-11-22T06:30:43.257624Z"
        },
        "id": "ITXFlipoCtD8",
        "colab_type": "code",
        "colab": {}
      },
      "source": [
        "# /////////////// RGB Ghosted/Shifted Images ///////////////\n",
        "ood_loader = torch.utils.data.DataLoader(ood_data, batch_size=batch_size, shuffle=True,\n",
        "                                         num_workers=4, pin_memory=True)\n",
        "rgb_shift = lambda x: torch.cat((x[1:2].index_select(2, torch.LongTensor([i for i in range(32 - 1, -1, -1)])),\n",
        "                                 x[2:, :, :], x[0:1, :, :]), 0)\n",
        "ood_loader.dataset.transform = transforms.Compose([transforms.ToTensor(), rgb_shift, normalize])\n",
        "rgb_shift_loader = list(ood_loader)"
      ],
      "execution_count": 0,
      "outputs": []
    },
    {
      "cell_type": "code",
      "metadata": {
        "ExecuteTime": {
          "end_time": "2019-11-22T06:31:16.926936Z",
          "start_time": "2019-11-22T06:30:59.971957Z"
        },
        "id": "TOZgSTNECtEA",
        "colab_type": "code",
        "colab": {}
      },
      "source": [
        "# /////////////// Inverted Images ///////////////\n",
        "ood_loader = torch.utils.data.DataLoader(ood_data, batch_size=batch_size, shuffle=True,\n",
        "                                         num_workers=4, pin_memory=True)\n",
        "# not done on all channels to make image ood with higher probability\n",
        "invert = lambda x: torch.cat((x[0:1, :, :], 1 - x[1:2, :, ], 1 - x[2:, :, :],), 0)\n",
        "ood_loader.dataset.transform = transforms.Compose([transforms.ToTensor(), invert, normalize])\n",
        "invert_loader = list(ood_loader)"
      ],
      "execution_count": 0,
      "outputs": []
    },
    {
      "cell_type": "markdown",
      "metadata": {
        "id": "q9dPmcZWCtED",
        "colab_type": "text"
      },
      "source": [
        "## Code for Detecting OODs"
      ]
    },
    {
      "cell_type": "markdown",
      "metadata": {
        "id": "jwYILDXUCtED",
        "colab_type": "text"
      },
      "source": [
        "<b> Extract predictions for train and test data </b>"
      ]
    },
    {
      "cell_type": "code",
      "metadata": {
        "ExecuteTime": {
          "end_time": "2019-11-22T06:32:07.831738Z",
          "start_time": "2019-11-22T06:31:20.716144Z"
        },
        "id": "_lAJUjhMCtEE",
        "colab_type": "code",
        "colab": {},
        "outputId": "cb436c32-74a5-4950-f271-d6d82c6ac310"
      },
      "source": [
        "train_preds = []\n",
        "train_confs = []\n",
        "train_logits = []\n",
        "for idx in range(0,len(data_train),128):\n",
        "    batch = torch.squeeze(torch.stack([x[0] for x in data_train[idx:idx+128]]),dim=1).cuda()\n",
        "    \n",
        "    logits = torch_model(batch)\n",
        "    confs = F.softmax(logits,dim=1).cpu().detach().numpy()\n",
        "    preds = np.argmax(confs,axis=1)\n",
        "    logits = (logits.cpu().detach().numpy())#**2)#.sum(axis=1)\n",
        "\n",
        "    train_confs.extend(np.max(confs,axis=1))    \n",
        "    train_preds.extend(preds)\n",
        "    train_logits.extend(logits)\n",
        "print(\"Done\")\n",
        "\n",
        "test_preds = []\n",
        "test_confs = []\n",
        "test_logits = []\n",
        "\n",
        "for idx in range(0,len(data),128):\n",
        "    batch = torch.squeeze(torch.stack([x[0] for x in data[idx:idx+128]]),dim=1).cuda()\n",
        "    \n",
        "    logits = torch_model(batch)\n",
        "    confs = F.softmax(logits,dim=1).cpu().detach().numpy()\n",
        "    preds = np.argmax(confs,axis=1)\n",
        "    logits = (logits.cpu().detach().numpy())#**2)#.sum(axis=1)\n",
        "\n",
        "    test_confs.extend(np.max(confs,axis=1))    \n",
        "    test_preds.extend(preds)\n",
        "    test_logits.extend(logits)\n",
        "print(\"Done\")"
      ],
      "execution_count": 0,
      "outputs": [
        {
          "output_type": "stream",
          "text": [
            "Done\n",
            "Done\n"
          ],
          "name": "stdout"
        }
      ]
    },
    {
      "cell_type": "markdown",
      "metadata": {
        "id": "YOXbq7X5CtEH",
        "colab_type": "text"
      },
      "source": [
        "<b> Code for detecting OODs by identifying anomalies in correlations </b>"
      ]
    },
    {
      "cell_type": "code",
      "metadata": {
        "ExecuteTime": {
          "end_time": "2019-11-22T06:32:13.857754Z",
          "start_time": "2019-11-22T06:32:13.742555Z"
        },
        "id": "-aSSDtDkCtEI",
        "colab_type": "code",
        "colab": {}
      },
      "source": [
        "import zero_shot_calculate_log as callog\n",
        "# torch_model = torch_model.module\n",
        "def detect(all_test_deviations,all_ood_deviations, verbose=True):\n",
        "    average_results = {}\n",
        "    for i in range(1,11):\n",
        "        random.seed(i)\n",
        "        \n",
        "        validation_indices = random.sample(range(len(all_test_deviations)),int(0.1*len(all_test_deviations)))\n",
        "        test_indices = sorted(list(set(range(len(all_test_deviations)))-set(validation_indices)))\n",
        "\n",
        "        validation = all_test_deviations[validation_indices]\n",
        "        test_deviations = all_test_deviations[test_indices]\n",
        "\n",
        "        t95 = validation.mean(axis=0)+10**-7\n",
        "\n",
        "        test_deviations = (test_deviations/t95[np.newaxis,:]).sum(axis=1)\n",
        "        ood_deviations = (all_ood_deviations/t95[np.newaxis,:]).sum(axis=1)\n",
        "        \n",
        "        results = callog.compute_metric(-test_deviations,-ood_deviations)\n",
        "        for m in results:\n",
        "            average_results[m] = average_results.get(m,0)+results[m]\n",
        "    \n",
        "    for m in average_results:\n",
        "        average_results[m] /= i\n",
        "    if verbose:\n",
        "        callog.print_results(average_results)\n",
        "    return average_results\n",
        "\n",
        "def Analyse(dataset,POWERS=[10]):\n",
        "    ood_preds = []\n",
        "    ood_confs = []\n",
        "    ood = dataset\n",
        "    \n",
        "    for idx in range(0,len(ood),128):\n",
        "        batch = torch.squeeze(torch.stack([x[0] for x in ood[idx:idx+128]]),dim=1).cuda()\n",
        "        logits = torch_model(batch)\n",
        "        confs = F.softmax(logits,dim=1).cpu().detach().numpy()\n",
        "        preds = np.argmax(confs,axis=1)\n",
        "\n",
        "        ood_confs.extend(np.max(confs,axis=1))\n",
        "        ood_preds.extend(preds)   \n",
        "    print(\"Done\")\n",
        "    \n",
        "    def compute_deviation(PRED):\n",
        "        train_indices = np.where(np.array(train_preds)==PRED)[0]\n",
        "        test_indices = np.where(np.array(test_preds)==PRED)[0]\n",
        "        ood_indices = np.where(np.array(ood_preds)==PRED)[0]\n",
        "\n",
        "        train_PRED = torch.squeeze(torch.stack([data_train[i][0] for i in train_indices]),dim=1)\n",
        "        test_PRED = torch.squeeze(torch.stack([data[i][0] for i in test_indices]),dim=1)\n",
        "        if len(ood_indices)!=0:\n",
        "            ood_PRED = torch.squeeze(torch.stack([ood[i][0] for i in ood_indices]),dim=1)\n",
        "\n",
        "        test_confs_PRED = np.array([test_confs[i] for i in test_indices])\n",
        "        if len(ood_indices)!=0:\n",
        "            ood_confs_PRED =  np.array([ood_confs[i] for i in ood_indices])\n",
        "\n",
        "        mins,maxs = torch_model.get_min_max(train_PRED,power=POWERS)\n",
        "\n",
        "        test_deviations = torch_model.get_deviations(test_PRED,power=POWERS,mins=mins,maxs=maxs)/test_confs_PRED[:,np.newaxis]\n",
        "\n",
        "        if len(ood_indices)!=0:\n",
        "            ood_deviations = torch_model.get_deviations(ood_PRED,power=POWERS,mins=mins,maxs=maxs)/ood_confs_PRED[:,np.newaxis]\n",
        "        else:\n",
        "            ood_deviations = None\n",
        "\n",
        "        return test_deviations,ood_deviations\n",
        "    \n",
        "    CLASSES = range(10)\n",
        "    \n",
        "    all_test_deviations = None\n",
        "    all_ood_deviations = None\n",
        "\n",
        "    \n",
        "    for PRED in tqdm(CLASSES):\n",
        "        test_deviations,ood_deviations = compute_deviation(PRED)\n",
        "        \n",
        "        if all_test_deviations is not None:\n",
        "            all_test_deviations = np.concatenate([all_test_deviations,test_deviations],axis=0) \n",
        "        else:\n",
        "            all_test_deviations = test_deviations\n",
        "        if ood_deviations is not None:\n",
        "            if all_ood_deviations is not None:\n",
        "                all_ood_deviations = np.concatenate([all_ood_deviations,ood_deviations],axis=0)\n",
        "            else:\n",
        "                all_ood_deviations = ood_deviations\n",
        "    \n",
        "    \n",
        "    average_results = detect(all_test_deviations,all_ood_deviations)\n",
        "    return average_results, all_test_deviations, all_ood_deviations\n"
      ],
      "execution_count": 0,
      "outputs": []
    },
    {
      "cell_type": "markdown",
      "metadata": {
        "id": "yqNZ3JkCCtEK",
        "colab_type": "text"
      },
      "source": [
        "<center><h1> Results </h1></center>"
      ]
    },
    {
      "cell_type": "markdown",
      "metadata": {
        "id": "70by8ooSCtEL",
        "colab_type": "text"
      },
      "source": [
        "## Combination of Pre- and Post-Training Methods"
      ]
    },
    {
      "cell_type": "markdown",
      "metadata": {
        "id": "St3jXcwJCtEM",
        "colab_type": "text"
      },
      "source": [
        "### Validation"
      ]
    },
    {
      "cell_type": "code",
      "metadata": {
        "ExecuteTime": {
          "end_time": "2019-11-22T07:34:22.071167Z",
          "start_time": "2019-11-22T06:32:48.809033Z"
        },
        "id": "BAG9eTlGCtEM",
        "colab_type": "code",
        "colab": {
          "referenced_widgets": [
            "b11ce8e294b548e08d05ca01175b58e1",
            "63d7efe434b94255b45cf93b39204d52",
            "c2ea5777fdb240f3a26a883a738b36a4",
            "297c333793b34eabb6b33347eb9d2913",
            "26955e09ab3c41b496427b9f7791861f",
            "e3b692df96d24b9bbefbf52a04089eae",
            "df248339102f4bb487ab0c68fc51eb57",
            "291d58521e404307a77524ea4897777d"
          ]
        },
        "outputId": "dcc10726-7db5-4eaa-cb1a-fb3218ed846c"
      },
      "source": [
        "print(\"Uniform Noise\")\n",
        "uniform_results=Analyse(uniform_loader,POWERS=range(1,11))\n",
        "print()\n",
        "print(\"Arithmetic Mean of Images\")\n",
        "ami_results =Analyse(ami_loader,POWERS=range(1,11))\n",
        "print()\n",
        "print(\"Geometric Mean of Images\")\n",
        "gmi_results =Analyse(gmi_loader,POWERS=range(1,11))\n",
        "print()\n",
        "print(\"Jigsaw Images\")\n",
        "jigsaw_results =Analyse(jigsaw_loader,POWERS=range(1,11))\n",
        "print()\n",
        "print(\"Speckle Images\")\n",
        "speckle_results =Analyse(speckle_loader,POWERS=range(1,11))\n",
        "print()\n",
        "print(\"Pixelated Images\")\n",
        "pixelate_results =Analyse(pixelate_loader,POWERS=range(1,11))\n",
        "print()\n",
        "print(\"RGB Ghosted/Shifted Images\")\n",
        "rgb_shift_results =Analyse(rgb_shift_loader,POWERS=range(1,11))\n",
        "print()\n",
        "print(\"Inverted Images\\n\")\n",
        "inverted_results =Analyse(invert_loader,POWERS=range(1,11))"
      ],
      "execution_count": 0,
      "outputs": [
        {
          "output_type": "stream",
          "text": [
            "Uniform Noise\n",
            "Done\n"
          ],
          "name": "stdout"
        },
        {
          "output_type": "display_data",
          "data": {
            "application/vnd.jupyter.widget-view+json": {
              "model_id": "b11ce8e294b548e08d05ca01175b58e1",
              "version_major": 2,
              "version_minor": 0
            },
            "text/plain": [
              "HBox(children=(IntProgress(value=0, max=10), HTML(value=u'')))"
            ]
          },
          "metadata": {
            "tags": []
          }
        },
        {
          "output_type": "stream",
          "text": [
            "\n",
            " TNR    AUROC  DTACC  AUIN   AUOUT \n",
            " 100.000 99.992 99.993 99.993 99.787\n",
            "\n",
            "Arithmetic Mean of Images\n",
            "Done\n"
          ],
          "name": "stdout"
        },
        {
          "output_type": "display_data",
          "data": {
            "application/vnd.jupyter.widget-view+json": {
              "model_id": "63d7efe434b94255b45cf93b39204d52",
              "version_major": 2,
              "version_minor": 0
            },
            "text/plain": [
              "HBox(children=(IntProgress(value=0, max=10), HTML(value=u'')))"
            ]
          },
          "metadata": {
            "tags": []
          }
        },
        {
          "output_type": "stream",
          "text": [
            "\n",
            " TNR    AUROC  DTACC  AUIN   AUOUT \n",
            " 10.384 52.831 54.749 45.695 58.128\n",
            "\n",
            "Geometric Mean of Images\n",
            "Done\n"
          ],
          "name": "stdout"
        },
        {
          "output_type": "display_data",
          "data": {
            "application/vnd.jupyter.widget-view+json": {
              "model_id": "c2ea5777fdb240f3a26a883a738b36a4",
              "version_major": 2,
              "version_minor": 0
            },
            "text/plain": [
              "HBox(children=(IntProgress(value=0, max=10), HTML(value=u'')))"
            ]
          },
          "metadata": {
            "tags": []
          }
        },
        {
          "output_type": "stream",
          "text": [
            "\n",
            " TNR    AUROC  DTACC  AUIN   AUOUT \n",
            "  0.000  0.000 50.000 28.683 32.751\n",
            "\n",
            "Jigsaw Images\n",
            "Done\n"
          ],
          "name": "stdout"
        },
        {
          "output_type": "display_data",
          "data": {
            "application/vnd.jupyter.widget-view+json": {
              "model_id": "297c333793b34eabb6b33347eb9d2913",
              "version_major": 2,
              "version_minor": 0
            },
            "text/plain": [
              "HBox(children=(IntProgress(value=0, max=10), HTML(value=u'')))"
            ]
          },
          "metadata": {
            "tags": []
          }
        },
        {
          "output_type": "stream",
          "text": [
            "\n",
            " TNR    AUROC  DTACC  AUIN   AUOUT \n",
            " 62.997 89.771 82.443 84.538 90.655\n",
            "\n",
            "Speckle Images\n",
            "Done\n"
          ],
          "name": "stdout"
        },
        {
          "output_type": "display_data",
          "data": {
            "application/vnd.jupyter.widget-view+json": {
              "model_id": "26955e09ab3c41b496427b9f7791861f",
              "version_major": 2,
              "version_minor": 0
            },
            "text/plain": [
              "HBox(children=(IntProgress(value=0, max=10), HTML(value=u'')))"
            ]
          },
          "metadata": {
            "tags": []
          }
        },
        {
          "output_type": "stream",
          "text": [
            "\n",
            " TNR    AUROC  DTACC  AUIN   AUOUT \n",
            " 100.000 100.000 99.989 99.994 99.995\n",
            "\n",
            "Pixelated Images\n",
            "Done\n"
          ],
          "name": "stdout"
        },
        {
          "output_type": "display_data",
          "data": {
            "application/vnd.jupyter.widget-view+json": {
              "model_id": "e3b692df96d24b9bbefbf52a04089eae",
              "version_major": 2,
              "version_minor": 0
            },
            "text/plain": [
              "HBox(children=(IntProgress(value=0, max=10), HTML(value=u'')))"
            ]
          },
          "metadata": {
            "tags": []
          }
        },
        {
          "output_type": "stream",
          "text": [
            "\n",
            " TNR    AUROC  DTACC  AUIN   AUOUT \n",
            " 100.000 99.974 99.763 99.976 99.931\n",
            "\n",
            "RGB Ghosted/Shifted Images\n",
            "Done\n"
          ],
          "name": "stdout"
        },
        {
          "output_type": "display_data",
          "data": {
            "application/vnd.jupyter.widget-view+json": {
              "model_id": "df248339102f4bb487ab0c68fc51eb57",
              "version_major": 2,
              "version_minor": 0
            },
            "text/plain": [
              "HBox(children=(IntProgress(value=0, max=10), HTML(value=u'')))"
            ]
          },
          "metadata": {
            "tags": []
          }
        },
        {
          "output_type": "stream",
          "text": [
            "\n",
            " TNR    AUROC  DTACC  AUIN   AUOUT \n",
            " 75.126 94.288 87.035 92.043 94.904\n",
            "\n",
            "Inverted Images\n",
            "\n",
            "Done\n"
          ],
          "name": "stdout"
        },
        {
          "output_type": "display_data",
          "data": {
            "application/vnd.jupyter.widget-view+json": {
              "model_id": "291d58521e404307a77524ea4897777d",
              "version_major": 2,
              "version_minor": 0
            },
            "text/plain": [
              "HBox(children=(IntProgress(value=0, max=10), HTML(value=u'')))"
            ]
          },
          "metadata": {
            "tags": []
          }
        },
        {
          "output_type": "stream",
          "text": [
            "\n",
            " TNR    AUROC  DTACC  AUIN   AUOUT \n",
            " 99.262 99.752 97.846 99.754 99.714\n"
          ],
          "name": "stdout"
        }
      ]
    },
    {
      "cell_type": "markdown",
      "metadata": {
        "id": "KqahJ8rzCtEQ",
        "colab_type": "text"
      },
      "source": [
        "### Testing"
      ]
    },
    {
      "cell_type": "code",
      "metadata": {
        "ExecuteTime": {
          "end_time": "2019-11-22T16:58:49.455511Z",
          "start_time": "2019-11-22T16:33:09.798185Z"
        },
        "id": "zxiNGuDYCtER",
        "colab_type": "code",
        "colab": {
          "referenced_widgets": [
            "8498afe244344687b6a23cffb37b1f6f",
            "4aeb0ef881ec4f4bb6ea1abd0ba9b502",
            "9feefacd54874bebb696ceb6e42179ec"
          ]
        },
        "outputId": "f2c485ce-4f11-404b-87c2-0ae9e2343769"
      },
      "source": [
        "print(\"LSUN_R\")\n",
        "lsun_results=Analyse(lsun,POWERS=range(1,11))\n",
        "\n",
        "#print(\"iSUN_R\")\n",
        "#isun_results=Analyse(isun,POWERS=range(1,11)) \n",
        "\n",
        "print(\"TinyImageNet_R\")\n",
        "tinyimagenet_results=Analyse(tinyimagenet,POWERS=range(1,11))\n",
        "\n",
        "print(\"SVHN\")\n",
        "svhn_results=Analyse(svhn,POWERS=range(1,11))"
      ],
      "execution_count": 0,
      "outputs": [
        {
          "output_type": "stream",
          "text": [
            "LSUN_R\n",
            "Done\n"
          ],
          "name": "stdout"
        },
        {
          "output_type": "display_data",
          "data": {
            "application/vnd.jupyter.widget-view+json": {
              "model_id": "8498afe244344687b6a23cffb37b1f6f",
              "version_major": 2,
              "version_minor": 0
            },
            "text/plain": [
              "HBox(children=(IntProgress(value=0, max=10), HTML(value=u'')))"
            ]
          },
          "metadata": {
            "tags": []
          }
        },
        {
          "output_type": "stream",
          "text": [
            "\n",
            " TNR    AUROC  DTACC  AUIN   AUOUT \n",
            " 99.817 99.925 98.979 99.919 99.915\n",
            "TinyImageNet_R\n",
            "Done\n"
          ],
          "name": "stdout"
        },
        {
          "output_type": "display_data",
          "data": {
            "application/vnd.jupyter.widget-view+json": {
              "model_id": "4aeb0ef881ec4f4bb6ea1abd0ba9b502",
              "version_major": 2,
              "version_minor": 0
            },
            "text/plain": [
              "HBox(children=(IntProgress(value=0, max=10), HTML(value=u'')))"
            ]
          },
          "metadata": {
            "tags": []
          }
        },
        {
          "output_type": "stream",
          "text": [
            "\n",
            " TNR    AUROC  DTACC  AUIN   AUOUT \n",
            " 99.326 99.771 98.267 99.727 99.792\n",
            "SVHN\n",
            "Done\n"
          ],
          "name": "stdout"
        },
        {
          "output_type": "display_data",
          "data": {
            "application/vnd.jupyter.widget-view+json": {
              "model_id": "9feefacd54874bebb696ceb6e42179ec",
              "version_major": 2,
              "version_minor": 0
            },
            "text/plain": [
              "HBox(children=(IntProgress(value=0, max=10), HTML(value=u'')))"
            ]
          },
          "metadata": {
            "tags": []
          }
        },
        {
          "output_type": "stream",
          "text": [
            "\n",
            " TNR    AUROC  DTACC  AUIN   AUOUT \n",
            " 98.483 99.603 97.438 98.645 99.862\n"
          ],
          "name": "stdout"
        }
      ]
    }
  ]
}