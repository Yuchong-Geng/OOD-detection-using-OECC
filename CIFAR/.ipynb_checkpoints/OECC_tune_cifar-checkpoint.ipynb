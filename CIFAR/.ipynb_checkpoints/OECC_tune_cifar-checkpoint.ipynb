{
 "cells": [
  {
   "cell_type": "code",
   "execution_count": 5,
   "metadata": {
    "id": "GWPfZ3_I9MV3"
   },
   "outputs": [],
   "source": [
    "import sys\n",
    "sys.path.append('/home/yg534/OOD-detection-using-OECC')"
   ]
  },
  {
   "cell_type": "code",
   "execution_count": null,
   "metadata": {},
   "outputs": [],
   "source": []
  },
  {
   "cell_type": "code",
   "execution_count": 4,
   "metadata": {
    "id": "y93km0Vl8-XT"
   },
   "outputs": [
    {
     "ename": "ModuleNotFoundError",
     "evalue": "No module named 'CIFAR.models.wrn'",
     "output_type": "error",
     "traceback": [
      "\u001b[0;31m---------------------------------------------------------------------------\u001b[0m",
      "\u001b[0;31mModuleNotFoundError\u001b[0m                       Traceback (most recent call last)",
      "\u001b[0;32m<ipython-input-4-f91033b785de>\u001b[0m in \u001b[0;36m<module>\u001b[0;34m\u001b[0m\n\u001b[1;32m     19\u001b[0m \u001b[0;32mimport\u001b[0m \u001b[0mseaborn\u001b[0m \u001b[0;32mas\u001b[0m \u001b[0msns\u001b[0m\u001b[0;34m\u001b[0m\u001b[0;34m\u001b[0m\u001b[0m\n\u001b[1;32m     20\u001b[0m \u001b[0;34m\u001b[0m\u001b[0m\n\u001b[0;32m---> 21\u001b[0;31m \u001b[0;32mfrom\u001b[0m \u001b[0mCIFAR\u001b[0m\u001b[0;34m.\u001b[0m\u001b[0mmodels\u001b[0m\u001b[0;34m.\u001b[0m\u001b[0mwrn\u001b[0m \u001b[0;32mimport\u001b[0m \u001b[0mWideResNet\u001b[0m\u001b[0;34m\u001b[0m\u001b[0;34m\u001b[0m\u001b[0m\n\u001b[0m\u001b[1;32m     22\u001b[0m \u001b[0;32mfrom\u001b[0m \u001b[0mutils\u001b[0m\u001b[0;34m.\u001b[0m\u001b[0mvalidation_dataset\u001b[0m \u001b[0;32mimport\u001b[0m \u001b[0mvalidation_split\u001b[0m\u001b[0;34m\u001b[0m\u001b[0;34m\u001b[0m\u001b[0m\n\u001b[1;32m     23\u001b[0m \u001b[0;32mfrom\u001b[0m \u001b[0mutils\u001b[0m\u001b[0;34m.\u001b[0m\u001b[0mdisplay_results\u001b[0m \u001b[0;32mimport\u001b[0m \u001b[0mshow_performance\u001b[0m\u001b[0;34m,\u001b[0m \u001b[0mget_measures\u001b[0m\u001b[0;34m,\u001b[0m \u001b[0mprint_measures\u001b[0m\u001b[0;34m,\u001b[0m \u001b[0mprint_measures_with_std\u001b[0m\u001b[0;34m\u001b[0m\u001b[0;34m\u001b[0m\u001b[0m\n",
      "\u001b[0;31mModuleNotFoundError\u001b[0m: No module named 'CIFAR.models.wrn'"
     ]
    }
   ],
   "source": [
    "%reload_ext autoreload\n",
    "%autoreload 2\n",
    "import os, sys, argparse, time\n",
    "sys.path.append('..')\n",
    "\n",
    "import pickle\n",
    "import torch\n",
    "import seaborn as sns\n",
    "import torch.nn as nn\n",
    "import numpy as np\n",
    "import torch.backends.cudnn as cudnn\n",
    "import torchvision.transforms as trn\n",
    "import torchvision.datasets as dset\n",
    "from torch.utils.data import Subset\n",
    "import torch.nn.functional as F\n",
    "from tqdm import tqdm_notebook, tqdm\n",
    "from skimage.filters import gaussian as gblur\n",
    "from PIL import Image as PILImage\n",
    "import seaborn as sns\n",
    "\n",
    "from CIFAR.models.wrn import WideResNet\n",
    "from utils.validation_dataset import validation_split\n",
    "from utils.display_results import show_performance, get_measures, print_measures, print_measures_with_std"
   ]
  },
  {
   "cell_type": "code",
   "execution_count": null,
   "metadata": {
    "id": "ynpAc6k28-XV"
   },
   "outputs": [],
   "source": [
    "args = {\n",
    "        'dataset': 'cifar10', # Change to 'cifar100' to run experiments with the CIFAR 100 dataset! \n",
    "        'model': 'wrn',  ## WideResNet for the CIFAR experiments\n",
    "        'calibration': '',\n",
    "        'epochs': 15, # The number of epochs to fine-tune with OECC\n",
    "        'learning_rate': 0.001,\n",
    "        'batch_size': 128,\n",
    "        'oe_batch_size': 256,\n",
    "        'test_bs': 200,\n",
    "        'momentum': 0.9,\n",
    "        'decay': 0.0005, # Weight decay (L2 penalty)\n",
    "        'save': './results/OECC_tune',\n",
    "        'load': './results/baseline', # Load the WideResNet model after it has been trained for 100 epochs using only Cross-entropy loss !\n",
    "        'test': 'store_true',\n",
    "        'layers': 40,\n",
    "        'widen_factor': 2,\n",
    "        'droprate': 0.3,\n",
    "        'ngpu': 2,\n",
    "        'prefetch': 4,  \n",
    "        'lambda_1': 0.07, ## To make the known classes have prediction probabilities around A_{tr}\n",
    "        'lambda_2': 0.05  ## To push the outliers towards uniform\n",
    "        }"
   ]
  },
  {
   "cell_type": "code",
   "execution_count": null,
   "metadata": {
    "colab": {
     "base_uri": "https://localhost:8080/"
    },
    "executionInfo": {
     "elapsed": 22719,
     "status": "ok",
     "timestamp": 1618420067389,
     "user": {
      "displayName": "Yuchong Geng",
      "photoUrl": "",
      "userId": "13573410025212938441"
     },
     "user_tz": 240
    },
    "id": "0LNYbP878-XW",
    "outputId": "30e62d5f-7cbf-4e88-8265-3b055c9c741e"
   },
   "outputs": [
    {
     "name": "stdout",
     "output_type": "stream",
     "text": [
      "Files already downloaded and verified\n",
      "40000\n",
      "Files already downloaded and verified\n",
      "10000\n",
      "Using downloaded and verified file: /content/drive/MyDrive/distributed_learning/OOD-detection-using-OECC/CIFAR/train_32x32.mat\n"
     ]
    },
    {
     "name": "stderr",
     "output_type": "stream",
     "text": [
      "/usr/local/lib/python3.7/dist-packages/torch/utils/data/dataloader.py:477: UserWarning: This DataLoader will create 4 worker processes in total. Our suggested max number of worker in current system is 2, which is smaller than what this DataLoader is going to create. Please be aware that excessive worker creation might get DataLoader running slow or even freeze, lower the worker number to avoid potential slowness/freeze if necessary.\n",
      "  cpuset_checked))\n"
     ]
    }
   ],
   "source": [
    "root_dir = '/content/drive/MyDrive/distributed_learning/OOD-detection-using-OECC/CIFAR/'\n",
    "\n",
    "state = {k: v for k, v in args.items()}\n",
    "\n",
    "torch.manual_seed(1)\n",
    "np.random.seed(1)\n",
    "\n",
    "# mean and standard deviation of channels of CIFAR-10 images\n",
    "mean = [x / 255 for x in [125.3, 123.0, 113.9]]\n",
    "std = [x / 255 for x in [63.0, 62.1, 66.7]]\n",
    "\n",
    "train_transform = trn.Compose([trn.RandomHorizontalFlip(), trn.RandomCrop(32, padding=4),\n",
    "                               trn.ToTensor(), trn.Normalize(mean, std)])\n",
    "test_transform = trn.Compose([trn.ToTensor(), trn.Normalize(mean, std)])\n",
    "\n",
    "def get_target_label_idx(labels, targets):\n",
    "    \"\"\"\n",
    "    Get the indices of labels that are included in targets.\n",
    "    :param labels: array of labels\n",
    "    :param targets: list/tuple of target labels\n",
    "    :return: list with indices of target labels\n",
    "    \"\"\"\n",
    "    return np.argwhere(np.isin(labels, targets)).flatten().tolist()\n",
    "\n",
    "\n",
    "# cifar 10 train\n",
    "cifar_10_train = dset.CIFAR10(root_dir, train=True, download=True, transform=train_transform)\n",
    "class_name = ['airplane', 'automobile', 'bird', 'cat', 'deer', 'dog', 'frog', 'horse', 'ship', 'truck']\n",
    "\n",
    "train_idx_list = np.arange(len(cifar_10_train))\n",
    "train_local_idx = get_target_label_idx(cifar_10_train.targets, [0, 1, 2, 5, 6, 7, 8, 9])\n",
    "print(len(train_local_idx))\n",
    "train_data_in = Subset(cifar_10_train, train_local_idx)\n",
    "\n",
    "# cifar 10 test\n",
    "cifar_10_test = dset.CIFAR10(root_dir, train=False, download=True, transform=test_transform)\n",
    "test_idx_list = np.arange(len(cifar_10_test))\n",
    "test_local_idx = get_target_label_idx(cifar_10_test.targets, [0, 1, 2, 3, 4, 5, 6, 7, 8, 9])\n",
    "print(len(test_local_idx))\n",
    "test_data = Subset(cifar_10_test, test_local_idx)\n",
    "num_classes = 10\n",
    "    \n",
    "    \n",
    "calib_indicator = ''\n",
    "if args['calibration']:\n",
    "    train_data_in, val_data = validation_split(train_data_in, val_share=0.1)\n",
    "    calib_indicator = '_calib'\n",
    "    val_loader = torch.utils.data.DataLoader(\n",
    "    val_data,\n",
    "    batch_size=args['batch_size'], shuffle=False,\n",
    "    num_workers=args['prefetch'], pin_memory=True)\n",
    "    \n",
    "    \n",
    "ood_data = dset.SVHN(root_dir, download=True, split='train', transform=trn.Compose(\n",
    "    [trn.ToTensor(), trn.ToPILImage(), trn.RandomCrop(32, padding=4),\n",
    "     trn.RandomHorizontalFlip(), trn.ToTensor(), trn.Normalize(mean, std)]))\n",
    "\n",
    "\n",
    "# Data Loaders\n",
    "train_loader_in = torch.utils.data.DataLoader(\n",
    "    train_data_in,\n",
    "    batch_size=args['batch_size'], shuffle=True,\n",
    "    num_workers=args['prefetch'], pin_memory=True)\n",
    "\n",
    "train_loader_out = torch.utils.data.DataLoader(\n",
    "    ood_data,\n",
    "    batch_size=args['oe_batch_size'], shuffle=False,\n",
    "    num_workers=args['prefetch'], pin_memory=True)\n",
    "\n",
    "test_loader = torch.utils.data.DataLoader(\n",
    "    test_data,\n",
    "    batch_size=args['batch_size'], shuffle=False,\n",
    "    num_workers=args['prefetch'], pin_memory=True)"
   ]
  },
  {
   "cell_type": "code",
   "execution_count": null,
   "metadata": {
    "ExecuteTime": {
     "end_time": "2019-12-13T20:46:00.069801Z",
     "start_time": "2019-12-13T20:45:55.743083Z"
    },
    "colab": {
     "base_uri": "https://localhost:8080/"
    },
    "executionInfo": {
     "elapsed": 7408,
     "status": "ok",
     "timestamp": 1618420112139,
     "user": {
      "displayName": "Yuchong Geng",
      "photoUrl": "",
      "userId": "13573410025212938441"
     },
     "user_tz": 240
    },
    "id": "C5wlJ50t8-XW",
    "outputId": "c608f50f-9cbd-47af-c711-826e12008f59"
   },
   "outputs": [
    {
     "name": "stdout",
     "output_type": "stream",
     "text": [
      "Model restored! Epoch: 999\n"
     ]
    }
   ],
   "source": [
    "# Create model\n",
    "net = WideResNet(args['layers'], num_classes, args['widen_factor'], dropRate=args['droprate'])\n",
    "\n",
    "# Restore the baseline WideResNet model\n",
    "model_found = False\n",
    "if args['load'] != '':\n",
    "    for i in range(1000 - 1, -1, -1):\n",
    "        model_name = '/content/drive/MyDrive/distributed_learning/OOD-detection-using-OECC/CIFAR/baseline model/baseline_model.pt'\n",
    "        if os.path.isfile(model_name):\n",
    "            net.load_state_dict(torch.load(model_name))\n",
    "            print('Model restored! Epoch:', i)\n",
    "            model_found = True\n",
    "            break\n",
    "    if not model_found:\n",
    "        assert False, \"Could not find model to restore\"\n",
    "\n",
    "device = torch.device('cuda:0')    \n",
    "net = net.cuda()\n",
    "torch.cuda.manual_seed(1)    \n",
    "cudnn.benchmark = True  # fire on all cylinders\n",
    "\n",
    "\n",
    "# Optimizer\n",
    "optimizer = torch.optim.SGD(\n",
    "    net.parameters(), state['learning_rate'], momentum=state['momentum'],\n",
    "    weight_decay=state['decay'], nesterov=True)\n",
    "\n",
    "# Learning Rate\n",
    "def cosine_annealing(step, total_steps, lr_max, lr_min):\n",
    "    return lr_min + (lr_max - lr_min) * 0.5 * (\n",
    "            1 + np.cos(step / total_steps * np.pi))\n",
    "\n",
    "\n",
    "scheduler = torch.optim.lr_scheduler.LambdaLR(\n",
    "    optimizer,\n",
    "    lr_lambda=lambda step: cosine_annealing(\n",
    "        step,\n",
    "        args['epochs'] * len(train_loader_in),\n",
    "        1,  # since lr_lambda computes multiplicative factor\n",
    "        1e-6 / args['learning_rate']))"
   ]
  },
  {
   "cell_type": "code",
   "execution_count": null,
   "metadata": {
    "ExecuteTime": {
     "end_time": "2019-12-13T21:01:43.224180Z",
     "start_time": "2019-12-13T20:46:13.069282Z"
    },
    "colab": {
     "base_uri": "https://localhost:8080/"
    },
    "executionInfo": {
     "elapsed": 740906,
     "status": "ok",
     "timestamp": 1618420857419,
     "user": {
      "displayName": "Yuchong Geng",
      "photoUrl": "",
      "userId": "13573410025212938441"
     },
     "user_tz": 240
    },
    "id": "ZgtWI5jKpvPX",
    "outputId": "b70d6b65-9501-45f7-9527-e44bbc8fc7ea"
   },
   "outputs": [
    {
     "name": "stdout",
     "output_type": "stream",
     "text": [
      "Beginning Training\n",
      "\n"
     ]
    },
    {
     "name": "stderr",
     "output_type": "stream",
     "text": [
      "/usr/local/lib/python3.7/dist-packages/torch/utils/data/dataloader.py:477: UserWarning: This DataLoader will create 4 worker processes in total. Our suggested max number of worker in current system is 2, which is smaller than what this DataLoader is going to create. Please be aware that excessive worker creation might get DataLoader running slow or even freeze, lower the worker number to avoid potential slowness/freeze if necessary.\n",
      "  cpuset_checked))\n",
      "/usr/local/lib/python3.7/dist-packages/torch/optim/lr_scheduler.py:134: UserWarning: Detected call of `lr_scheduler.step()` before `optimizer.step()`. In PyTorch 1.1.0 and later, you should call them in the opposite order: `optimizer.step()` before `lr_scheduler.step()`.  Failure to do this will result in PyTorch skipping the first value of the learning rate schedule. See more details at https://pytorch.org/docs/stable/optim.html#how-to-adjust-learning-rate\n",
      "  \"https://pytorch.org/docs/stable/optim.html#how-to-adjust-learning-rate\", UserWarning)\n"
     ]
    },
    {
     "name": "stdout",
     "output_type": "stream",
     "text": [
      "Epoch   1 | Time    50 | Train Loss 0.4585 | Test Loss 2.695 | Test Error 24.31\n",
      "Epoch   2 | Time    49 | Train Loss 0.3976 | Test Loss 2.715 | Test Error 24.49\n",
      "Epoch   3 | Time    49 | Train Loss 0.4242 | Test Loss 2.891 | Test Error 23.87\n",
      "Epoch   4 | Time    50 | Train Loss 0.3476 | Test Loss 2.927 | Test Error 23.73\n",
      "Epoch   5 | Time    49 | Train Loss 0.3731 | Test Loss 2.898 | Test Error 23.72\n",
      "Epoch   6 | Time    48 | Train Loss 0.3795 | Test Loss 2.978 | Test Error 23.67\n",
      "Epoch   7 | Time    48 | Train Loss 0.2846 | Test Loss 2.890 | Test Error 23.52\n",
      "Epoch   8 | Time    49 | Train Loss 0.2576 | Test Loss 2.830 | Test Error 23.44\n",
      "Epoch   9 | Time    49 | Train Loss 0.3156 | Test Loss 2.947 | Test Error 23.45\n",
      "Epoch  10 | Time    49 | Train Loss 0.3108 | Test Loss 2.901 | Test Error 23.54\n",
      "Epoch  11 | Time    49 | Train Loss 0.2789 | Test Loss 2.920 | Test Error 23.46\n",
      "Epoch  12 | Time    48 | Train Loss 0.3346 | Test Loss 2.899 | Test Error 23.23\n",
      "Epoch  13 | Time    49 | Train Loss 0.2517 | Test Loss 2.932 | Test Error 23.23\n",
      "Epoch  14 | Time    49 | Train Loss 0.2531 | Test Loss 2.908 | Test Error 23.24\n",
      "Epoch  15 | Time    49 | Train Loss 0.2452 | Test Loss 2.885 | Test Error 23.25\n"
     ]
    }
   ],
   "source": [
    "# /////////////// Training ///////////////\n",
    "def train():\n",
    "    net.train()  # enter train mode\n",
    "    loss_avg = 0.0\n",
    "\n",
    "    # start at a random point of the outlier dataset; this induces more randomness without obliterating locality\n",
    "    train_loader_out.dataset.offset = np.random.randint(len(train_loader_out.dataset))\n",
    "    for in_set, out_set in zip(train_loader_in, train_loader_out):\n",
    "        data = torch.cat((in_set[0], out_set[0]), 0)\n",
    "        target = in_set[1]\n",
    "\n",
    "\n",
    "        data, target = data.cuda(), target.cuda()\n",
    "        \n",
    "        # forward\n",
    "        x = net(data)\n",
    "\n",
    "        # backward\n",
    "        scheduler.step()\n",
    "        optimizer.zero_grad()\n",
    "\n",
    "        loss = F.cross_entropy(x[:len(in_set[0])], target)\n",
    "        \n",
    "        ## OECC Loss Function\n",
    "        if args['dataset'] == 'cifar10':\n",
    "            A_tr = 0.9486 # Training accuracy of CIFAR-10 baseline model\n",
    "        elif args['dataset'] == 'cifar100':\n",
    "            A_tr = 0.7573 # Training accuracy of CIFAR-100 baseline model    \n",
    "        sm = torch.nn.Softmax(dim=1) # Create a Softmax \n",
    "        probabilities = sm(x) # Get the probabilites for both In and Outlier Images\n",
    "        max_probs, _ = torch.max(probabilities, dim=1) # Take the maximum probabilities produced by softmax\n",
    "        prob_diff_in = max_probs[:len(in_set[0])] - A_tr # Push towards the training accuracy of the baseline\n",
    "        loss += args['lambda_1'] * torch.sum(prob_diff_in**2) ## 1st Regularization term\n",
    "        prob_diff_out = probabilities[len(in_set[0]):][:] - (1/num_classes)\n",
    "        loss += args['lambda_2'] * torch.sum(torch.abs(prob_diff_out)) ## 2nd Regularization term\n",
    "                \n",
    "        loss.backward()\n",
    "        optimizer.step()\n",
    "        \n",
    "        # exponential moving average\n",
    "        loss_avg = loss_avg * 0.8 + float(loss) * 0.2\n",
    "    \n",
    "    state['train_loss'] = loss_avg\n",
    "\n",
    "# test function\n",
    "def test():\n",
    "    net.eval()\n",
    "    loss_avg = 0.0\n",
    "    correct = 0\n",
    "    with torch.no_grad():\n",
    "        for data, target in test_loader:\n",
    "            #data, target = data.to(device), target.to(device)\n",
    "            data, target = data.cuda(), target.cuda()\n",
    "\n",
    "            # forward\n",
    "            output = net(data)\n",
    "            loss = F.cross_entropy(output, target)\n",
    "\n",
    "            # accuracy\n",
    "            pred = output.data.max(1)[1]\n",
    "            correct += pred.eq(target.data).sum().item()\n",
    "\n",
    "            # test loss average\n",
    "            loss_avg += float(loss.data)            \n",
    "            \n",
    "    state['test_loss'] = loss_avg / len(test_loader)\n",
    "    state['test_accuracy'] = correct / len(test_loader.dataset)\n",
    "\n",
    "\n",
    "# Make save directory\n",
    "if not os.path.exists(args['save']):\n",
    "    os.makedirs(args['save'])\n",
    "if not os.path.isdir(args['save']):\n",
    "    raise Exception('%s is not a dir' % args['save'])\n",
    "\n",
    "with open(os.path.join(args['save'], args['dataset'] + calib_indicator + '_' + args['model'] +\n",
    "                                  '_OECC_tune_training_results.csv'), 'w') as f:\n",
    "    f.write('epoch,time(s),train_loss,test_loss,test_error(%)\\n')\n",
    "\n",
    "print('Beginning Training\\n')\n",
    "\n",
    "\n",
    "# Main loop\n",
    "for epoch in range(0, args['epochs']):\n",
    "    state['epoch'] = epoch\n",
    "\n",
    "    begin_epoch = time.time()\n",
    "\n",
    "    train()\n",
    "    test()\n",
    "\n",
    "    # Save model\n",
    "    torch.save(net.state_dict(),\n",
    "               os.path.join(args['save'], args['dataset'] + calib_indicator + '_' + args['model'] +\n",
    "                            '_OECC_tune_epoch_' + str(epoch) + '.pt'))\n",
    "    # Let us not waste space and delete the previous model\n",
    "    prev_path = os.path.join(args['save'], args['dataset'] + calib_indicator + '_' + args['model'] +\n",
    "                             '_OECC_tune_epoch_' + str(epoch - 1) + '.pt')\n",
    "    if os.path.exists(prev_path): os.remove(prev_path)\n",
    "\n",
    "    # Show results\n",
    "\n",
    "    with open(os.path.join(args['save'], args['dataset'] + calib_indicator + '_' + args['model'] +\n",
    "                                      '_OECC_tune_training_results.csv'), 'a') as f:\n",
    "        f.write('%03d,%05d,%0.6f,%0.5f,%0.2f\\n' % (\n",
    "            (epoch + 1),\n",
    "            time.time() - begin_epoch,\n",
    "            state['train_loss'],\n",
    "            state['test_loss'],\n",
    "            100 - 100. * state['test_accuracy'],\n",
    "        ))\n",
    "\n",
    "    # # print state with rounded decimals\n",
    "    # print({k: round(v, 4) if isinstance(v, float) else v for k, v in state.items()})\n",
    "\n",
    "    print('Epoch {0:3d} | Time {1:5d} | Train Loss {2:.4f} | Test Loss {3:.3f} | Test Error {4:.2f}'.format(\n",
    "        (epoch + 1),\n",
    "        int(time.time() - begin_epoch),\n",
    "        state['train_loss'],\n",
    "        state['test_loss'],\n",
    "        100 - 100. * state['test_accuracy'])\n",
    "    )"
   ]
  },
  {
   "cell_type": "code",
   "execution_count": null,
   "metadata": {
    "colab": {
     "base_uri": "https://localhost:8080/"
    },
    "id": "CmxP85nzWbVu",
    "outputId": "c03f477d-4edf-4a4f-fd9e-5c40ca670c6b"
   },
   "outputs": [
    {
     "name": "stdout",
     "output_type": "stream",
     "text": [
      "Using downloaded and verified file: /content/drive/MyDrive/distributed_learning/OOD-detection-using-OECC/CIFAR/train_256_places365standard.tar\n",
      "Extracting /content/drive/MyDrive/distributed_learning/OOD-detection-using-OECC/CIFAR/train_256_places365standard.tar to /content/drive/MyDrive/distributed_learning/OOD-detection-using-OECC/CIFAR/\n"
     ]
    }
   ],
   "source": [
    "ood_data = dset.Places365(root_dir, small=True, download=True, split='train-standard', transform=trn.Compose(\n",
    "    [trn.ToTensor(), trn.ToPILImage(), trn.RandomCrop(32, padding=4),\n",
    "     trn.RandomHorizontalFlip(), trn.ToTensor(), trn.Normalize(mean, std)]))"
   ]
  },
  {
   "cell_type": "code",
   "execution_count": null,
   "metadata": {
    "colab": {
     "base_uri": "https://localhost:8080/",
     "height": 667
    },
    "executionInfo": {
     "elapsed": 1560,
     "status": "error",
     "timestamp": 1618421035593,
     "user": {
      "displayName": "Yuchong Geng",
      "photoUrl": "",
      "userId": "13573410025212938441"
     },
     "user_tz": 240
    },
    "id": "YReZS5VCCzQ2",
    "outputId": "a741a011-5ff2-4032-c8fa-349f49a8b871"
   },
   "outputs": [
    {
     "name": "stderr",
     "output_type": "stream",
     "text": [
      "/usr/local/lib/python3.7/dist-packages/torch/utils/data/dataloader.py:477: UserWarning: This DataLoader will create 4 worker processes in total. Our suggested max number of worker in current system is 2, which is smaller than what this DataLoader is going to create. Please be aware that excessive worker creation might get DataLoader running slow or even freeze, lower the worker number to avoid potential slowness/freeze if necessary.\n",
      "  cpuset_checked))\n"
     ]
    },
    {
     "ename": "FileNotFoundError",
     "evalue": "ignored",
     "output_type": "error",
     "traceback": [
      "\u001b[0;31m---------------------------------------------------------------------------\u001b[0m",
      "\u001b[0;31mFileNotFoundError\u001b[0m                         Traceback (most recent call last)",
      "\u001b[0;32m<ipython-input-16-e27c2f3f6599>\u001b[0m in \u001b[0;36m<module>\u001b[0;34m()\u001b[0m\n\u001b[1;32m     16\u001b[0m     \u001b[0mbegin_epoch\u001b[0m \u001b[0;34m=\u001b[0m \u001b[0mtime\u001b[0m\u001b[0;34m.\u001b[0m\u001b[0mtime\u001b[0m\u001b[0;34m(\u001b[0m\u001b[0;34m)\u001b[0m\u001b[0;34m\u001b[0m\u001b[0;34m\u001b[0m\u001b[0m\n\u001b[1;32m     17\u001b[0m \u001b[0;34m\u001b[0m\u001b[0m\n\u001b[0;32m---> 18\u001b[0;31m     \u001b[0mtrain\u001b[0m\u001b[0;34m(\u001b[0m\u001b[0;34m)\u001b[0m\u001b[0;34m\u001b[0m\u001b[0;34m\u001b[0m\u001b[0m\n\u001b[0m\u001b[1;32m     19\u001b[0m     \u001b[0mtest\u001b[0m\u001b[0;34m(\u001b[0m\u001b[0;34m)\u001b[0m\u001b[0;34m\u001b[0m\u001b[0;34m\u001b[0m\u001b[0m\n\u001b[1;32m     20\u001b[0m \u001b[0;34m\u001b[0m\u001b[0m\n",
      "\u001b[0;32m<ipython-input-10-e8a56e1da43a>\u001b[0m in \u001b[0;36mtrain\u001b[0;34m()\u001b[0m\n\u001b[1;32m      6\u001b[0m     \u001b[0;31m# start at a random point of the outlier dataset; this induces more randomness without obliterating locality\u001b[0m\u001b[0;34m\u001b[0m\u001b[0;34m\u001b[0m\u001b[0;34m\u001b[0m\u001b[0m\n\u001b[1;32m      7\u001b[0m     \u001b[0mtrain_loader_out\u001b[0m\u001b[0;34m.\u001b[0m\u001b[0mdataset\u001b[0m\u001b[0;34m.\u001b[0m\u001b[0moffset\u001b[0m \u001b[0;34m=\u001b[0m \u001b[0mnp\u001b[0m\u001b[0;34m.\u001b[0m\u001b[0mrandom\u001b[0m\u001b[0;34m.\u001b[0m\u001b[0mrandint\u001b[0m\u001b[0;34m(\u001b[0m\u001b[0mlen\u001b[0m\u001b[0;34m(\u001b[0m\u001b[0mtrain_loader_out\u001b[0m\u001b[0;34m.\u001b[0m\u001b[0mdataset\u001b[0m\u001b[0;34m)\u001b[0m\u001b[0;34m)\u001b[0m\u001b[0;34m\u001b[0m\u001b[0;34m\u001b[0m\u001b[0m\n\u001b[0;32m----> 8\u001b[0;31m     \u001b[0;32mfor\u001b[0m \u001b[0min_set\u001b[0m\u001b[0;34m,\u001b[0m \u001b[0mout_set\u001b[0m \u001b[0;32min\u001b[0m \u001b[0mzip\u001b[0m\u001b[0;34m(\u001b[0m\u001b[0mtrain_loader_in\u001b[0m\u001b[0;34m,\u001b[0m \u001b[0mtrain_loader_out\u001b[0m\u001b[0;34m)\u001b[0m\u001b[0;34m:\u001b[0m\u001b[0;34m\u001b[0m\u001b[0;34m\u001b[0m\u001b[0m\n\u001b[0m\u001b[1;32m      9\u001b[0m         \u001b[0mdata\u001b[0m \u001b[0;34m=\u001b[0m \u001b[0mtorch\u001b[0m\u001b[0;34m.\u001b[0m\u001b[0mcat\u001b[0m\u001b[0;34m(\u001b[0m\u001b[0;34m(\u001b[0m\u001b[0min_set\u001b[0m\u001b[0;34m[\u001b[0m\u001b[0;36m0\u001b[0m\u001b[0;34m]\u001b[0m\u001b[0;34m,\u001b[0m \u001b[0mout_set\u001b[0m\u001b[0;34m[\u001b[0m\u001b[0;36m0\u001b[0m\u001b[0;34m]\u001b[0m\u001b[0;34m)\u001b[0m\u001b[0;34m,\u001b[0m \u001b[0;36m0\u001b[0m\u001b[0;34m)\u001b[0m\u001b[0;34m\u001b[0m\u001b[0;34m\u001b[0m\u001b[0m\n\u001b[1;32m     10\u001b[0m         \u001b[0mtarget\u001b[0m \u001b[0;34m=\u001b[0m \u001b[0min_set\u001b[0m\u001b[0;34m[\u001b[0m\u001b[0;36m1\u001b[0m\u001b[0;34m]\u001b[0m\u001b[0;34m\u001b[0m\u001b[0;34m\u001b[0m\u001b[0m\n",
      "\u001b[0;32m/usr/local/lib/python3.7/dist-packages/torch/utils/data/dataloader.py\u001b[0m in \u001b[0;36m__next__\u001b[0;34m(self)\u001b[0m\n\u001b[1;32m    515\u001b[0m             \u001b[0;32mif\u001b[0m \u001b[0mself\u001b[0m\u001b[0;34m.\u001b[0m\u001b[0m_sampler_iter\u001b[0m \u001b[0;32mis\u001b[0m \u001b[0;32mNone\u001b[0m\u001b[0;34m:\u001b[0m\u001b[0;34m\u001b[0m\u001b[0;34m\u001b[0m\u001b[0m\n\u001b[1;32m    516\u001b[0m                 \u001b[0mself\u001b[0m\u001b[0;34m.\u001b[0m\u001b[0m_reset\u001b[0m\u001b[0;34m(\u001b[0m\u001b[0;34m)\u001b[0m\u001b[0;34m\u001b[0m\u001b[0;34m\u001b[0m\u001b[0m\n\u001b[0;32m--> 517\u001b[0;31m             \u001b[0mdata\u001b[0m \u001b[0;34m=\u001b[0m \u001b[0mself\u001b[0m\u001b[0;34m.\u001b[0m\u001b[0m_next_data\u001b[0m\u001b[0;34m(\u001b[0m\u001b[0;34m)\u001b[0m\u001b[0;34m\u001b[0m\u001b[0;34m\u001b[0m\u001b[0m\n\u001b[0m\u001b[1;32m    518\u001b[0m             \u001b[0mself\u001b[0m\u001b[0;34m.\u001b[0m\u001b[0m_num_yielded\u001b[0m \u001b[0;34m+=\u001b[0m \u001b[0;36m1\u001b[0m\u001b[0;34m\u001b[0m\u001b[0;34m\u001b[0m\u001b[0m\n\u001b[1;32m    519\u001b[0m             \u001b[0;32mif\u001b[0m \u001b[0mself\u001b[0m\u001b[0;34m.\u001b[0m\u001b[0m_dataset_kind\u001b[0m \u001b[0;34m==\u001b[0m \u001b[0m_DatasetKind\u001b[0m\u001b[0;34m.\u001b[0m\u001b[0mIterable\u001b[0m \u001b[0;32mand\u001b[0m\u001b[0;31m \u001b[0m\u001b[0;31m\\\u001b[0m\u001b[0;34m\u001b[0m\u001b[0;34m\u001b[0m\u001b[0m\n",
      "\u001b[0;32m/usr/local/lib/python3.7/dist-packages/torch/utils/data/dataloader.py\u001b[0m in \u001b[0;36m_next_data\u001b[0;34m(self)\u001b[0m\n\u001b[1;32m   1197\u001b[0m             \u001b[0;32melse\u001b[0m\u001b[0;34m:\u001b[0m\u001b[0;34m\u001b[0m\u001b[0;34m\u001b[0m\u001b[0m\n\u001b[1;32m   1198\u001b[0m                 \u001b[0;32mdel\u001b[0m \u001b[0mself\u001b[0m\u001b[0;34m.\u001b[0m\u001b[0m_task_info\u001b[0m\u001b[0;34m[\u001b[0m\u001b[0midx\u001b[0m\u001b[0;34m]\u001b[0m\u001b[0;34m\u001b[0m\u001b[0;34m\u001b[0m\u001b[0m\n\u001b[0;32m-> 1199\u001b[0;31m                 \u001b[0;32mreturn\u001b[0m \u001b[0mself\u001b[0m\u001b[0;34m.\u001b[0m\u001b[0m_process_data\u001b[0m\u001b[0;34m(\u001b[0m\u001b[0mdata\u001b[0m\u001b[0;34m)\u001b[0m\u001b[0;34m\u001b[0m\u001b[0;34m\u001b[0m\u001b[0m\n\u001b[0m\u001b[1;32m   1200\u001b[0m \u001b[0;34m\u001b[0m\u001b[0m\n\u001b[1;32m   1201\u001b[0m     \u001b[0;32mdef\u001b[0m \u001b[0m_try_put_index\u001b[0m\u001b[0;34m(\u001b[0m\u001b[0mself\u001b[0m\u001b[0;34m)\u001b[0m\u001b[0;34m:\u001b[0m\u001b[0;34m\u001b[0m\u001b[0;34m\u001b[0m\u001b[0m\n",
      "\u001b[0;32m/usr/local/lib/python3.7/dist-packages/torch/utils/data/dataloader.py\u001b[0m in \u001b[0;36m_process_data\u001b[0;34m(self, data)\u001b[0m\n\u001b[1;32m   1223\u001b[0m         \u001b[0mself\u001b[0m\u001b[0;34m.\u001b[0m\u001b[0m_try_put_index\u001b[0m\u001b[0;34m(\u001b[0m\u001b[0;34m)\u001b[0m\u001b[0;34m\u001b[0m\u001b[0;34m\u001b[0m\u001b[0m\n\u001b[1;32m   1224\u001b[0m         \u001b[0;32mif\u001b[0m \u001b[0misinstance\u001b[0m\u001b[0;34m(\u001b[0m\u001b[0mdata\u001b[0m\u001b[0;34m,\u001b[0m \u001b[0mExceptionWrapper\u001b[0m\u001b[0;34m)\u001b[0m\u001b[0;34m:\u001b[0m\u001b[0;34m\u001b[0m\u001b[0;34m\u001b[0m\u001b[0m\n\u001b[0;32m-> 1225\u001b[0;31m             \u001b[0mdata\u001b[0m\u001b[0;34m.\u001b[0m\u001b[0mreraise\u001b[0m\u001b[0;34m(\u001b[0m\u001b[0;34m)\u001b[0m\u001b[0;34m\u001b[0m\u001b[0;34m\u001b[0m\u001b[0m\n\u001b[0m\u001b[1;32m   1226\u001b[0m         \u001b[0;32mreturn\u001b[0m \u001b[0mdata\u001b[0m\u001b[0;34m\u001b[0m\u001b[0;34m\u001b[0m\u001b[0m\n\u001b[1;32m   1227\u001b[0m \u001b[0;34m\u001b[0m\u001b[0m\n",
      "\u001b[0;32m/usr/local/lib/python3.7/dist-packages/torch/_utils.py\u001b[0m in \u001b[0;36mreraise\u001b[0;34m(self)\u001b[0m\n\u001b[1;32m    427\u001b[0m             \u001b[0;31m# have message field\u001b[0m\u001b[0;34m\u001b[0m\u001b[0;34m\u001b[0m\u001b[0;34m\u001b[0m\u001b[0m\n\u001b[1;32m    428\u001b[0m             \u001b[0;32mraise\u001b[0m \u001b[0mself\u001b[0m\u001b[0;34m.\u001b[0m\u001b[0mexc_type\u001b[0m\u001b[0;34m(\u001b[0m\u001b[0mmessage\u001b[0m\u001b[0;34m=\u001b[0m\u001b[0mmsg\u001b[0m\u001b[0;34m)\u001b[0m\u001b[0;34m\u001b[0m\u001b[0;34m\u001b[0m\u001b[0m\n\u001b[0;32m--> 429\u001b[0;31m         \u001b[0;32mraise\u001b[0m \u001b[0mself\u001b[0m\u001b[0;34m.\u001b[0m\u001b[0mexc_type\u001b[0m\u001b[0;34m(\u001b[0m\u001b[0mmsg\u001b[0m\u001b[0;34m)\u001b[0m\u001b[0;34m\u001b[0m\u001b[0;34m\u001b[0m\u001b[0m\n\u001b[0m\u001b[1;32m    430\u001b[0m \u001b[0;34m\u001b[0m\u001b[0m\n\u001b[1;32m    431\u001b[0m \u001b[0;34m\u001b[0m\u001b[0m\n",
      "\u001b[0;31mFileNotFoundError\u001b[0m: Caught FileNotFoundError in DataLoader worker process 0.\nOriginal Traceback (most recent call last):\n  File \"/usr/local/lib/python3.7/dist-packages/torch/utils/data/_utils/worker.py\", line 202, in _worker_loop\n    data = fetcher.fetch(index)\n  File \"/usr/local/lib/python3.7/dist-packages/torch/utils/data/_utils/fetch.py\", line 44, in fetch\n    data = [self.dataset[idx] for idx in possibly_batched_index]\n  File \"/usr/local/lib/python3.7/dist-packages/torch/utils/data/_utils/fetch.py\", line 44, in <listcomp>\n    data = [self.dataset[idx] for idx in possibly_batched_index]\n  File \"/usr/local/lib/python3.7/dist-packages/torchvision/datasets/places365.py\", line 87, in __getitem__\n    image = self.loader(file)\n  File \"/usr/local/lib/python3.7/dist-packages/torchvision/datasets/folder.py\", line 215, in default_loader\n    return pil_loader(path)\n  File \"/usr/local/lib/python3.7/dist-packages/torchvision/datasets/folder.py\", line 195, in pil_loader\n    with open(path, 'rb') as f:\nFileNotFoundError: [Errno 2] No such file or directory: '/content/drive/MyDrive/distributed_learning/OOD-detection-using-OECC/CIFAR/data_256_standard/p/pier/00001494.jpg'\n"
     ]
    }
   ],
   "source": [
    "\n",
    "\n",
    "\n",
    "# Data Loaders\n",
    "\n",
    "\n",
    "train_loader_out = torch.utils.data.DataLoader(\n",
    "    ood_data,\n",
    "    batch_size=args['oe_batch_size'], shuffle=True,\n",
    "    num_workers=args['prefetch'], pin_memory=True)\n",
    "\n",
    "# Main loop\n",
    "for epoch in range(0, args['epochs']):\n",
    "    state['epoch'] = epoch\n",
    "\n",
    "    begin_epoch = time.time()\n",
    "\n",
    "    train()\n",
    "    test()\n",
    "\n",
    "    # Save model\n",
    "    torch.save(net.state_dict(),\n",
    "               os.path.join(args['save'], args['dataset'] + calib_indicator + '_' + args['model'] +\n",
    "                            '_OECC_tune_epoch_' + str(epoch) + '.pt'))\n",
    "    # Let us not waste space and delete the previous model\n",
    "    prev_path = os.path.join(args['save'], args['dataset'] + calib_indicator + '_' + args['model'] +\n",
    "                             '_OECC_tune_epoch_' + str(epoch - 1) + '.pt')\n",
    "    if os.path.exists(prev_path): os.remove(prev_path)\n",
    "\n",
    "    # Show results\n",
    "\n",
    "    with open(os.path.join(args['save'], args['dataset'] + calib_indicator + '_' + args['model'] +\n",
    "                                      '_OECC_tune_training_results.csv'), 'a') as f:\n",
    "        f.write('%03d,%05d,%0.6f,%0.5f,%0.2f\\n' % (\n",
    "            (epoch + 1),\n",
    "            time.time() - begin_epoch,\n",
    "            state['train_loss'],\n",
    "            state['test_loss'],\n",
    "            100 - 100. * state['test_accuracy'],\n",
    "        ))\n",
    "\n",
    "    # # print state with rounded decimals\n",
    "    # print({k: round(v, 4) if isinstance(v, float) else v for k, v in state.items()})\n",
    "\n",
    "    print('Epoch {0:3d} | Time {1:5d} | Train Loss {2:.4f} | Test Loss {3:.3f} | Test Error {4:.2f}'.format(\n",
    "        (epoch + 1),\n",
    "        int(time.time() - begin_epoch),\n",
    "        state['train_loss'],\n",
    "        state['test_loss'],\n",
    "        100 - 100. * state['test_accuracy'])\n",
    "    )"
   ]
  },
  {
   "cell_type": "code",
   "execution_count": null,
   "metadata": {
    "colab": {
     "base_uri": "https://localhost:8080/"
    },
    "executionInfo": {
     "elapsed": 7795,
     "status": "ok",
     "timestamp": 1618420912492,
     "user": {
      "displayName": "Yuchong Geng",
      "photoUrl": "",
      "userId": "13573410025212938441"
     },
     "user_tz": 240
    },
    "id": "oEQALUpraYba",
    "outputId": "b6d88b11-6df0-4a0a-85bb-77732076fbb9"
   },
   "outputs": [
    {
     "name": "stderr",
     "output_type": "stream",
     "text": [
      "/usr/local/lib/python3.7/dist-packages/torch/utils/data/dataloader.py:477: UserWarning: This DataLoader will create 4 worker processes in total. Our suggested max number of worker in current system is 2, which is smaller than what this DataLoader is going to create. Please be aware that excessive worker creation might get DataLoader running slow or even freeze, lower the worker number to avoid potential slowness/freeze if necessary.\n",
      "  cpuset_checked))\n"
     ]
    },
    {
     "name": "stdout",
     "output_type": "stream",
     "text": [
      "Error Rate 23.25\n",
      "\n",
      "Using CIFAR-10 as typical data\n",
      "Using downloaded and verified file: /content/drive/MyDrive/distributed_learning/OOD-detection-using-OECC/CIFAR/test_32x32.mat\n",
      "10000\n",
      "\n",
      "\n",
      "CIFAR-100 Detection\n",
      "FPR95:\t\t\t46.06\n",
      "AUROC: \t\t\t84.83\n",
      "AUPR:  \t\t\t46.25\n"
     ]
    },
    {
     "name": "stderr",
     "output_type": "stream",
     "text": [
      "/usr/local/lib/python3.7/dist-packages/torch/utils/data/dataloader.py:477: UserWarning: This DataLoader will create 4 worker processes in total. Our suggested max number of worker in current system is 2, which is smaller than what this DataLoader is going to create. Please be aware that excessive worker creation might get DataLoader running slow or even freeze, lower the worker number to avoid potential slowness/freeze if necessary.\n",
      "  cpuset_checked))\n"
     ]
    },
    {
     "name": "stdout",
     "output_type": "stream",
     "text": [
      "\n",
      "\n",
      "Mean Test Results\n",
      "FPR95:\t\t\t46.06\n",
      "AUROC: \t\t\t84.83\n",
      "AUPR:  \t\t\t46.25\n"
     ]
    }
   ],
   "source": [
    "net.eval()\n",
    "\n",
    "\n",
    "# /////////////// Detection Prelims ///////////////\n",
    "\n",
    "ood_num_examples = len(test_data) // 5\n",
    "expected_ap = ood_num_examples / (ood_num_examples + len(test_data))\n",
    "\n",
    "concat = lambda x: np.concatenate(x, axis=0)\n",
    "to_np = lambda x: x.data.cpu().numpy()\n",
    "\n",
    "\n",
    "def get_ood_scores(loader, in_dist=False):\n",
    "    _score = []\n",
    "    out_conf_score = []\n",
    "    in_conf_score = []\n",
    "    _right_score = []\n",
    "    _wrong_score = []\n",
    "\n",
    "    with torch.no_grad():\n",
    "        for batch_idx, (data, target) in enumerate(loader):\n",
    "            if batch_idx >= ood_num_examples // args[\n",
    "                    'test_bs'] and in_dist is False:\n",
    "                break\n",
    "\n",
    "#             data = data.cuda(device)\n",
    "            data = data.cuda()\n",
    "\n",
    "            output = net(data)\n",
    "            smax = to_np(F.softmax(output, dim=1))\n",
    "\n",
    "            if True:\n",
    "                _score.append(\n",
    "                    to_np((output.mean(1) - torch.logsumexp(output, dim=1))))\n",
    "                out_conf_score.append(np.max(smax, axis=1))\n",
    "            else:\n",
    "                _score.append(-np.max(smax, axis=1))\n",
    "                out_conf_score.append(np.max(smax, axis=1))\n",
    "\n",
    "            if in_dist:\n",
    "                in_conf_score.append(np.max(smax, axis=1))\n",
    "                preds = np.argmax(smax, axis=1)\n",
    "                targets = target.numpy().squeeze()\n",
    "                right_indices = preds == targets\n",
    "                wrong_indices = np.invert(right_indices)\n",
    "\n",
    "                if False:\n",
    "                    _right_score.append(\n",
    "                        to_np((output.mean(1) -\n",
    "                               torch.logsumexp(output, dim=1)))[right_indices])\n",
    "                    _wrong_score.append(\n",
    "                        to_np((output.mean(1) -\n",
    "                               torch.logsumexp(output, dim=1)))[wrong_indices])\n",
    "                else:\n",
    "                    _right_score.append(-np.max(smax[right_indices], axis=1))\n",
    "                    _wrong_score.append(-np.max(smax[wrong_indices], axis=1))\n",
    "\n",
    "    if in_dist:\n",
    "        return concat(in_conf_score).copy(), concat(_score).copy(), concat(_right_score).copy(), concat(_wrong_score).copy()\n",
    "    else:\n",
    "        return concat(out_conf_score).copy(), concat(_score)[:ood_num_examples].copy()\n",
    "\n",
    "\n",
    "in_conf_score, in_score, right_score, wrong_score = get_ood_scores(test_loader, in_dist=True)\n",
    "\n",
    "num_right = len(right_score)\n",
    "num_wrong = len(wrong_score)\n",
    "print('Error Rate {:.2f}'.format(100 * num_wrong / (num_wrong + num_right)))\n",
    "# f.write('\\nError Rate {:.2f}'.format(100 * num_wrong /\n",
    "#                                      (num_wrong + num_right)))\n",
    "\n",
    "# /////////////// End Detection Prelims ///////////////\n",
    "\n",
    "print('\\nUsing CIFAR-10 as typical data') if num_classes == 10 else print(\n",
    "    '\\nUsing CIFAR-100 as typical data')\n",
    "# f.write('\\nUsing CIFAR-10 as typical data') if num_classes == 10 else f.write(\n",
    "#     '\\nUsing CIFAR-100 as typical data')\n",
    "\n",
    "# /////////////// Error Detection ///////////////\n",
    "\n",
    "# print('\\n\\nError Detection')\n",
    "# f.write('\\n\\nError Detection')\n",
    "# show_performance(wrong_score, right_score, f, method_name=args['method_name'])\n",
    "\n",
    "# /////////////// OOD Detection ///////////////\n",
    "auroc_list, aupr_list, fpr_list = [], [], []\n",
    "\n",
    "\n",
    "def get_and_print_results(ood_loader, num_to_avg=1):\n",
    "\n",
    "    aurocs, auprs, fprs = [], [], []\n",
    "    for _ in range(num_to_avg):\n",
    "        out_conf_score, out_score = get_ood_scores(ood_loader)\n",
    "        measures = get_measures(out_score, in_score)\n",
    "        aurocs.append(measures[0])\n",
    "        auprs.append(measures[1])\n",
    "        fprs.append(measures[2])\n",
    "\n",
    "    auroc = np.mean(aurocs)\n",
    "    aupr = np.mean(auprs)\n",
    "    fpr = np.mean(fprs)\n",
    "    auroc_list.append(auroc)\n",
    "    aupr_list.append(aupr)\n",
    "    fpr_list.append(fpr)\n",
    "\n",
    "    if num_to_avg >= 5:\n",
    "        print_measures_with_std(aurocs, auprs, fprs, f, 'cifar10_wrn_OECC_tune')\n",
    "    else:\n",
    "        print_measures(auroc, aupr, fpr, f, 'cifar10_wrn_OECC_tune')\n",
    "    return out_conf_score    \n",
    "\n",
    "\n",
    "\n",
    "\n",
    "# /////////////// CIFAR Data ///////////////\n",
    "\n",
    "\n",
    "# ood_idx = get_target_label_idx(cifar_10_train.targets, [3, 4])\n",
    "# ood_data = Subset(cifar_10_train, ood_idx)\n",
    "\n",
    "ood_data = dset.SVHN(root_dir, download=True, split='test', transform=trn.Compose(\n",
    "    [trn.ToTensor(), trn.ToPILImage(), trn.RandomCrop(32, padding=4),\n",
    "     trn.RandomHorizontalFlip(), trn.ToTensor(), trn.Normalize(mean, std)]))\n",
    "\n",
    "\n",
    "ood_idx_idx = get_target_label_idx(cifar_10_train.targets, [3, 4])\n",
    "print(len(ood_idx_idx))\n",
    "ood_data = Subset(cifar_10_train, ood_idx_idx)\n",
    "\n",
    "\n",
    "ood_loader = torch.utils.data.DataLoader(ood_data,\n",
    "                                         batch_size=args['test_bs'],\n",
    "                                         shuffle=True,\n",
    "                                         num_workers=args['prefetch'],\n",
    "                                         pin_memory=True)\n",
    "\n",
    "print(\n",
    "    '\\n\\nCIFAR-100 Detection') if True else print(\n",
    "        '\\n\\nCIFAR-10 Detection')\n",
    "# f.write('\\n\\nCIFAR-100 Detection'\n",
    "#         ) if 'cifar10_' in args['method_name'] else f.write(\n",
    "#             '\\n\\nCIFAR-10 Detection')\n",
    "get_and_print_results(ood_loader)\n",
    "out_conf_score, out_score = get_ood_scores(ood_loader, in_dist=False)\n",
    "# /////////////// Mean Results ///////////////\n",
    "\n",
    "print('\\n\\nMean Test Results')\n",
    "# f.write('\\n\\nMean Test Results')\n",
    "print_measures(np.mean(auroc_list),\n",
    "               np.mean(aupr_list),\n",
    "               np.mean(fpr_list),\n",
    "               f,\n",
    "               method_name='cifar10_wrn_OECC_tune')\n",
    "# f.close()"
   ]
  },
  {
   "cell_type": "code",
   "execution_count": null,
   "metadata": {
    "id": "u1vXt5dlb6Sa"
   },
   "outputs": [],
   "source": [
    "path = F\"/content/drive/MyDrive/distributed_learning/OOD-detection-using-OECC/CIFAR/oecc model/oecc_model.pt\"\n",
    "torch.save(net.state_dict(), path)"
   ]
  },
  {
   "cell_type": "code",
   "execution_count": null,
   "metadata": {
    "colab": {
     "base_uri": "https://localhost:8080/"
    },
    "executionInfo": {
     "elapsed": 1064,
     "status": "ok",
     "timestamp": 1618330875645,
     "user": {
      "displayName": "Yuchong Geng",
      "photoUrl": "",
      "userId": "13573410025212938441"
     },
     "user_tz": 240
    },
    "id": "4E-DdLmBa5A1",
    "outputId": "0c08da48-bce1-4052-92be-2a40e397f535"
   },
   "outputs": [
    {
     "data": {
      "text/plain": [
       "array([0.9658599 , 0.4878148 , 0.9999244 , ..., 0.9826847 , 0.99909973,\n",
       "       0.9121903 ], dtype=float32)"
      ]
     },
     "execution_count": 9,
     "metadata": {
      "tags": []
     },
     "output_type": "execute_result"
    }
   ],
   "source": [
    "out_conf_score"
   ]
  },
  {
   "cell_type": "code",
   "execution_count": null,
   "metadata": {
    "colab": {
     "base_uri": "https://localhost:8080/",
     "height": 281
    },
    "executionInfo": {
     "elapsed": 695,
     "status": "ok",
     "timestamp": 1618420915821,
     "user": {
      "displayName": "Yuchong Geng",
      "photoUrl": "",
      "userId": "13573410025212938441"
     },
     "user_tz": 240
    },
    "id": "zhq1bfcTkkRQ",
    "outputId": "527d3dba-0bbd-4542-9fb6-341ddd7a7738"
   },
   "outputs": [
    {
     "data": {
      "image/png": "[encoded data removed]",
      "text/plain": [
       "<Figure size 432x288 with 1 Axes>"
      ]
     },
     "metadata": {
      "needs_background": "light",
      "tags": []
     },
     "output_type": "display_data"
    }
   ],
   "source": [
    "import matplotlib.pyplot as plt\n",
    "from matplotlib import colors\n",
    "from matplotlib.ticker import PercentFormatter\n",
    "fig, ax = plt.subplots()\n",
    "\n",
    "# the histogram of the data\n",
    "n, bins, patches = ax.hist(out_conf_score, density=True)\n",
    "\n",
    "ax.set_title(r'Out of Distribution')\n",
    "\n",
    "# Tweak spacing to prevent clipping of ylabel\n",
    "plt.show()"
   ]
  },
  {
   "cell_type": "code",
   "execution_count": null,
   "metadata": {
    "colab": {
     "base_uri": "https://localhost:8080/",
     "height": 281
    },
    "executionInfo": {
     "elapsed": 5996,
     "status": "ok",
     "timestamp": 1618334662165,
     "user": {
      "displayName": "Yuchong Geng",
      "photoUrl": "",
      "userId": "13573410025212938441"
     },
     "user_tz": 240
    },
    "id": "4yA37ejZNvhK",
    "outputId": "3a975585-defb-48de-c798-c8bd95479608"
   },
   "outputs": [
    {
     "data": {
      "image/png": "[encoded data removed]",
      "text/plain": [
       "<Figure size 432x288 with 1 Axes>"
      ]
     },
     "metadata": {
      "needs_background": "light",
      "tags": []
     },
     "output_type": "display_data"
    }
   ],
   "source": [
    "import matplotlib.pyplot as plt\n",
    "from matplotlib import colors\n",
    "from matplotlib.ticker import PercentFormatter\n",
    "fig, ax = plt.subplots()\n",
    "\n",
    "# the histogram of the data\n",
    "n, bins, patches = ax.hist(out_conf_score, density=True)\n",
    "\n",
    "ax.set_title(r'Out of Distribution')\n",
    "\n",
    "# Tweak spacing to prevent clipping of ylabel\n",
    "plt.show()"
   ]
  },
  {
   "cell_type": "code",
   "execution_count": null,
   "metadata": {
    "colab": {
     "base_uri": "https://localhost:8080/",
     "height": 281
    },
    "executionInfo": {
     "elapsed": 507,
     "status": "ok",
     "timestamp": 1618330887343,
     "user": {
      "displayName": "Yuchong Geng",
      "photoUrl": "",
      "userId": "13573410025212938441"
     },
     "user_tz": 240
    },
    "id": "QrJDTV0La6nC",
    "outputId": "75ca8b73-b663-4e76-c5a3-b033ea15c58d"
   },
   "outputs": [
    {
     "data": {
      "image/png": "[encoded data removed]",
      "text/plain": [
       "<Figure size 432x288 with 1 Axes>"
      ]
     },
     "metadata": {
      "needs_background": "light",
      "tags": []
     },
     "output_type": "display_data"
    }
   ],
   "source": [
    "import matplotlib.pyplot as plt\n",
    "from matplotlib import colors\n",
    "from matplotlib.ticker import PercentFormatter\n",
    "fig, ax = plt.subplots()\n",
    "\n",
    "# the histogram of the data\n",
    "n, bins, patches = ax.hist(out_conf_score, density=True)\n",
    "\n",
    "ax.set_title(r'Out of Distribution')\n",
    "\n",
    "# Tweak spacing to prevent clipping of ylabel\n",
    "plt.show()"
   ]
  },
  {
   "cell_type": "code",
   "execution_count": null,
   "metadata": {
    "colab": {
     "base_uri": "https://localhost:8080/",
     "height": 281
    },
    "executionInfo": {
     "elapsed": 530,
     "status": "ok",
     "timestamp": 1618001855847,
     "user": {
      "displayName": "Yuchong Geng",
      "photoUrl": "",
      "userId": "13573410025212938441"
     },
     "user_tz": 240
    },
    "id": "QUu2_ngRbL0_",
    "outputId": "1737ff43-55c4-4ae4-fad3-60d547a2c4f1"
   },
   "outputs": [
    {
     "data": {
      "image/png": "[encoded data removed]",
      "text/plain": [
       "<Figure size 432x288 with 1 Axes>"
      ]
     },
     "metadata": {
      "needs_background": "light",
      "tags": []
     },
     "output_type": "display_data"
    }
   ],
   "source": [
    "fig, ax = plt.subplots()\n",
    "\n",
    "# the histogram of the data\n",
    "n, bins, patches = ax.hist(in_conf_score, density=True)\n",
    "\n",
    "ax.set_title(r'In of Distribution')\n",
    "\n",
    "# Tweak spacing to prevent clipping of ylabel\n",
    "plt.show()"
   ]
  }
 ],
 "metadata": {
  "accelerator": "GPU",
  "colab": {
   "collapsed_sections": [],
   "name": "OECC_tune_cifar.ipynb",
   "provenance": []
  },
  "kernelspec": {
   "display_name": "Python 3",
   "language": "python",
   "name": "python3"
  },
  "language_info": {
   "codemirror_mode": {
    "name": "ipython",
    "version": 3
   },
   "file_extension": ".py",
   "mimetype": "text/x-python",
   "name": "python",
   "nbconvert_exporter": "python",
   "pygments_lexer": "ipython3",
   "version": "3.8.8"
  }
 },
 "nbformat": 4,
 "nbformat_minor": 1
}
