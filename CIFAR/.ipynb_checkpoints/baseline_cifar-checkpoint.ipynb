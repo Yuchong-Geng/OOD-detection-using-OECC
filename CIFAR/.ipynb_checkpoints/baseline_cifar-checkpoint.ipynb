{
 "cells": [
  {
   "cell_type": "code",
   "execution_count": 1,
   "metadata": {
    "executionInfo": {
     "elapsed": 645,
     "status": "ok",
     "timestamp": 1617943914104,
     "user": {
      "displayName": "Yuchong Geng",
      "photoUrl": "",
      "userId": "13573410025212938441"
     },
     "user_tz": 240
    },
    "id": "0YT3sxLYUSjI"
   },
   "outputs": [],
   "source": [
    "import sys\n",
    "sys.path.append('/home/yg534/OOD-detection-using-OECC')"
   ]
  },
  {
   "cell_type": "code",
   "execution_count": 3,
   "metadata": {
    "executionInfo": {
     "elapsed": 4346,
     "status": "ok",
     "timestamp": 1617943919050,
     "user": {
      "displayName": "Yuchong Geng",
      "photoUrl": "",
      "userId": "13573410025212938441"
     },
     "user_tz": 240
    },
    "id": "ONVykl6aUCb8",
    "scrolled": true
   },
   "outputs": [],
   "source": [
    "%reload_ext autoreload\n",
    "%autoreload 2\n",
    "import os, sys, argparse, time\n",
    "sys.path.append('..')\n",
    "\n",
    "import pickle\n",
    "import torch\n",
    "import seaborn as sns\n",
    "import torch.nn as nn\n",
    "import numpy as np\n",
    "import torch.backends.cudnn as cudnn\n",
    "import torchvision.transforms as trn\n",
    "import torchvision.datasets as dset\n",
    "from torch.utils.data import Subset\n",
    "import torch.nn.functional as F\n",
    "from tqdm import tqdm_notebook, tqdm\n",
    "from skimage.filters import gaussian as gblur\n",
    "from PIL import Image as PILImage\n",
    "import seaborn as sns\n",
    "\n",
    "from CIFAR.models.wrn import WideResNet \n",
    "from utils.display_results import show_performance, get_measures, print_measures, print_measures_with_std\n",
    "import utils.svhn_loader as svhn\n",
    "import utils.lsun_loader as lsun_loader\n",
    "\n",
    "import matplotlib.pyplot as plt\n",
    "from matplotlib import colors\n",
    "from matplotlib.ticker import PercentFormatter"
   ]
  },
  {
   "cell_type": "code",
   "execution_count": 4,
   "metadata": {
    "ExecuteTime": {
     "end_time": "2019-10-23T03:28:25.400259Z",
     "start_time": "2019-10-23T03:28:25.396089Z"
    },
    "executionInfo": {
     "elapsed": 591,
     "status": "ok",
     "timestamp": 1617943924792,
     "user": {
      "displayName": "Yuchong Geng",
      "photoUrl": "",
      "userId": "13573410025212938441"
     },
     "user_tz": 240
    },
    "id": "WWxU3iYD0X5O"
   },
   "outputs": [],
   "source": [
    "args = {\n",
    "        'calibration': '',\n",
    "        'epochs': 100,\n",
    "        'dataset':'cifar10',\n",
    "        'learning_rate': 0.1,\n",
    "        'batch_size': 128,\n",
    "        'test_bs': 200,\n",
    "        'model':'wrn',\n",
    "        'momentum': 0.9,\n",
    "        'decay': 0.0005,\n",
    "        'save':'/home/yg534/OOD-detection-using-OECC/CIFAR/',\n",
    "        'load': '',\n",
    "        'test': 'store_true',\n",
    "        'layers':40,\n",
    "        'widen_factor':2,\n",
    "        'droprate':0.3,\n",
    "        'ngpu': 4,\n",
    "        'prefetch': 4,    \n",
    "        }"
   ]
  },
  {
   "cell_type": "code",
   "execution_count": 5,
   "metadata": {
    "ExecuteTime": {
     "end_time": "2019-10-23T03:28:28.181002Z",
     "start_time": "2019-10-23T03:28:26.424910Z"
    },
    "colab": {
     "base_uri": "https://localhost:8080/"
    },
    "executionInfo": {
     "elapsed": 16017,
     "status": "ok",
     "timestamp": 1617943942930,
     "user": {
      "displayName": "Yuchong Geng",
      "photoUrl": "",
      "userId": "13573410025212938441"
     },
     "user_tz": 240
    },
    "id": "iVaB5bl_JVri",
    "outputId": "ecf4ef80-edab-4874-d82d-d6eb07ac54b7"
   },
   "outputs": [
    {
     "name": "stdout",
     "output_type": "stream",
     "text": [
      "Downloading https://www.cs.toronto.edu/~kriz/cifar-10-python.tar.gz to /home/yg534/OOD-detection-using-OECC/CIFAR/cifar-10-python.tar.gz\n"
     ]
    },
    {
     "data": {
      "application/vnd.jupyter.widget-view+json": {
       "model_id": "34305f8331464049aa8dcd0d2a0cf66c",
       "version_major": 2,
       "version_minor": 0
      },
      "text/plain": [
       "0it [00:00, ?it/s]"
      ]
     },
     "metadata": {},
     "output_type": "display_data"
    },
    {
     "name": "stdout",
     "output_type": "stream",
     "text": [
      "Extracting /home/yg534/OOD-detection-using-OECC/CIFAR/cifar-10-python.tar.gz to /home/yg534/OOD-detection-using-OECC/CIFAR/\n",
      "40000\n",
      "Files already downloaded and verified\n",
      "10000\n"
     ]
    }
   ],
   "source": [
    "root='/home/yg534/OOD-detection-using-OECC/CIFAR/dataset'\n",
    "\n",
    "state = {k: v for k, v in args.items()}\n",
    "\n",
    "torch.manual_seed(1)\n",
    "np.random.seed(1)\n",
    "\n",
    "\n",
    "# mean and standard deviation of channels of CIFAR-10 images\n",
    "mean = [x / 255 for x in [125.3, 123.0, 113.9]]\n",
    "std = [x / 255 for x in [63.0, 62.1, 66.7]]\n",
    "\n",
    "train_transform = trn.Compose([trn.RandomHorizontalFlip(), trn.RandomCrop(32, padding=4),\n",
    "                               trn.ToTensor(), trn.Normalize(mean, std)])\n",
    "test_transform = trn.Compose([trn.ToTensor(), trn.Normalize(mean, std)])\n",
    "\n",
    "def get_target_label_idx(labels, targets):\n",
    "    \"\"\"\n",
    "    Get the indices of labels that are included in targets.\n",
    "    :param labels: array of labels\n",
    "    :param targets: list/tuple of target labels\n",
    "    :return: list with indices of target labels\n",
    "    \"\"\"\n",
    "    return np.argwhere(np.isin(labels, targets)).flatten().tolist()\n",
    "\n",
    "\n",
    "# cifar 10 train\n",
    "cifar_10_train = dset.CIFAR10(root, train=True, download=True, transform=train_transform)\n",
    "class_name = ['airplane', 'automobile', 'bird', 'cat', 'deer', 'dog', 'frog', 'horse', 'ship', 'truck']\n",
    "\n",
    "train_idx_list = np.arange(len(cifar_10_train))\n",
    "train_local_idx = get_target_label_idx(cifar_10_train.targets, [0, 1, 2, 5, 6, 7, 8, 9])\n",
    "print(len(train_local_idx))\n",
    "train_data = Subset(cifar_10_train, train_local_idx)\n",
    "\n",
    "# cifar 10 test\n",
    "cifar_10_test = dset.CIFAR10(root, train=False, download=True, transform=test_transform)\n",
    "test_idx_list = np.arange(len(cifar_10_test))\n",
    "test_local_idx = get_target_label_idx(cifar_10_test.targets, [0, 1, 2, 3, 4, 5, 6, 7, 8, 9])\n",
    "print(len(test_local_idx))\n",
    "test_data = Subset(cifar_10_test, test_local_idx)\n",
    "num_classes = 10\n",
    "\n",
    "calib_indicator = ''\n",
    "if args['calibration']:\n",
    "    train_data, val_data = validation_split(train_data, val_share=0.1)\n",
    "    calib_indicator = '_calib'\n",
    "\n",
    "train_loader = torch.utils.data.DataLoader(\n",
    "    train_data, batch_size=args['batch_size'], shuffle=True,\n",
    "    num_workers=args['prefetch'], pin_memory=True)\n",
    "test_loader = torch.utils.data.DataLoader(\n",
    "    test_data, batch_size=args['test_bs'], shuffle=False,\n",
    "    num_workers=args['prefetch'], pin_memory=True)"
   ]
  },
  {
   "cell_type": "code",
   "execution_count": 6,
   "metadata": {
    "ExecuteTime": {
     "end_time": "2019-10-23T03:28:28.258452Z",
     "start_time": "2019-10-23T03:28:28.183854Z"
    },
    "executionInfo": {
     "elapsed": 6139,
     "status": "ok",
     "timestamp": 1617943953334,
     "user": {
      "displayName": "Yuchong Geng",
      "photoUrl": "",
      "userId": "13573410025212938441"
     },
     "user_tz": 240
    },
    "id": "DNmuZ5A6UCcD"
   },
   "outputs": [],
   "source": [
    "# Create model\n",
    "net = WideResNet(args['layers'], num_classes, args['widen_factor'], dropRate=args['droprate'])\n",
    "\n",
    "start_epoch = 0\n",
    "\n",
    "# Restore model if desired\n",
    "if args['load'] != '':\n",
    "    for i in range(1000 - 1, -1, -1):\n",
    "        model_name = os.path.join( args['load'], args['dataset'] + calib_indicator + '_' + args['model'] +\n",
    "                                  '_baseline_epoch_' + str(i) + '.pt')\n",
    "        if os.path.isfile(model_name):\n",
    "            net.load_state_dict(torch.load(model_name))\n",
    "            print('Model restored! Epoch:', i)\n",
    "            start_epoch = i + 1\n",
    "            break\n",
    "    if start_epoch == 0:\n",
    "        assert False, \"could not resume\"\n",
    "\n",
    "net.cuda()\n",
    "torch.cuda.manual_seed(1)\n",
    "cudnn.benchmark = True  # fire on all cylinders\n",
    "\n",
    "optimizer = torch.optim.SGD(\n",
    "    net.parameters(), state['learning_rate'], momentum=state['momentum'],\n",
    "    weight_decay=state['decay'], nesterov=True)\n",
    "\n",
    "\n",
    "def cosine_annealing(step, total_steps, lr_max, lr_min):\n",
    "    return lr_min + (lr_max - lr_min) * 0.5 * (\n",
    "            1 + np.cos(step / total_steps * np.pi))\n",
    "\n",
    "\n",
    "scheduler = torch.optim.lr_scheduler.LambdaLR(\n",
    "    optimizer,\n",
    "    lr_lambda=lambda step: cosine_annealing(\n",
    "        step,\n",
    "        args['epochs'] * len(train_loader),\n",
    "        1,  # since lr_lambda computes multiplicative factor\n",
    "        1e-6 / args['learning_rate']))"
   ]
  },
  {
   "cell_type": "code",
   "execution_count": 7,
   "metadata": {
    "ExecuteTime": {
     "end_time": "2019-10-23T04:34:36.132388Z",
     "start_time": "2019-10-23T03:28:29.487850Z"
    },
    "colab": {
     "base_uri": "https://localhost:8080/"
    },
    "executionInfo": {
     "elapsed": 1950194,
     "status": "ok",
     "timestamp": 1617945908499,
     "user": {
      "displayName": "Yuchong Geng",
      "photoUrl": "",
      "userId": "13573410025212938441"
     },
     "user_tz": 240
    },
    "id": "eQYV7aTgyGUQ",
    "outputId": "132f8c9b-9ad1-4655-ed7b-457943e287bc"
   },
   "outputs": [
    {
     "name": "stdout",
     "output_type": "stream",
     "text": [
      "Beginning Training\n",
      "\n"
     ]
    },
    {
     "name": "stderr",
     "output_type": "stream",
     "text": [
      "/home/yg534/.conda/envs/torch-gpu/lib/python3.8/site-packages/torch/optim/lr_scheduler.py:131: UserWarning: Detected call of `lr_scheduler.step()` before `optimizer.step()`. In PyTorch 1.1.0 and later, you should call them in the opposite order: `optimizer.step()` before `lr_scheduler.step()`.  Failure to do this will result in PyTorch skipping the first value of the learning rate schedule. See more details at https://pytorch.org/docs/stable/optim.html#how-to-adjust-learning-rate\n",
      "  warnings.warn(\"Detected call of `lr_scheduler.step()` before `optimizer.step()`. \"\n"
     ]
    },
    {
     "name": "stdout",
     "output_type": "stream",
     "text": [
      "Epoch   1 | Time    18 | Train Loss 1.0392 | Test Loss 3.175 | Test Error 53.76\n",
      "Epoch   2 | Time    17 | Train Loss 0.6893 | Test Loss 3.275 | Test Error 46.21\n",
      "Epoch   3 | Time    17 | Train Loss 0.6582 | Test Loss 2.823 | Test Error 43.13\n",
      "Epoch   4 | Time    17 | Train Loss 0.5706 | Test Loss 2.892 | Test Error 41.20\n",
      "Epoch   5 | Time    17 | Train Loss 0.5375 | Test Loss 2.695 | Test Error 39.09\n",
      "Epoch   6 | Time    17 | Train Loss 0.4495 | Test Loss 2.246 | Test Error 34.17\n",
      "Epoch   7 | Time    17 | Train Loss 0.4884 | Test Loss 2.283 | Test Error 35.40\n",
      "Epoch   8 | Time    17 | Train Loss 0.4467 | Test Loss 2.466 | Test Error 34.55\n",
      "Epoch   9 | Time    17 | Train Loss 0.3741 | Test Loss 2.458 | Test Error 34.34\n",
      "Epoch  10 | Time    17 | Train Loss 0.4052 | Test Loss 2.296 | Test Error 34.22\n",
      "Epoch  11 | Time    17 | Train Loss 0.4131 | Test Loss 2.384 | Test Error 33.54\n",
      "Epoch  12 | Time    17 | Train Loss 0.4135 | Test Loss 2.323 | Test Error 31.44\n",
      "Epoch  13 | Time    17 | Train Loss 0.3905 | Test Loss 2.261 | Test Error 33.27\n",
      "Epoch  14 | Time    17 | Train Loss 0.3520 | Test Loss 1.969 | Test Error 31.05\n",
      "Epoch  15 | Time    17 | Train Loss 0.3951 | Test Loss 2.516 | Test Error 32.75\n",
      "Epoch  16 | Time    17 | Train Loss 0.2971 | Test Loss 2.223 | Test Error 30.17\n",
      "Epoch  17 | Time    18 | Train Loss 0.3461 | Test Loss 2.489 | Test Error 32.13\n",
      "Epoch  18 | Time    17 | Train Loss 0.2911 | Test Loss 2.470 | Test Error 33.23\n",
      "Epoch  19 | Time    17 | Train Loss 0.3097 | Test Loss 2.519 | Test Error 34.92\n",
      "Epoch  20 | Time    17 | Train Loss 0.3137 | Test Loss 2.516 | Test Error 34.15\n",
      "Epoch  21 | Time    18 | Train Loss 0.3219 | Test Loss 2.318 | Test Error 34.40\n",
      "Epoch  22 | Time    17 | Train Loss 0.3206 | Test Loss 2.390 | Test Error 30.78\n",
      "Epoch  23 | Time    18 | Train Loss 0.3369 | Test Loss 2.626 | Test Error 31.64\n",
      "Epoch  24 | Time    17 | Train Loss 0.3127 | Test Loss 2.178 | Test Error 29.49\n",
      "Epoch  25 | Time    17 | Train Loss 0.3004 | Test Loss 2.778 | Test Error 32.53\n",
      "Epoch  26 | Time    17 | Train Loss 0.3422 | Test Loss 2.180 | Test Error 31.67\n",
      "Epoch  27 | Time    17 | Train Loss 0.2825 | Test Loss 2.180 | Test Error 29.70\n",
      "Epoch  28 | Time    17 | Train Loss 0.2904 | Test Loss 2.116 | Test Error 29.35\n",
      "Epoch  29 | Time    17 | Train Loss 0.2694 | Test Loss 2.007 | Test Error 29.01\n",
      "Epoch  30 | Time    17 | Train Loss 0.2485 | Test Loss 2.031 | Test Error 28.71\n",
      "Epoch  31 | Time    17 | Train Loss 0.2750 | Test Loss 2.233 | Test Error 28.76\n",
      "Epoch  32 | Time    17 | Train Loss 0.2981 | Test Loss 2.238 | Test Error 29.31\n",
      "Epoch  33 | Time    17 | Train Loss 0.2877 | Test Loss 2.205 | Test Error 28.45\n",
      "Epoch  34 | Time    17 | Train Loss 0.2780 | Test Loss 2.318 | Test Error 30.24\n",
      "Epoch  35 | Time    17 | Train Loss 0.2515 | Test Loss 2.074 | Test Error 30.48\n",
      "Epoch  36 | Time    17 | Train Loss 0.2792 | Test Loss 2.140 | Test Error 28.69\n",
      "Epoch  37 | Time    17 | Train Loss 0.3109 | Test Loss 2.269 | Test Error 30.23\n",
      "Epoch  38 | Time    17 | Train Loss 0.2434 | Test Loss 2.225 | Test Error 27.37\n",
      "Epoch  39 | Time    17 | Train Loss 0.2471 | Test Loss 2.595 | Test Error 31.02\n",
      "Epoch  40 | Time    17 | Train Loss 0.2670 | Test Loss 2.104 | Test Error 27.15\n",
      "Epoch  41 | Time    17 | Train Loss 0.2430 | Test Loss 2.085 | Test Error 28.02\n",
      "Epoch  42 | Time    17 | Train Loss 0.2350 | Test Loss 2.099 | Test Error 27.44\n",
      "Epoch  43 | Time    17 | Train Loss 0.2265 | Test Loss 2.362 | Test Error 29.25\n",
      "Epoch  44 | Time    17 | Train Loss 0.2033 | Test Loss 2.158 | Test Error 26.66\n",
      "Epoch  45 | Time    17 | Train Loss 0.2714 | Test Loss 2.077 | Test Error 28.89\n",
      "Epoch  46 | Time    17 | Train Loss 0.2243 | Test Loss 2.182 | Test Error 26.90\n",
      "Epoch  47 | Time    17 | Train Loss 0.2654 | Test Loss 2.130 | Test Error 27.87\n",
      "Epoch  48 | Time    17 | Train Loss 0.2077 | Test Loss 2.440 | Test Error 26.56\n",
      "Epoch  49 | Time    17 | Train Loss 0.2410 | Test Loss 2.059 | Test Error 26.38\n",
      "Epoch  50 | Time    18 | Train Loss 0.1900 | Test Loss 2.125 | Test Error 27.08\n",
      "Epoch  51 | Time    17 | Train Loss 0.1950 | Test Loss 2.067 | Test Error 26.67\n",
      "Epoch  52 | Time    17 | Train Loss 0.2144 | Test Loss 2.146 | Test Error 27.11\n",
      "Epoch  53 | Time    17 | Train Loss 0.1880 | Test Loss 2.156 | Test Error 25.76\n",
      "Epoch  54 | Time    17 | Train Loss 0.1793 | Test Loss 2.413 | Test Error 26.83\n",
      "Epoch  55 | Time    17 | Train Loss 0.1733 | Test Loss 2.243 | Test Error 27.70\n",
      "Epoch  56 | Time    17 | Train Loss 0.1636 | Test Loss 2.223 | Test Error 26.58\n",
      "Epoch  57 | Time    17 | Train Loss 0.1577 | Test Loss 2.059 | Test Error 25.88\n",
      "Epoch  58 | Time    17 | Train Loss 0.1722 | Test Loss 2.013 | Test Error 25.94\n",
      "Epoch  59 | Time    17 | Train Loss 0.1494 | Test Loss 2.112 | Test Error 26.52\n",
      "Epoch  60 | Time    17 | Train Loss 0.1661 | Test Loss 2.239 | Test Error 26.64\n",
      "Epoch  61 | Time    18 | Train Loss 0.1663 | Test Loss 2.249 | Test Error 27.78\n",
      "Epoch  62 | Time    17 | Train Loss 0.1243 | Test Loss 2.278 | Test Error 26.12\n",
      "Epoch  63 | Time    18 | Train Loss 0.1197 | Test Loss 2.181 | Test Error 25.37\n",
      "Epoch  64 | Time    18 | Train Loss 0.1679 | Test Loss 2.280 | Test Error 26.74\n",
      "Epoch  65 | Time    17 | Train Loss 0.1678 | Test Loss 2.448 | Test Error 26.09\n",
      "Epoch  66 | Time    17 | Train Loss 0.1517 | Test Loss 1.995 | Test Error 25.00\n",
      "Epoch  67 | Time    17 | Train Loss 0.1385 | Test Loss 2.182 | Test Error 25.51\n",
      "Epoch  68 | Time    17 | Train Loss 0.1281 | Test Loss 2.095 | Test Error 24.88\n",
      "Epoch  69 | Time    17 | Train Loss 0.1152 | Test Loss 2.320 | Test Error 26.11\n",
      "Epoch  70 | Time    17 | Train Loss 0.1132 | Test Loss 2.179 | Test Error 24.86\n",
      "Epoch  71 | Time    17 | Train Loss 0.1155 | Test Loss 2.157 | Test Error 25.17\n",
      "Epoch  72 | Time    17 | Train Loss 0.0978 | Test Loss 2.183 | Test Error 24.62\n",
      "Epoch  73 | Time    17 | Train Loss 0.1001 | Test Loss 2.171 | Test Error 24.65\n",
      "Epoch  74 | Time    17 | Train Loss 0.0780 | Test Loss 2.359 | Test Error 24.75\n",
      "Epoch  75 | Time    17 | Train Loss 0.0876 | Test Loss 2.125 | Test Error 24.29\n",
      "Epoch  76 | Time    17 | Train Loss 0.0992 | Test Loss 2.274 | Test Error 24.71\n",
      "Epoch  77 | Time    17 | Train Loss 0.0674 | Test Loss 2.208 | Test Error 24.28\n",
      "Epoch  78 | Time    17 | Train Loss 0.0463 | Test Loss 2.265 | Test Error 24.07\n",
      "Epoch  79 | Time    17 | Train Loss 0.0646 | Test Loss 2.244 | Test Error 23.84\n",
      "Epoch  80 | Time    18 | Train Loss 0.0656 | Test Loss 2.278 | Test Error 23.95\n",
      "Epoch  81 | Time    17 | Train Loss 0.0413 | Test Loss 2.236 | Test Error 23.73\n",
      "Epoch  82 | Time    17 | Train Loss 0.0395 | Test Loss 2.209 | Test Error 23.82\n",
      "Epoch  83 | Time    17 | Train Loss 0.0429 | Test Loss 2.262 | Test Error 23.61\n",
      "Epoch  84 | Time    17 | Train Loss 0.0430 | Test Loss 2.303 | Test Error 23.56\n",
      "Epoch  85 | Time    17 | Train Loss 0.0266 | Test Loss 2.259 | Test Error 23.52\n",
      "Epoch  86 | Time    18 | Train Loss 0.0384 | Test Loss 2.358 | Test Error 23.60\n",
      "Epoch  87 | Time    18 | Train Loss 0.0195 | Test Loss 2.342 | Test Error 23.31\n",
      "Epoch  88 | Time    18 | Train Loss 0.0217 | Test Loss 2.334 | Test Error 23.29\n",
      "Epoch  89 | Time    17 | Train Loss 0.0223 | Test Loss 2.340 | Test Error 23.04\n",
      "Epoch  90 | Time    17 | Train Loss 0.0128 | Test Loss 2.386 | Test Error 23.19\n",
      "Epoch  91 | Time    17 | Train Loss 0.0128 | Test Loss 2.411 | Test Error 23.11\n",
      "Epoch  92 | Time    17 | Train Loss 0.0110 | Test Loss 2.393 | Test Error 23.11\n",
      "Epoch  93 | Time    17 | Train Loss 0.0122 | Test Loss 2.369 | Test Error 22.88\n",
      "Epoch  94 | Time    17 | Train Loss 0.0167 | Test Loss 2.401 | Test Error 22.97\n",
      "Epoch  95 | Time    17 | Train Loss 0.0137 | Test Loss 2.403 | Test Error 22.86\n",
      "Epoch  96 | Time    17 | Train Loss 0.0176 | Test Loss 2.400 | Test Error 22.97\n",
      "Epoch  97 | Time    17 | Train Loss 0.0088 | Test Loss 2.388 | Test Error 22.94\n",
      "Epoch  98 | Time    17 | Train Loss 0.0114 | Test Loss 2.401 | Test Error 22.93\n",
      "Epoch  99 | Time    17 | Train Loss 0.0123 | Test Loss 2.408 | Test Error 22.86\n",
      "Epoch 100 | Time    17 | Train Loss 0.0119 | Test Loss 2.396 | Test Error 22.96\n"
     ]
    }
   ],
   "source": [
    "# /////////////// Training ///////////////\n",
    "def train():\n",
    "    net.train()  # enter train mode\n",
    "    loss_avg = 0.0\n",
    "    for data, target in train_loader:\n",
    "        data, target = data.cuda(), target.cuda()\n",
    "\n",
    "        # forward\n",
    "        x = net(data)\n",
    "\n",
    "        # backward\n",
    "        scheduler.step()\n",
    "        optimizer.zero_grad()\n",
    "        loss = F.cross_entropy(x, target)\n",
    "        loss.backward()\n",
    "        optimizer.step()\n",
    "\n",
    "        # exponential moving average\n",
    "        loss_avg = loss_avg * 0.8 + float(loss) * 0.2\n",
    "\n",
    "    state['train_loss'] = loss_avg\n",
    "\n",
    "# test function\n",
    "def test():\n",
    "    net.eval()\n",
    "    loss_avg = 0.0\n",
    "    correct = 0\n",
    "    with torch.no_grad():\n",
    "        for data, target in test_loader:\n",
    "            data, target = data.cuda(), target.cuda()\n",
    "\n",
    "            # forward\n",
    "            output = net(data)\n",
    "            loss = F.cross_entropy(output, target)\n",
    "\n",
    "            # accuracy\n",
    "            pred = output.data.max(1)[1]\n",
    "            correct += pred.eq(target.data).sum().item()\n",
    "\n",
    "            # test loss average\n",
    "            loss_avg += float(loss.data)        \n",
    "    \n",
    "    state['test_loss'] = loss_avg / len(test_loader)\n",
    "    state['test_accuracy'] = correct / len(test_loader.dataset)\n",
    "\n",
    "\n",
    "# Make save directory\n",
    "if not os.path.exists(args['save']):\n",
    "    os.makedirs(args['save'])\n",
    "if not os.path.isdir(args['save']):\n",
    "    raise Exception('%s is not a dir' % args['save'])\n",
    "\n",
    "with open(os.path.join(args['save'], args['dataset'] + calib_indicator + '_' + args['model'] +\n",
    "                                  '_baseline_training_results.csv'), 'w') as f:\n",
    "    f.write('epoch,time(s),train_loss,test_loss,test_error(%)\\n')\n",
    "\n",
    "print('Beginning Training\\n')\n",
    "\n",
    "# Main loop\n",
    "for epoch in range(start_epoch, args['epochs']):\n",
    "    state['epoch'] = epoch\n",
    "\n",
    "    begin_epoch = time.time()\n",
    "\n",
    "    train()\n",
    "    test()\n",
    "\n",
    "    # Save model\n",
    "    torch.save(net.state_dict(),\n",
    "               os.path.join('/home/yg534/OOD-detection-using-OECC/CIFAR/models/cam1_model' + '.pt'))\n",
    "\n",
    "\n",
    "    # Show results\n",
    "\n",
    "    with open(os.path.join(args['save'], args['dataset'] + calib_indicator + '_' + args['model'] +\n",
    "                                      '_baseline_training_results.csv'), 'a') as f:\n",
    "        f.write('%03d,%05d,%0.6f,%0.5f,%0.2f\\n' % (\n",
    "            (epoch + 1),\n",
    "            time.time() - begin_epoch,\n",
    "            state['train_loss'],\n",
    "            state['test_loss'],\n",
    "            100 - 100. * state['test_accuracy']\n",
    "        ))\n",
    "\n",
    "    print('Epoch {0:3d} | Time {1:5d} | Train Loss {2:.4f} | Test Loss {3:.3f} | Test Error {4:.2f}'.format(\n",
    "        (epoch + 1),\n",
    "        int(time.time() - begin_epoch),\n",
    "        state['train_loss'],\n",
    "        state['test_loss'],\n",
    "        100 - 100. * state['test_accuracy'])\n",
    "    )\n"
   ]
  },
  {
   "cell_type": "code",
   "execution_count": 14,
   "metadata": {
    "executionInfo": {
     "elapsed": 527,
     "status": "ok",
     "timestamp": 1617946127516,
     "user": {
      "displayName": "Yuchong Geng",
      "photoUrl": "",
      "userId": "13573410025212938441"
     },
     "user_tz": 240
    },
    "id": "mo1ayNY9Fvgv"
   },
   "outputs": [],
   "source": [
    "path = F\"/content/drive/MyDrive/distributed_learning/OOD-detection-using-OECC/CIFAR/baseline model/baseline_model.pt\"\n",
    "torch.save(net.state_dict(), path)"
   ]
  },
  {
   "cell_type": "code",
   "execution_count": null,
   "metadata": {
    "colab": {
     "base_uri": "https://localhost:8080/"
    },
    "executionInfo": {
     "elapsed": 5521,
     "status": "ok",
     "timestamp": 1617936294642,
     "user": {
      "displayName": "Yuchong Geng",
      "photoUrl": "",
      "userId": "13573410025212938441"
     },
     "user_tz": 240
    },
    "id": "nq7-c7-shGa9",
    "outputId": "5b06afb2-4ec5-4dab-ab0e-29cfd8d4c9a8"
   },
   "outputs": [
    {
     "name": "stderr",
     "output_type": "stream",
     "text": [
      "/usr/local/lib/python3.7/dist-packages/torch/utils/data/dataloader.py:477: UserWarning: This DataLoader will create 4 worker processes in total. Our suggested max number of worker in current system is 2, which is smaller than what this DataLoader is going to create. Please be aware that excessive worker creation might get DataLoader running slow or even freeze, lower the worker number to avoid potential slowness/freeze if necessary.\n",
      "  cpuset_checked))\n"
     ]
    },
    {
     "name": "stdout",
     "output_type": "stream",
     "text": [
      "Error Rate 3.70\n",
      "\n",
      "Using CIFAR-10 as typical data\n",
      "\n",
      "\n",
      "CIFAR-100 Detection\n",
      "FPR95:\t\t\t57.38\n",
      "AUROC: \t\t\t87.75\n",
      "AUPR:  \t\t\t62.96\n"
     ]
    },
    {
     "name": "stderr",
     "output_type": "stream",
     "text": [
      "/usr/local/lib/python3.7/dist-packages/torch/utils/data/dataloader.py:477: UserWarning: This DataLoader will create 4 worker processes in total. Our suggested max number of worker in current system is 2, which is smaller than what this DataLoader is going to create. Please be aware that excessive worker creation might get DataLoader running slow or even freeze, lower the worker number to avoid potential slowness/freeze if necessary.\n",
      "  cpuset_checked))\n"
     ]
    },
    {
     "name": "stdout",
     "output_type": "stream",
     "text": [
      "\n",
      "\n",
      "Mean Test Results\n",
      "FPR95:\t\t\t57.38\n",
      "AUROC: \t\t\t87.75\n",
      "AUPR:  \t\t\t62.96\n"
     ]
    }
   ],
   "source": [
    "net.eval()\n",
    "\n",
    "\n",
    "# /////////////// Detection Prelims ///////////////\n",
    "\n",
    "ood_num_examples = len(test_data) // 5\n",
    "expected_ap = ood_num_examples / (ood_num_examples + len(test_data))\n",
    "\n",
    "concat = lambda x: np.concatenate(x, axis=0)\n",
    "to_np = lambda x: x.data.cpu().numpy()\n",
    "\n",
    "\n",
    "def get_ood_scores(loader, in_dist=False):\n",
    "    _score = []\n",
    "    out_conf_score = []\n",
    "    in_conf_score = []\n",
    "    _right_score = []\n",
    "    _wrong_score = []\n",
    "\n",
    "    with torch.no_grad():\n",
    "        for batch_idx, (data, target) in enumerate(loader):\n",
    "            if batch_idx >= ood_num_examples // args[\n",
    "                    'test_bs'] and in_dist is False:\n",
    "                break\n",
    "\n",
    "#             data = data.cuda(device)\n",
    "            data = data.cuda()\n",
    "\n",
    "            output = net(data)\n",
    "            smax = to_np(F.softmax(output, dim=1))\n",
    "\n",
    "            if True:\n",
    "                _score.append(\n",
    "                    to_np((output.mean(1) - torch.logsumexp(output, dim=1))))\n",
    "                out_conf_score.append(np.max(smax, axis=1))\n",
    "            else:\n",
    "                _score.append(-np.max(smax, axis=1))\n",
    "                out_conf_score.append(np.max(smax, axis=1))\n",
    "\n",
    "            if in_dist:\n",
    "                in_conf_score.append(np.max(smax, axis=1))\n",
    "                preds = np.argmax(smax, axis=1)\n",
    "                targets = target.numpy().squeeze()\n",
    "                right_indices = preds == targets\n",
    "                wrong_indices = np.invert(right_indices)\n",
    "\n",
    "                if False:\n",
    "                    _right_score.append(\n",
    "                        to_np((output.mean(1) -\n",
    "                               torch.logsumexp(output, dim=1)))[right_indices])\n",
    "                    _wrong_score.append(\n",
    "                        to_np((output.mean(1) -\n",
    "                               torch.logsumexp(output, dim=1)))[wrong_indices])\n",
    "                else:\n",
    "                    _right_score.append(-np.max(smax[right_indices], axis=1))\n",
    "                    _wrong_score.append(-np.max(smax[wrong_indices], axis=1))\n",
    "\n",
    "    if in_dist:\n",
    "        return concat(in_conf_score).copy(), concat(_score).copy(), concat(_right_score).copy(), concat(_wrong_score).copy()\n",
    "    else:\n",
    "        return concat(out_conf_score).copy(), concat(_score)[:ood_num_examples].copy()\n",
    "\n",
    "\n",
    "in_conf_score, in_score, right_score, wrong_score = get_ood_scores(test_loader, in_dist=True)\n",
    "\n",
    "num_right = len(right_score)\n",
    "num_wrong = len(wrong_score)\n",
    "print('Error Rate {:.2f}'.format(100 * num_wrong / (num_wrong + num_right)))\n",
    "# f.write('\\nError Rate {:.2f}'.format(100 * num_wrong /\n",
    "#                                      (num_wrong + num_right)))\n",
    "\n",
    "# /////////////// End Detection Prelims ///////////////\n",
    "\n",
    "print('\\nUsing CIFAR-10 as typical data') if num_classes == 10 else print(\n",
    "    '\\nUsing CIFAR-100 as typical data')\n",
    "# f.write('\\nUsing CIFAR-10 as typical data') if num_classes == 10 else f.write(\n",
    "#     '\\nUsing CIFAR-100 as typical data')\n",
    "\n",
    "# /////////////// Error Detection ///////////////\n",
    "\n",
    "# print('\\n\\nError Detection')\n",
    "# f.write('\\n\\nError Detection')\n",
    "# show_performance(wrong_score, right_score, f, method_name=args['method_name'])\n",
    "\n",
    "# /////////////// OOD Detection ///////////////\n",
    "auroc_list, aupr_list, fpr_list = [], [], []\n",
    "\n",
    "\n",
    "def get_and_print_results(ood_loader, num_to_avg=1):\n",
    "\n",
    "    aurocs, auprs, fprs = [], [], []\n",
    "    for _ in range(num_to_avg):\n",
    "        out_conf_score, out_score = get_ood_scores(ood_loader)\n",
    "        measures = get_measures(out_score, in_score)\n",
    "        aurocs.append(measures[0])\n",
    "        auprs.append(measures[1])\n",
    "        fprs.append(measures[2])\n",
    "\n",
    "    auroc = np.mean(aurocs)\n",
    "    aupr = np.mean(auprs)\n",
    "    fpr = np.mean(fprs)\n",
    "    auroc_list.append(auroc)\n",
    "    aupr_list.append(aupr)\n",
    "    fpr_list.append(fpr)\n",
    "\n",
    "    if num_to_avg >= 5:\n",
    "        print_measures_with_std(aurocs, auprs, fprs, f, 'cifar10_wrn_OECC_tune')\n",
    "    else:\n",
    "        print_measures(auroc, aupr, fpr, f, 'cifar10_wrn_OECC_tune')\n",
    "    return out_conf_score    \n",
    "\n",
    "\n",
    "\n",
    "\n",
    "# /////////////// CIFAR Data ///////////////\n",
    "\n",
    "\n",
    "ood_idx = get_target_label_idx(cifar_10_train.targets, [3, 4])\n",
    "ood_data = Subset(cifar_10_train, ood_idx)\n",
    "\n",
    "\n",
    "\n",
    "ood_loader = torch.utils.data.DataLoader(ood_data,\n",
    "                                         batch_size=args['test_bs'],\n",
    "                                         shuffle=True,\n",
    "                                         num_workers=args['prefetch'],\n",
    "                                         pin_memory=True)\n",
    "\n",
    "print(\n",
    "    '\\n\\nCIFAR-100 Detection') if True else print(\n",
    "        '\\n\\nCIFAR-10 Detection')\n",
    "# f.write('\\n\\nCIFAR-100 Detection'\n",
    "#         ) if 'cifar10_' in args['method_name'] else f.write(\n",
    "#             '\\n\\nCIFAR-10 Detection')\n",
    "get_and_print_results(ood_loader)\n",
    "out_conf_score, out_score = get_ood_scores(ood_loader, in_dist=False)\n",
    "# /////////////// Mean Results ///////////////\n",
    "\n",
    "print('\\n\\nMean Test Results')\n",
    "# f.write('\\n\\nMean Test Results')\n",
    "print_measures(np.mean(auroc_list),\n",
    "               np.mean(aupr_list),\n",
    "               np.mean(fpr_list),\n",
    "               f,\n",
    "               method_name='cifar10_wrn_OECC_tune')\n",
    "# f.close()"
   ]
  },
  {
   "cell_type": "code",
   "execution_count": null,
   "metadata": {
    "colab": {
     "base_uri": "https://localhost:8080/"
    },
    "executionInfo": {
     "elapsed": 474,
     "status": "ok",
     "timestamp": 1617936023074,
     "user": {
      "displayName": "Yuchong Geng",
      "photoUrl": "",
      "userId": "13573410025212938441"
     },
     "user_tz": 240
    },
    "id": "49I1PAy5uUBE",
    "outputId": "7b534670-10a4-41f2-a0af-23538e17bc76"
   },
   "outputs": [
    {
     "data": {
      "text/plain": [
       "array([-0.99999666, -0.99549496, -0.9985436 , ..., -0.9997445 ,\n",
       "       -0.9999893 , -0.99996316], dtype=float32)"
      ]
     },
     "execution_count": 32,
     "metadata": {
      "tags": []
     },
     "output_type": "execute_result"
    }
   ],
   "source": [
    "in_score"
   ]
  },
  {
   "cell_type": "code",
   "execution_count": null,
   "metadata": {
    "colab": {
     "base_uri": "https://localhost:8080/",
     "height": 281
    },
    "executionInfo": {
     "elapsed": 448,
     "status": "ok",
     "timestamp": 1617936707070,
     "user": {
      "displayName": "Yuchong Geng",
      "photoUrl": "",
      "userId": "13573410025212938441"
     },
     "user_tz": 240
    },
    "id": "gP2TeOzHuYFX",
    "outputId": "fec4d572-23bf-42ba-a4d6-5d8a996c7ed7"
   },
   "outputs": [
    {
     "data": {
      "image/png": "[encoded data removed]",
      "text/plain": [
       "<Figure size 432x288 with 1 Axes>"
      ]
     },
     "metadata": {
      "needs_background": "light",
      "tags": []
     },
     "output_type": "display_data"
    }
   ],
   "source": [
    "fig, ax = plt.subplots()\n",
    "\n",
    "# the histogram of the data\n",
    "n, bins, patches = ax.hist(in_score, density=True)\n",
    "\n",
    "ax.set_title(r'In Distribution')\n",
    "\n",
    "# Tweak spacing to prevent clipping of ylabel\n",
    "plt.show()"
   ]
  },
  {
   "cell_type": "code",
   "execution_count": null,
   "metadata": {
    "colab": {
     "base_uri": "https://localhost:8080/",
     "height": 281
    },
    "executionInfo": {
     "elapsed": 631,
     "status": "ok",
     "timestamp": 1617936310999,
     "user": {
      "displayName": "Yuchong Geng",
      "photoUrl": "",
      "userId": "13573410025212938441"
     },
     "user_tz": 240
    },
    "id": "-59aFuyCySvg",
    "outputId": "54a9d0d8-ae60-4142-ea46-785f107a8b46"
   },
   "outputs": [
    {
     "data": {
      "image/png": "[encoded data removed]",
      "text/plain": [
       "<Figure size 432x288 with 1 Axes>"
      ]
     },
     "metadata": {
      "needs_background": "light",
      "tags": []
     },
     "output_type": "display_data"
    }
   ],
   "source": [
    "fig, ax = plt.subplots()\n",
    "\n",
    "# the histogram of the data\n",
    "n, bins, patches = ax.hist(out_score, density=True)\n",
    "\n",
    "ax.set_title(r'Out of Distribution')\n",
    "\n",
    "# Tweak spacing to prevent clipping of ylabel\n",
    "plt.show()"
   ]
  }
 ],
 "metadata": {
  "accelerator": "GPU",
  "colab": {
   "collapsed_sections": [],
   "name": "baseline_cifar.ipynb",
   "provenance": []
  },
  "kernelspec": {
   "display_name": "Python 3",
   "language": "python",
   "name": "python3"
  },
  "language_info": {
   "codemirror_mode": {
    "name": "ipython",
    "version": 3
   },
   "file_extension": ".py",
   "mimetype": "text/x-python",
   "name": "python",
   "nbconvert_exporter": "python",
   "pygments_lexer": "ipython3",
   "version": "3.8.8"
  }
 },
 "nbformat": 4,
 "nbformat_minor": 1
}
